{
  "nbformat": 4,
  "nbformat_minor": 0,
  "metadata": {
    "colab": {
      "name": "02_models_layers.ipynb",
      "provenance": [],
      "authorship_tag": "ABX9TyMz7Uw9RBsQnymDjqDWrmmE",
      "include_colab_link": true
    },
    "kernelspec": {
      "name": "python3",
      "display_name": "Python 3"
    }
  },
  "cells": [
    {
      "cell_type": "markdown",
      "metadata": {
        "id": "view-in-github",
        "colab_type": "text"
      },
      "source": [
        "<a href=\"https://colab.research.google.com/github/DorotaJanosz/neural-network-course/blob/master/02_keras/02_models_layers.ipynb\" target=\"_parent\"><img src=\"https://colab.research.google.com/assets/colab-badge.svg\" alt=\"Open In Colab\"/></a>"
      ]
    },
    {
      "cell_type": "code",
      "metadata": {
        "id": "UjBFp-AJ2Suq"
      },
      "source": [
        "import numpy as np\n",
        "import plotly.express as px\n",
        "\n",
        "import tensorflow as tf\n",
        "from tensorflow.keras.datasets.mnist import load_data\n",
        "from tensorflow.keras.models import Sequential\n",
        "from tensorflow.keras.layers import Dense, Flatten, Dropout"
      ],
      "execution_count": 13,
      "outputs": []
    },
    {
      "cell_type": "code",
      "metadata": {
        "id": "7zkUVDaB5JFF",
        "outputId": "e75655aa-1328-40ec-f992-3104d67ee051",
        "colab": {
          "base_uri": "https://localhost:8080/",
          "height": 90
        }
      },
      "source": [
        "(X_train, y_train), (X_test, y_test) = load_data()\n",
        "\n",
        "print(f'X_train shape: {X_train.shape}')\n",
        "print(f'y_train shape: {y_train.shape}')\n",
        "print(f'X_test shape: {X_test.shape}')\n",
        "print(f'y_test shape: {y_test.shape}')"
      ],
      "execution_count": 14,
      "outputs": [
        {
          "output_type": "stream",
          "text": [
            "X_train shape: (60000, 28, 28)\n",
            "y_train shape: (60000,)\n",
            "X_test shape: (10000, 28, 28)\n",
            "y_test shape: (10000,)\n"
          ],
          "name": "stdout"
        }
      ]
    },
    {
      "cell_type": "code",
      "metadata": {
        "id": "yBZ8ImNt5uP6"
      },
      "source": [
        "X_train = X_train / 255.\n",
        "X_test = X_test / 255."
      ],
      "execution_count": 15,
      "outputs": []
    },
    {
      "cell_type": "code",
      "metadata": {
        "id": "VGvB54BH50MK",
        "outputId": "72394539-58f1-4960-b856-24bce3a01042",
        "colab": {
          "base_uri": "https://localhost:8080/",
          "height": 308
        }
      },
      "source": [
        "model = Sequential()\n",
        "model.add(Flatten(input_shape=(28, 28))) \n",
        "model.add(Dense(units=128, activation='relu'))\n",
        "model.add(Dropout(0.2)) \n",
        "model.add(Dense(units=10, activation='softmax'))\n",
        "\n",
        "model.compile(optimizer='adam', loss='categorical_crossentropy', metrics=['accuracy'])\n",
        "model.summary()\n"
      ],
      "execution_count": 16,
      "outputs": [
        {
          "output_type": "stream",
          "text": [
            "Model: \"sequential_4\"\n",
            "_________________________________________________________________\n",
            "Layer (type)                 Output Shape              Param #   \n",
            "=================================================================\n",
            "flatten_3 (Flatten)          (None, 784)               0         \n",
            "_________________________________________________________________\n",
            "dense_5 (Dense)              (None, 128)               100480    \n",
            "_________________________________________________________________\n",
            "dropout_3 (Dropout)          (None, 128)               0         \n",
            "_________________________________________________________________\n",
            "dense_6 (Dense)              (None, 10)                1290      \n",
            "=================================================================\n",
            "Total params: 101,770\n",
            "Trainable params: 101,770\n",
            "Non-trainable params: 0\n",
            "_________________________________________________________________\n"
          ],
          "name": "stdout"
        }
      ]
    },
    {
      "cell_type": "code",
      "metadata": {
        "id": "dlJO4nZ454fQ",
        "outputId": "a2aa7d32-5a53-4e81-c11b-aff72db48716",
        "colab": {
          "base_uri": "https://localhost:8080/",
          "height": 144
        }
      },
      "source": [
        "from tensorflow.keras.utils import to_categorical\n",
        "y_train = to_categorical(y_train)\n",
        "y_train"
      ],
      "execution_count": 17,
      "outputs": [
        {
          "output_type": "execute_result",
          "data": {
            "text/plain": [
              "array([[0., 0., 0., ..., 0., 0., 0.],\n",
              "       [1., 0., 0., ..., 0., 0., 0.],\n",
              "       [0., 0., 0., ..., 0., 0., 0.],\n",
              "       ...,\n",
              "       [0., 0., 0., ..., 0., 0., 0.],\n",
              "       [0., 0., 0., ..., 0., 0., 0.],\n",
              "       [0., 0., 0., ..., 0., 1., 0.]], dtype=float32)"
            ]
          },
          "metadata": {
            "tags": []
          },
          "execution_count": 17
        }
      ]
    },
    {
      "cell_type": "code",
      "metadata": {
        "id": "FYY2tWVoB9Wg",
        "outputId": "bd1d0ded-52a3-47f5-f247-36fe2a4d8bd9",
        "colab": {
          "base_uri": "https://localhost:8080/",
          "height": 399
        }
      },
      "source": [
        "model.fit(X_train, y_train, batch_size=32, epochs=10, validation_split=0.2)"
      ],
      "execution_count": 18,
      "outputs": [
        {
          "output_type": "stream",
          "text": [
            "Epoch 1/10\n",
            "1500/1500 [==============================] - 4s 2ms/step - loss: 0.3271 - accuracy: 0.9049 - val_loss: 0.1680 - val_accuracy: 0.9498\n",
            "Epoch 2/10\n",
            "1500/1500 [==============================] - 4s 2ms/step - loss: 0.1602 - accuracy: 0.9527 - val_loss: 0.1154 - val_accuracy: 0.9664\n",
            "Epoch 3/10\n",
            "1500/1500 [==============================] - 3s 2ms/step - loss: 0.1180 - accuracy: 0.9642 - val_loss: 0.1014 - val_accuracy: 0.9690\n",
            "Epoch 4/10\n",
            "1500/1500 [==============================] - 3s 2ms/step - loss: 0.0942 - accuracy: 0.9705 - val_loss: 0.0897 - val_accuracy: 0.9730\n",
            "Epoch 5/10\n",
            "1500/1500 [==============================] - 3s 2ms/step - loss: 0.0799 - accuracy: 0.9755 - val_loss: 0.0867 - val_accuracy: 0.9743\n",
            "Epoch 6/10\n",
            "1500/1500 [==============================] - 4s 2ms/step - loss: 0.0703 - accuracy: 0.9784 - val_loss: 0.0835 - val_accuracy: 0.9751\n",
            "Epoch 7/10\n",
            "1500/1500 [==============================] - 4s 2ms/step - loss: 0.0599 - accuracy: 0.9811 - val_loss: 0.0821 - val_accuracy: 0.9763\n",
            "Epoch 8/10\n",
            "1500/1500 [==============================] - 5s 3ms/step - loss: 0.0541 - accuracy: 0.9826 - val_loss: 0.0806 - val_accuracy: 0.9784\n",
            "Epoch 9/10\n",
            "1500/1500 [==============================] - 5s 3ms/step - loss: 0.0476 - accuracy: 0.9841 - val_loss: 0.0809 - val_accuracy: 0.9777\n",
            "Epoch 10/10\n",
            "1500/1500 [==============================] - 4s 3ms/step - loss: 0.0442 - accuracy: 0.9853 - val_loss: 0.0759 - val_accuracy: 0.9791\n"
          ],
          "name": "stdout"
        },
        {
          "output_type": "execute_result",
          "data": {
            "text/plain": [
              "<tensorflow.python.keras.callbacks.History at 0x7f1964016710>"
            ]
          },
          "metadata": {
            "tags": []
          },
          "execution_count": 18
        }
      ]
    },
    {
      "cell_type": "markdown",
      "metadata": {
        "id": "Qeyc_I22DAlD"
      },
      "source": [
        "###Model"
      ]
    },
    {
      "cell_type": "code",
      "metadata": {
        "id": "kU8WrxqQCJ-B",
        "outputId": "2bf04a4c-a924-424a-ddb6-de2fbd63637e",
        "colab": {
          "base_uri": "https://localhost:8080/",
          "height": 90
        }
      },
      "source": [
        "model.layers "
      ],
      "execution_count": 19,
      "outputs": [
        {
          "output_type": "execute_result",
          "data": {
            "text/plain": [
              "[<tensorflow.python.keras.layers.core.Flatten at 0x7f1964050780>,\n",
              " <tensorflow.python.keras.layers.core.Dense at 0x7f19641749b0>,\n",
              " <tensorflow.python.keras.layers.core.Dropout at 0x7f1964178710>,\n",
              " <tensorflow.python.keras.layers.core.Dense at 0x7f1964050240>]"
            ]
          },
          "metadata": {
            "tags": []
          },
          "execution_count": 19
        }
      ]
    },
    {
      "cell_type": "code",
      "metadata": {
        "id": "kZow64uODCR8",
        "outputId": "40a07b7d-1a64-4b68-ee35-a0768ae77fe6",
        "colab": {
          "base_uri": "https://localhost:8080/",
          "height": 35
        }
      },
      "source": [
        "model.inputs "
      ],
      "execution_count": 20,
      "outputs": [
        {
          "output_type": "execute_result",
          "data": {
            "text/plain": [
              "[<tf.Tensor 'flatten_3_input:0' shape=(None, 28, 28) dtype=float32>]"
            ]
          },
          "metadata": {
            "tags": []
          },
          "execution_count": 20
        }
      ]
    },
    {
      "cell_type": "code",
      "metadata": {
        "id": "Wdf16CBZDH0k",
        "outputId": "327ebaa7-2fef-4130-f276-298c688b0066",
        "colab": {
          "base_uri": "https://localhost:8080/",
          "height": 35
        }
      },
      "source": [
        "model.outputs "
      ],
      "execution_count": 21,
      "outputs": [
        {
          "output_type": "execute_result",
          "data": {
            "text/plain": [
              "[<tf.Tensor 'dense_6/Softmax:0' shape=(None, 10) dtype=float32>]"
            ]
          },
          "metadata": {
            "tags": []
          },
          "execution_count": 21
        }
      ]
    },
    {
      "cell_type": "code",
      "metadata": {
        "id": "ZXlREmiWEG7U",
        "outputId": "80b1807b-1825-45c2-a63c-884d06b118bd",
        "colab": {
          "base_uri": "https://localhost:8080/",
          "height": 925
        }
      },
      "source": [
        "model.get_config() "
      ],
      "execution_count": 23,
      "outputs": [
        {
          "output_type": "execute_result",
          "data": {
            "text/plain": [
              "{'layers': [{'class_name': 'InputLayer',\n",
              "   'config': {'batch_input_shape': (None, 28, 28),\n",
              "    'dtype': 'float32',\n",
              "    'name': 'flatten_3_input',\n",
              "    'ragged': False,\n",
              "    'sparse': False}},\n",
              "  {'class_name': 'Flatten',\n",
              "   'config': {'batch_input_shape': (None, 28, 28),\n",
              "    'data_format': 'channels_last',\n",
              "    'dtype': 'float32',\n",
              "    'name': 'flatten_3',\n",
              "    'trainable': True}},\n",
              "  {'class_name': 'Dense',\n",
              "   'config': {'activation': 'relu',\n",
              "    'activity_regularizer': None,\n",
              "    'bias_constraint': None,\n",
              "    'bias_initializer': {'class_name': 'Zeros', 'config': {}},\n",
              "    'bias_regularizer': None,\n",
              "    'dtype': 'float32',\n",
              "    'kernel_constraint': None,\n",
              "    'kernel_initializer': {'class_name': 'GlorotUniform',\n",
              "     'config': {'seed': None}},\n",
              "    'kernel_regularizer': None,\n",
              "    'name': 'dense_5',\n",
              "    'trainable': True,\n",
              "    'units': 128,\n",
              "    'use_bias': True}},\n",
              "  {'class_name': 'Dropout',\n",
              "   'config': {'dtype': 'float32',\n",
              "    'name': 'dropout_3',\n",
              "    'noise_shape': None,\n",
              "    'rate': 0.2,\n",
              "    'seed': None,\n",
              "    'trainable': True}},\n",
              "  {'class_name': 'Dense',\n",
              "   'config': {'activation': 'softmax',\n",
              "    'activity_regularizer': None,\n",
              "    'bias_constraint': None,\n",
              "    'bias_initializer': {'class_name': 'Zeros', 'config': {}},\n",
              "    'bias_regularizer': None,\n",
              "    'dtype': 'float32',\n",
              "    'kernel_constraint': None,\n",
              "    'kernel_initializer': {'class_name': 'GlorotUniform',\n",
              "     'config': {'seed': None}},\n",
              "    'kernel_regularizer': None,\n",
              "    'name': 'dense_6',\n",
              "    'trainable': True,\n",
              "    'units': 10,\n",
              "    'use_bias': True}}],\n",
              " 'name': 'sequential_4'}"
            ]
          },
          "metadata": {
            "tags": []
          },
          "execution_count": 23
        }
      ]
    },
    {
      "cell_type": "code",
      "metadata": {
        "id": "ejnmL8uLEdlg",
        "outputId": "294dac89-3e59-4009-f4b1-d9ff9c8bb167",
        "colab": {
          "base_uri": "https://localhost:8080/",
          "height": 1000
        }
      },
      "source": [
        "model.get_weights() "
      ],
      "execution_count": 25,
      "outputs": [
        {
          "output_type": "execute_result",
          "data": {
            "text/plain": [
              "[array([[ 0.03377314, -0.02100172, -0.01522826, ...,  0.07223801,\n",
              "          0.04425042,  0.06776228],\n",
              "        [-0.0200115 ,  0.05860434,  0.02138   , ..., -0.03913853,\n",
              "         -0.02361661,  0.03569955],\n",
              "        [-0.07240027, -0.04688909,  0.07131451, ...,  0.01580086,\n",
              "          0.01243097, -0.07411732],\n",
              "        ...,\n",
              "        [ 0.01241618, -0.07797839, -0.05108893, ...,  0.00369808,\n",
              "          0.06825172,  0.02274728],\n",
              "        [-0.05497337,  0.05662041, -0.04534091, ..., -0.06788486,\n",
              "          0.00194874, -0.01429117],\n",
              "        [-0.08004992, -0.05228554, -0.06856955, ..., -0.07712419,\n",
              "         -0.07999166,  0.04292484]], dtype=float32),\n",
              " array([-0.09695432, -0.13095075, -0.07964288,  0.09239294,  0.10409264,\n",
              "         0.07737736,  0.03616299, -0.01071108, -0.22371979,  0.20321566,\n",
              "        -0.11588685,  0.00400523, -0.08409738,  0.18346028, -0.04341366,\n",
              "        -0.02208542, -0.10729904,  0.11303014, -0.09060848, -0.00069339,\n",
              "        -0.08176477, -0.07857554,  0.11752961, -0.07687383, -0.03535176,\n",
              "         0.06938351, -0.09273259,  0.0127029 ,  0.03961876, -0.17431216,\n",
              "         0.00074918,  0.12614079,  0.15031327, -0.14428213,  0.07629405,\n",
              "        -0.15238431,  0.29451737, -0.02893089, -0.00720701, -0.06095885,\n",
              "         0.06400769,  0.09065433,  0.27399287,  0.02598538, -0.0712229 ,\n",
              "         0.08670264,  0.00376513,  0.1640592 ,  0.19553626,  0.04003119,\n",
              "        -0.11919019,  0.04599532,  0.00129389, -0.10531145,  0.25165343,\n",
              "         0.16334714,  0.09514417,  0.06918228, -0.11447277,  0.16181366,\n",
              "         0.04670353,  0.09704221,  0.06445466, -0.10400403,  0.02248091,\n",
              "         0.10821098, -0.04565429, -0.16182193,  0.01257119, -0.14055915,\n",
              "        -0.11020876, -0.05212528, -0.00176909, -0.05295616,  0.08859032,\n",
              "        -0.03484282,  0.05859335,  0.00948877,  0.20992865, -0.15203768,\n",
              "         0.03389983, -0.04318675,  0.03056348,  0.1675963 ,  0.13867901,\n",
              "        -0.05335151,  0.11524765, -0.06228887,  0.14876227, -0.03166619,\n",
              "         0.18856786,  0.10474611,  0.00270582, -0.03065843,  0.22045061,\n",
              "         0.12238525, -0.07002235, -0.06623141,  0.00269301,  0.05321162,\n",
              "        -0.05487581, -0.0821093 , -0.12470729,  0.03287587,  0.09650693,\n",
              "         0.07942025,  0.13759969, -0.18595986,  0.04680671, -0.00226765,\n",
              "         0.21181816, -0.12307753,  0.05794477,  0.07811717, -0.01991689,\n",
              "        -0.25514114,  0.1354455 ,  0.10965195, -0.13024487,  0.00648283,\n",
              "        -0.00224949,  0.0390796 , -0.01425264, -0.04719576,  0.25009838,\n",
              "         0.0051271 , -0.24286616, -0.09322547], dtype=float32),\n",
              " array([[ 0.34223956, -0.72547734,  0.19040811, ..., -0.31784996,\n",
              "          0.11348603,  0.25355735],\n",
              "        [-0.27425808, -0.2059156 , -0.01843943, ...,  0.00483767,\n",
              "         -0.10290626,  0.09710837],\n",
              "        [ 0.07300507,  0.03435382,  0.21598646, ..., -0.0398046 ,\n",
              "          0.19684736, -0.7394953 ],\n",
              "        ...,\n",
              "        [ 0.21568716, -0.07865194,  0.12129308, ...,  0.1105306 ,\n",
              "         -0.41086757,  0.05114527],\n",
              "        [ 0.2305644 ,  0.10159165,  0.124189  , ...,  0.03314525,\n",
              "          0.2041749 ,  0.19918804],\n",
              "        [ 0.14788388,  0.07049731, -0.19349772, ..., -0.17439091,\n",
              "          0.2366182 ,  0.09236526]], dtype=float32),\n",
              " array([-0.03156662, -0.02592621, -0.07209799, -0.14545067,  0.05989514,\n",
              "         0.02809313, -0.15927483, -0.10916956,  0.3418242 ,  0.01164722],\n",
              "       dtype=float32)]"
            ]
          },
          "metadata": {
            "tags": []
          },
          "execution_count": 25
        }
      ]
    },
    {
      "cell_type": "markdown",
      "metadata": {
        "id": "89tfZqPgFagJ"
      },
      "source": [
        "###to_json"
      ]
    },
    {
      "cell_type": "code",
      "metadata": {
        "id": "D_mfyk59Ek_U",
        "outputId": "f15ebdf0-55b9-4305-f90e-4eab0b11ca23",
        "colab": {
          "base_uri": "https://localhost:8080/",
          "height": 1000
        }
      },
      "source": [
        "model_json = model.to_json() \n",
        "\n",
        "import json\n",
        "\n",
        "parsed = json.loads(model_json)\n",
        "print(json.dumps(parsed, indent=4))"
      ],
      "execution_count": 26,
      "outputs": [
        {
          "output_type": "stream",
          "text": [
            "{\n",
            "    \"class_name\": \"Sequential\",\n",
            "    \"config\": {\n",
            "        \"name\": \"sequential_4\",\n",
            "        \"layers\": [\n",
            "            {\n",
            "                \"class_name\": \"InputLayer\",\n",
            "                \"config\": {\n",
            "                    \"batch_input_shape\": [\n",
            "                        null,\n",
            "                        28,\n",
            "                        28\n",
            "                    ],\n",
            "                    \"dtype\": \"float32\",\n",
            "                    \"sparse\": false,\n",
            "                    \"ragged\": false,\n",
            "                    \"name\": \"flatten_3_input\"\n",
            "                }\n",
            "            },\n",
            "            {\n",
            "                \"class_name\": \"Flatten\",\n",
            "                \"config\": {\n",
            "                    \"name\": \"flatten_3\",\n",
            "                    \"trainable\": true,\n",
            "                    \"batch_input_shape\": [\n",
            "                        null,\n",
            "                        28,\n",
            "                        28\n",
            "                    ],\n",
            "                    \"dtype\": \"float32\",\n",
            "                    \"data_format\": \"channels_last\"\n",
            "                }\n",
            "            },\n",
            "            {\n",
            "                \"class_name\": \"Dense\",\n",
            "                \"config\": {\n",
            "                    \"name\": \"dense_5\",\n",
            "                    \"trainable\": true,\n",
            "                    \"dtype\": \"float32\",\n",
            "                    \"units\": 128,\n",
            "                    \"activation\": \"relu\",\n",
            "                    \"use_bias\": true,\n",
            "                    \"kernel_initializer\": {\n",
            "                        \"class_name\": \"GlorotUniform\",\n",
            "                        \"config\": {\n",
            "                            \"seed\": null\n",
            "                        }\n",
            "                    },\n",
            "                    \"bias_initializer\": {\n",
            "                        \"class_name\": \"Zeros\",\n",
            "                        \"config\": {}\n",
            "                    },\n",
            "                    \"kernel_regularizer\": null,\n",
            "                    \"bias_regularizer\": null,\n",
            "                    \"activity_regularizer\": null,\n",
            "                    \"kernel_constraint\": null,\n",
            "                    \"bias_constraint\": null\n",
            "                }\n",
            "            },\n",
            "            {\n",
            "                \"class_name\": \"Dropout\",\n",
            "                \"config\": {\n",
            "                    \"name\": \"dropout_3\",\n",
            "                    \"trainable\": true,\n",
            "                    \"dtype\": \"float32\",\n",
            "                    \"rate\": 0.2,\n",
            "                    \"noise_shape\": null,\n",
            "                    \"seed\": null\n",
            "                }\n",
            "            },\n",
            "            {\n",
            "                \"class_name\": \"Dense\",\n",
            "                \"config\": {\n",
            "                    \"name\": \"dense_6\",\n",
            "                    \"trainable\": true,\n",
            "                    \"dtype\": \"float32\",\n",
            "                    \"units\": 10,\n",
            "                    \"activation\": \"softmax\",\n",
            "                    \"use_bias\": true,\n",
            "                    \"kernel_initializer\": {\n",
            "                        \"class_name\": \"GlorotUniform\",\n",
            "                        \"config\": {\n",
            "                            \"seed\": null\n",
            "                        }\n",
            "                    },\n",
            "                    \"bias_initializer\": {\n",
            "                        \"class_name\": \"Zeros\",\n",
            "                        \"config\": {}\n",
            "                    },\n",
            "                    \"kernel_regularizer\": null,\n",
            "                    \"bias_regularizer\": null,\n",
            "                    \"activity_regularizer\": null,\n",
            "                    \"kernel_constraint\": null,\n",
            "                    \"bias_constraint\": null\n",
            "                }\n",
            "            }\n",
            "        ]\n",
            "    },\n",
            "    \"keras_version\": \"2.4.0\",\n",
            "    \"backend\": \"tensorflow\"\n",
            "}\n"
          ],
          "name": "stdout"
        }
      ]
    },
    {
      "cell_type": "code",
      "metadata": {
        "id": "1y32KLqmF0Hy",
        "outputId": "f4bcbf09-e937-4345-f0fe-0e040965f454",
        "colab": {
          "base_uri": "https://localhost:8080/",
          "height": 308
        }
      },
      "source": [
        "from tensorflow.keras.models import model_from_json \n",
        "\n",
        "model2= model_from_json(model_json)\n",
        "model2.summary()"
      ],
      "execution_count": 28,
      "outputs": [
        {
          "output_type": "stream",
          "text": [
            "Model: \"sequential_4\"\n",
            "_________________________________________________________________\n",
            "Layer (type)                 Output Shape              Param #   \n",
            "=================================================================\n",
            "flatten_3 (Flatten)          (None, 784)               0         \n",
            "_________________________________________________________________\n",
            "dense_5 (Dense)              (None, 128)               100480    \n",
            "_________________________________________________________________\n",
            "dropout_3 (Dropout)          (None, 128)               0         \n",
            "_________________________________________________________________\n",
            "dense_6 (Dense)              (None, 10)                1290      \n",
            "=================================================================\n",
            "Total params: 101,770\n",
            "Trainable params: 101,770\n",
            "Non-trainable params: 0\n",
            "_________________________________________________________________\n"
          ],
          "name": "stdout"
        }
      ]
    },
    {
      "cell_type": "markdown",
      "metadata": {
        "id": "5lB3kiVlGWsh"
      },
      "source": [
        "###to_yaml"
      ]
    },
    {
      "cell_type": "code",
      "metadata": {
        "id": "oHSLWq2oGLIO",
        "outputId": "71ed299d-9f34-4141-aff9-7ee7b9740450",
        "colab": {
          "base_uri": "https://localhost:8080/",
          "height": 1000
        }
      },
      "source": [
        "model_yaml = model.to_yaml()\n",
        "print(model_yaml)"
      ],
      "execution_count": 30,
      "outputs": [
        {
          "output_type": "stream",
          "text": [
            "backend: tensorflow\n",
            "class_name: Sequential\n",
            "config:\n",
            "  layers:\n",
            "  - class_name: InputLayer\n",
            "    config:\n",
            "      batch_input_shape: !!python/tuple [null, 28, 28]\n",
            "      dtype: float32\n",
            "      name: flatten_3_input\n",
            "      ragged: false\n",
            "      sparse: false\n",
            "  - class_name: Flatten\n",
            "    config:\n",
            "      batch_input_shape: !!python/tuple [null, 28, 28]\n",
            "      data_format: channels_last\n",
            "      dtype: float32\n",
            "      name: flatten_3\n",
            "      trainable: true\n",
            "  - class_name: Dense\n",
            "    config:\n",
            "      activation: relu\n",
            "      activity_regularizer: null\n",
            "      bias_constraint: null\n",
            "      bias_initializer:\n",
            "        class_name: Zeros\n",
            "        config: {}\n",
            "      bias_regularizer: null\n",
            "      dtype: float32\n",
            "      kernel_constraint: null\n",
            "      kernel_initializer:\n",
            "        class_name: GlorotUniform\n",
            "        config: {seed: null}\n",
            "      kernel_regularizer: null\n",
            "      name: dense_5\n",
            "      trainable: true\n",
            "      units: 128\n",
            "      use_bias: true\n",
            "  - class_name: Dropout\n",
            "    config: {dtype: float32, name: dropout_3, noise_shape: null, rate: 0.2, seed: null,\n",
            "      trainable: true}\n",
            "  - class_name: Dense\n",
            "    config:\n",
            "      activation: softmax\n",
            "      activity_regularizer: null\n",
            "      bias_constraint: null\n",
            "      bias_initializer:\n",
            "        class_name: Zeros\n",
            "        config: {}\n",
            "      bias_regularizer: null\n",
            "      dtype: float32\n",
            "      kernel_constraint: null\n",
            "      kernel_initializer:\n",
            "        class_name: GlorotUniform\n",
            "        config: {seed: null}\n",
            "      kernel_regularizer: null\n",
            "      name: dense_6\n",
            "      trainable: true\n",
            "      units: 10\n",
            "      use_bias: true\n",
            "  name: sequential_4\n",
            "keras_version: 2.4.0\n",
            "\n"
          ],
          "name": "stdout"
        }
      ]
    },
    {
      "cell_type": "code",
      "metadata": {
        "id": "N9jsTsdEGeCP",
        "outputId": "bd6b47ba-3659-45e8-fc0f-95e6f8a32357",
        "colab": {
          "base_uri": "https://localhost:8080/",
          "height": 308
        }
      },
      "source": [
        "from tensorflow.keras.models import model_from_yaml\n",
        "\n",
        "model3 = model_from_yaml(model_yaml)\n",
        "model3.summary()"
      ],
      "execution_count": 31,
      "outputs": [
        {
          "output_type": "stream",
          "text": [
            "Model: \"sequential_4\"\n",
            "_________________________________________________________________\n",
            "Layer (type)                 Output Shape              Param #   \n",
            "=================================================================\n",
            "flatten_3 (Flatten)          (None, 784)               0         \n",
            "_________________________________________________________________\n",
            "dense_5 (Dense)              (None, 128)               100480    \n",
            "_________________________________________________________________\n",
            "dropout_3 (Dropout)          (None, 128)               0         \n",
            "_________________________________________________________________\n",
            "dense_6 (Dense)              (None, 10)                1290      \n",
            "=================================================================\n",
            "Total params: 101,770\n",
            "Trainable params: 101,770\n",
            "Non-trainable params: 0\n",
            "_________________________________________________________________\n"
          ],
          "name": "stdout"
        }
      ]
    },
    {
      "cell_type": "markdown",
      "metadata": {
        "id": "OwIbTMztKRe5"
      },
      "source": [
        "###Warstwy"
      ]
    },
    {
      "cell_type": "code",
      "metadata": {
        "id": "DImluc4DG14J",
        "outputId": "475441eb-0707-4760-b812-003bbab2949b",
        "colab": {
          "base_uri": "https://localhost:8080/",
          "height": 35
        }
      },
      "source": [
        "dense_layer = model.layers[1]\n",
        "dense_layer"
      ],
      "execution_count": 32,
      "outputs": [
        {
          "output_type": "execute_result",
          "data": {
            "text/plain": [
              "<tensorflow.python.keras.layers.core.Dense at 0x7f19641749b0>"
            ]
          },
          "metadata": {
            "tags": []
          },
          "execution_count": 32
        }
      ]
    },
    {
      "cell_type": "code",
      "metadata": {
        "id": "X4qTvVW2KVxZ",
        "outputId": "9014f88f-cc70-4bf5-e60e-f01c5969f129",
        "colab": {
          "base_uri": "https://localhost:8080/",
          "height": 35
        }
      },
      "source": [
        "dense_layer.input "
      ],
      "execution_count": 33,
      "outputs": [
        {
          "output_type": "execute_result",
          "data": {
            "text/plain": [
              "<tf.Tensor 'flatten_3/Reshape:0' shape=(None, 784) dtype=float32>"
            ]
          },
          "metadata": {
            "tags": []
          },
          "execution_count": 33
        }
      ]
    },
    {
      "cell_type": "code",
      "metadata": {
        "id": "dseZiVZ_Kc04",
        "outputId": "9b9efa24-5805-4bf2-b293-7fcd1a311b5d",
        "colab": {
          "base_uri": "https://localhost:8080/",
          "height": 35
        }
      },
      "source": [
        "dense_layer.input_shape "
      ],
      "execution_count": 34,
      "outputs": [
        {
          "output_type": "execute_result",
          "data": {
            "text/plain": [
              "(None, 784)"
            ]
          },
          "metadata": {
            "tags": []
          },
          "execution_count": 34
        }
      ]
    },
    {
      "cell_type": "code",
      "metadata": {
        "id": "BHm2DUIwKiFD",
        "outputId": "c3b59177-ced0-455e-d103-794a3dd53cf4",
        "colab": {
          "base_uri": "https://localhost:8080/",
          "height": 35
        }
      },
      "source": [
        "dense_layer.output "
      ],
      "execution_count": 35,
      "outputs": [
        {
          "output_type": "execute_result",
          "data": {
            "text/plain": [
              "<tf.Tensor 'dense_5/Relu:0' shape=(None, 128) dtype=float32>"
            ]
          },
          "metadata": {
            "tags": []
          },
          "execution_count": 35
        }
      ]
    },
    {
      "cell_type": "code",
      "metadata": {
        "id": "65us7e_oKtB6",
        "outputId": "341a97e1-7f63-453d-fc12-eb26c6826405",
        "colab": {
          "base_uri": "https://localhost:8080/",
          "height": 35
        }
      },
      "source": [
        "dense_layer.output_shape"
      ],
      "execution_count": 36,
      "outputs": [
        {
          "output_type": "execute_result",
          "data": {
            "text/plain": [
              "(None, 128)"
            ]
          },
          "metadata": {
            "tags": []
          },
          "execution_count": 36
        }
      ]
    },
    {
      "cell_type": "code",
      "metadata": {
        "id": "tJfDruUTK3yq",
        "outputId": "95028337-7a11-4382-e126-0c7572c6f6d7",
        "colab": {
          "base_uri": "https://localhost:8080/",
          "height": 35
        }
      },
      "source": [
        "dense_layer.trainable "
      ],
      "execution_count": 37,
      "outputs": [
        {
          "output_type": "execute_result",
          "data": {
            "text/plain": [
              "True"
            ]
          },
          "metadata": {
            "tags": []
          },
          "execution_count": 37
        }
      ]
    },
    {
      "cell_type": "markdown",
      "metadata": {
        "id": "8KYhAvt4LCMm"
      },
      "source": [
        "\n",
        "    Dense - warstwa gęsto połączona, wynik operacji $output = activation(dot(input, weights) + bias)$\n",
        "    Activation - stosuje funkcję aktywacji\n",
        "    Dropout - porzuca wskazaną część neuronów w warstwie\n",
        "    Flatten - wypłaszcza dane wejściowe\n",
        "    Input - warstwa wejściowa, parametr shape określa rozmiar danych wejściowych\n"
      ]
    },
    {
      "cell_type": "code",
      "metadata": {
        "id": "ANcxQDPWLCs0",
        "outputId": "b2a433ce-5650-492c-ec11-6c4b1f98bf64",
        "colab": {
          "base_uri": "https://localhost:8080/",
          "height": 35
        }
      },
      "source": [
        "from tensorflow.keras.layers import Input \n",
        "\n",
        "input = Input(shape=(150,))\n",
        "input"
      ],
      "execution_count": 38,
      "outputs": [
        {
          "output_type": "execute_result",
          "data": {
            "text/plain": [
              "<tf.Tensor 'input_1:0' shape=(None, 150) dtype=float32>"
            ]
          },
          "metadata": {
            "tags": []
          },
          "execution_count": 38
        }
      ]
    },
    {
      "cell_type": "code",
      "metadata": {
        "id": "kp0gbfAMLj9h",
        "outputId": "48b13857-7017-408f-9a87-81bd703d375c",
        "colab": {
          "base_uri": "https://localhost:8080/",
          "height": 35
        }
      },
      "source": [
        "from tensorflow.keras.layers import Flatten\n",
        "\n",
        "flatten = Flatten()\n",
        "flatten"
      ],
      "execution_count": 40,
      "outputs": [
        {
          "output_type": "execute_result",
          "data": {
            "text/plain": [
              "<tensorflow.python.keras.layers.core.Flatten at 0x7f19610eaa20>"
            ]
          },
          "metadata": {
            "tags": []
          },
          "execution_count": 40
        }
      ]
    },
    {
      "cell_type": "code",
      "metadata": {
        "id": "ogJkvTS9Lcol",
        "outputId": "4622b2b3-04ff-4bd9-8caf-3a43cb3d77b7",
        "colab": {
          "base_uri": "https://localhost:8080/",
          "height": 35
        }
      },
      "source": [
        "from tensorflow.keras.layers import Dense \n",
        "\n",
        "dense = Dense(units=1, activation='relu')\n",
        "dense"
      ],
      "execution_count": 39,
      "outputs": [
        {
          "output_type": "execute_result",
          "data": {
            "text/plain": [
              "<tensorflow.python.keras.layers.core.Dense at 0x7f1963f147b8>"
            ]
          },
          "metadata": {
            "tags": []
          },
          "execution_count": 39
        }
      ]
    },
    {
      "cell_type": "code",
      "metadata": {
        "id": "g8rJHprjLf4C",
        "outputId": "1473ffdd-3de8-4250-f547-bfb3c234b0a9",
        "colab": {
          "base_uri": "https://localhost:8080/",
          "height": 35
        }
      },
      "source": [
        "from tensorflow.keras.layers import Activation \n",
        "\n",
        "activation = Activation(activation='relu')\n",
        "activation"
      ],
      "execution_count": 41,
      "outputs": [
        {
          "output_type": "execute_result",
          "data": {
            "text/plain": [
              "<tensorflow.python.keras.layers.core.Activation at 0x7f19610ea0f0>"
            ]
          },
          "metadata": {
            "tags": []
          },
          "execution_count": 41
        }
      ]
    },
    {
      "cell_type": "code",
      "metadata": {
        "id": "l8dcGFeRL2sp",
        "outputId": "76c7fbcf-8aae-4776-eee8-c04dad9fdebf",
        "colab": {
          "base_uri": "https://localhost:8080/",
          "height": 35
        }
      },
      "source": [
        "from tensorflow.keras.layers import Dropout\n",
        "\n",
        "dropout = Dropout(rate=0.3)\n",
        "dropout"
      ],
      "execution_count": 42,
      "outputs": [
        {
          "output_type": "execute_result",
          "data": {
            "text/plain": [
              "<tensorflow.python.keras.layers.core.Dropout at 0x7f19610ea4e0>"
            ]
          },
          "metadata": {
            "tags": []
          },
          "execution_count": 42
        }
      ]
    },
    {
      "cell_type": "code",
      "metadata": {
        "id": "Qd7QlQ7QL3Re"
      },
      "source": [
        ""
      ],
      "execution_count": null,
      "outputs": []
    }
  ]
}