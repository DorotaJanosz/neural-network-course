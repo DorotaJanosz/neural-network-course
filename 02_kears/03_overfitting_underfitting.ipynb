{
  "nbformat": 4,
  "nbformat_minor": 0,
  "metadata": {
    "colab": {
      "name": "03_overfitting_underfitting.ipynb",
      "provenance": [],
      "authorship_tag": "ABX9TyOJ6oPBjBUE3AywMapRN5AR",
      "include_colab_link": true
    },
    "kernelspec": {
      "name": "python3",
      "display_name": "Python 3"
    },
    "language_info": {
      "name": "python"
    }
  },
  "cells": [
    {
      "cell_type": "markdown",
      "metadata": {
        "id": "view-in-github",
        "colab_type": "text"
      },
      "source": [
        "<a href=\"https://colab.research.google.com/github/DorotaJanosz/neural-network-course/blob/master/02_kears/03_overfitting_underfitting.ipynb\" target=\"_parent\"><img src=\"https://colab.research.google.com/assets/colab-badge.svg\" alt=\"Open In Colab\"/></a>"
      ]
    },
    {
      "cell_type": "markdown",
      "metadata": {
        "id": "RMXbNs3nTRe5"
      },
      "source": [
        "### Import bibliotek"
      ]
    },
    {
      "cell_type": "code",
      "metadata": {
        "colab": {
          "base_uri": "https://localhost:8080/",
          "height": 36
        },
        "id": "ErNflwM1TYzd",
        "outputId": "d890d5c4-1c4d-42c1-b95f-23b8398a3fe7"
      },
      "source": [
        "import numpy as np\n",
        "import pandas as pd\n",
        "import matplotlib.pyplot as plt\n",
        "import seaborn as sns\n",
        "import pickle\n",
        "\n",
        "import tensorflow as tf\n",
        "from tensorflow.keras.datasets import imdb\n",
        "from tensorflow.keras.datasets.imdb import get_word_index\n",
        "from tensorflow.keras.utils import get_file\n",
        "from tensorflow.keras.models import Sequential\n",
        "from tensorflow.keras.layers import Dense\n",
        "\n",
        "sns.set()\n",
        "tf.__version__\n"
      ],
      "execution_count": 18,
      "outputs": [
        {
          "output_type": "execute_result",
          "data": {
            "application/vnd.google.colaboratory.intrinsic+json": {
              "type": "string"
            },
            "text/plain": [
              "'2.6.0'"
            ]
          },
          "metadata": {},
          "execution_count": 18
        }
      ]
    },
    {
      "cell_type": "markdown",
      "metadata": {
        "id": "Y57oxeEMUiwh"
      },
      "source": [
        "### Załadowanie danych"
      ]
    },
    {
      "cell_type": "code",
      "metadata": {
        "id": "f5DISpkgUPxL"
      },
      "source": [
        "NUM_WORDS = 10000   # 10000 najczęściej pojawiających się słów\n",
        "INDEX_FROM = 3\n",
        "\n",
        "(train_data, train_labels), (test_data, test_labels) = imdb.load_data(num_words=NUM_WORDS, index_from=INDEX_FROM)"
      ],
      "execution_count": 19,
      "outputs": []
    },
    {
      "cell_type": "code",
      "metadata": {
        "colab": {
          "base_uri": "https://localhost:8080/"
        },
        "id": "FJd-hs04UtJU",
        "outputId": "cfbf6573-9452-4fab-d11e-3857e336f32a"
      },
      "source": [
        "print(f'Train data shape: {train_data.shape}')\n",
        "print(f'Test data shape: {test_data.shape}')"
      ],
      "execution_count": 20,
      "outputs": [
        {
          "output_type": "stream",
          "name": "stdout",
          "text": [
            "Train data shape: (25000,)\n",
            "Test data shape: (25000,)\n"
          ]
        }
      ]
    },
    {
      "cell_type": "code",
      "metadata": {
        "colab": {
          "base_uri": "https://localhost:8080/"
        },
        "id": "RSzBrMHiU9ZD",
        "outputId": "090f3be2-259b-417c-898c-cc88361fd0aa"
      },
      "source": [
        "print(train_data[0])"
      ],
      "execution_count": 21,
      "outputs": [
        {
          "output_type": "stream",
          "name": "stdout",
          "text": [
            "[1, 14, 22, 16, 43, 530, 973, 1622, 1385, 65, 458, 4468, 66, 3941, 4, 173, 36, 256, 5, 25, 100, 43, 838, 112, 50, 670, 2, 9, 35, 480, 284, 5, 150, 4, 172, 112, 167, 2, 336, 385, 39, 4, 172, 4536, 1111, 17, 546, 38, 13, 447, 4, 192, 50, 16, 6, 147, 2025, 19, 14, 22, 4, 1920, 4613, 469, 4, 22, 71, 87, 12, 16, 43, 530, 38, 76, 15, 13, 1247, 4, 22, 17, 515, 17, 12, 16, 626, 18, 2, 5, 62, 386, 12, 8, 316, 8, 106, 5, 4, 2223, 5244, 16, 480, 66, 3785, 33, 4, 130, 12, 16, 38, 619, 5, 25, 124, 51, 36, 135, 48, 25, 1415, 33, 6, 22, 12, 215, 28, 77, 52, 5, 14, 407, 16, 82, 2, 8, 4, 107, 117, 5952, 15, 256, 4, 2, 7, 3766, 5, 723, 36, 71, 43, 530, 476, 26, 400, 317, 46, 7, 4, 2, 1029, 13, 104, 88, 4, 381, 15, 297, 98, 32, 2071, 56, 26, 141, 6, 194, 7486, 18, 4, 226, 22, 21, 134, 476, 26, 480, 5, 144, 30, 5535, 18, 51, 36, 28, 224, 92, 25, 104, 4, 226, 65, 16, 38, 1334, 88, 12, 16, 283, 5, 16, 4472, 113, 103, 32, 15, 16, 5345, 19, 178, 32]\n"
          ]
        }
      ]
    },
    {
      "cell_type": "code",
      "metadata": {
        "colab": {
          "base_uri": "https://localhost:8080/"
        },
        "id": "UG3bmIDBVAlR",
        "outputId": "01a13bab-9f41-48e1-8d91-f46cfc388ce3"
      },
      "source": [
        "word_to_idx = get_word_index()\n",
        "word_to_idx = {k:(v + INDEX_FROM) for k, v in word_to_idx.items()}\n",
        "word_to_idx['<PAD>'] = 0\n",
        "word_to_idx['<START>'] = 1\n",
        "word_to_idx['<UNK>'] = 2\n",
        "word_to_idx['<UNUSED>'] = 3\n",
        "idx_to_word = {v: k for k, v in word_to_idx.items()}\n",
        "list(idx_to_word.items())[:10]\n",
        "print(' '.join(idx_to_word[idx] for idx in train_data[0]))"
      ],
      "execution_count": 22,
      "outputs": [
        {
          "output_type": "stream",
          "name": "stdout",
          "text": [
            "<START> this film was just brilliant casting location scenery story direction everyone's really suited the part they played and you could just imagine being there robert <UNK> is an amazing actor and now the same being director <UNK> father came from the same scottish island as myself so i loved the fact there was a real connection with this film the witty remarks throughout the film were great it was just brilliant so much that i bought the film as soon as it was released for <UNK> and would recommend it to everyone to watch and the fly fishing was amazing really cried at the end it was so sad and you know what they say if you cry at a film it must have been good and this definitely was also <UNK> to the two little boy's that played the <UNK> of norman and paul they were just brilliant children are often left out of the <UNK> list i think because the stars that play them all grown up are such a big profile for the whole film but these children are amazing and should be praised for what they have done don't you think the whole story was so lovely because it was true and was someone's life after all that was shared with us all\n"
          ]
        }
      ]
    },
    {
      "cell_type": "code",
      "metadata": {
        "colab": {
          "base_uri": "https://localhost:8080/"
        },
        "id": "8v6uBGRWWGKT",
        "outputId": "dab47b2e-a633-44fb-af54-656d2b684700"
      },
      "source": [
        "train_labels[:10]"
      ],
      "execution_count": 23,
      "outputs": [
        {
          "output_type": "execute_result",
          "data": {
            "text/plain": [
              "array([1, 0, 0, 1, 0, 0, 1, 0, 1, 0])"
            ]
          },
          "metadata": {},
          "execution_count": 23
        }
      ]
    },
    {
      "cell_type": "code",
      "metadata": {
        "colab": {
          "base_uri": "https://localhost:8080/"
        },
        "id": "FBZ0cMzRWvwP",
        "outputId": "909cc76e-ca67-4436-c979-396ec49e0b96"
      },
      "source": [
        "def multi_hot_sequences(sequences, dimension):  #kodowanie gorąco jedynkowe\n",
        "    results = np.zeros((len(sequences), dimension))\n",
        "    for i, word_indices in enumerate(sequences):\n",
        "        results[i, word_indices] = 1.0\n",
        "    return results\n",
        "\n",
        "train_data = multi_hot_sequences(train_data, dimension=NUM_WORDS)\n",
        "test_data = multi_hot_sequences(test_data, dimension=NUM_WORDS)\n",
        "train_data.shape"
      ],
      "execution_count": 24,
      "outputs": [
        {
          "output_type": "execute_result",
          "data": {
            "text/plain": [
              "(25000, 10000)"
            ]
          },
          "metadata": {},
          "execution_count": 24
        }
      ]
    },
    {
      "cell_type": "code",
      "metadata": {
        "colab": {
          "base_uri": "https://localhost:8080/"
        },
        "id": "pCaDkDzYXgHm",
        "outputId": "11e99e2b-0db0-467f-db66-0e6732913b8e"
      },
      "source": [
        "test_data.shape"
      ],
      "execution_count": 25,
      "outputs": [
        {
          "output_type": "execute_result",
          "data": {
            "text/plain": [
              "(25000, 10000)"
            ]
          },
          "metadata": {},
          "execution_count": 25
        }
      ]
    },
    {
      "cell_type": "markdown",
      "metadata": {
        "id": "gYUNwQurYVVJ"
      },
      "source": [
        "### Budowa modelu bazowego"
      ]
    },
    {
      "cell_type": "code",
      "metadata": {
        "colab": {
          "base_uri": "https://localhost:8080/"
        },
        "id": "ADWwTdSHYHkU",
        "outputId": "a6b1b141-1acc-4002-c31d-3211c5f460c2"
      },
      "source": [
        "baseline_model = Sequential()\n",
        "baseline_model.add(Dense(units=16, activation='relu', input_shape=(NUM_WORDS,) ))\n",
        "baseline_model.add(Dense(units=16, activation='relu'))\n",
        "baseline_model.add(Dense(units=1, activation='sigmoid'))\n",
        "\n",
        "baseline_model.compile(optimizer='adam',\n",
        "                       loss= 'binary_crossentropy',\n",
        "                       metrics=['accuracy', 'binary_crossentropy'])\n",
        "baseline_model.summary()"
      ],
      "execution_count": 26,
      "outputs": [
        {
          "output_type": "stream",
          "name": "stdout",
          "text": [
            "Model: \"sequential_5\"\n",
            "_________________________________________________________________\n",
            "Layer (type)                 Output Shape              Param #   \n",
            "=================================================================\n",
            "dense_13 (Dense)             (None, 16)                160016    \n",
            "_________________________________________________________________\n",
            "dense_14 (Dense)             (None, 16)                272       \n",
            "_________________________________________________________________\n",
            "dense_15 (Dense)             (None, 1)                 17        \n",
            "=================================================================\n",
            "Total params: 160,305\n",
            "Trainable params: 160,305\n",
            "Non-trainable params: 0\n",
            "_________________________________________________________________\n"
          ]
        }
      ]
    },
    {
      "cell_type": "code",
      "metadata": {
        "colab": {
          "base_uri": "https://localhost:8080/"
        },
        "id": "t3tDSijTY62Z",
        "outputId": "6882102f-5058-4baf-908a-f710c1d52c7a"
      },
      "source": [
        "baseline_history = baseline_model.fit(train_data, train_labels, epochs=20, batch_size=512, validation_data=(test_data, test_labels))"
      ],
      "execution_count": 35,
      "outputs": [
        {
          "output_type": "stream",
          "name": "stdout",
          "text": [
            "Epoch 1/20\n",
            "49/49 [==============================] - 3s 61ms/step - loss: 0.6002 - accuracy: 0.6682 - binary_crossentropy: 0.6002 - val_loss: 0.5275 - val_accuracy: 0.8149 - val_binary_crossentropy: 0.5275\n",
            "Epoch 2/20\n",
            "49/49 [==============================] - 2s 35ms/step - loss: 0.3968 - accuracy: 0.8800 - binary_crossentropy: 0.3968 - val_loss: 0.3403 - val_accuracy: 0.8831 - val_binary_crossentropy: 0.3403\n",
            "Epoch 3/20\n",
            "49/49 [==============================] - 2s 34ms/step - loss: 0.2523 - accuracy: 0.9231 - binary_crossentropy: 0.2523 - val_loss: 0.2958 - val_accuracy: 0.8873 - val_binary_crossentropy: 0.2958\n",
            "Epoch 4/20\n",
            "49/49 [==============================] - 2s 35ms/step - loss: 0.1981 - accuracy: 0.9379 - binary_crossentropy: 0.1981 - val_loss: 0.2881 - val_accuracy: 0.8867 - val_binary_crossentropy: 0.2881\n",
            "Epoch 5/20\n",
            "49/49 [==============================] - 2s 35ms/step - loss: 0.1675 - accuracy: 0.9478 - binary_crossentropy: 0.1675 - val_loss: 0.2950 - val_accuracy: 0.8820 - val_binary_crossentropy: 0.2950\n",
            "Epoch 6/20\n",
            "49/49 [==============================] - 2s 35ms/step - loss: 0.1461 - accuracy: 0.9557 - binary_crossentropy: 0.1461 - val_loss: 0.3060 - val_accuracy: 0.8794 - val_binary_crossentropy: 0.3060\n",
            "Epoch 7/20\n",
            "49/49 [==============================] - 2s 34ms/step - loss: 0.1300 - accuracy: 0.9613 - binary_crossentropy: 0.1300 - val_loss: 0.3151 - val_accuracy: 0.8774 - val_binary_crossentropy: 0.3151\n",
            "Epoch 8/20\n",
            "49/49 [==============================] - 2s 36ms/step - loss: 0.1150 - accuracy: 0.9666 - binary_crossentropy: 0.1150 - val_loss: 0.3286 - val_accuracy: 0.8756 - val_binary_crossentropy: 0.3286\n",
            "Epoch 9/20\n",
            "49/49 [==============================] - 2s 35ms/step - loss: 0.1035 - accuracy: 0.9710 - binary_crossentropy: 0.1035 - val_loss: 0.3466 - val_accuracy: 0.8722 - val_binary_crossentropy: 0.3466\n",
            "Epoch 10/20\n",
            "49/49 [==============================] - 2s 36ms/step - loss: 0.0936 - accuracy: 0.9754 - binary_crossentropy: 0.0936 - val_loss: 0.3629 - val_accuracy: 0.8716 - val_binary_crossentropy: 0.3629\n",
            "Epoch 11/20\n",
            "49/49 [==============================] - 2s 34ms/step - loss: 0.0850 - accuracy: 0.9786 - binary_crossentropy: 0.0850 - val_loss: 0.3826 - val_accuracy: 0.8688 - val_binary_crossentropy: 0.3826\n",
            "Epoch 12/20\n",
            "49/49 [==============================] - 2s 35ms/step - loss: 0.0769 - accuracy: 0.9819 - binary_crossentropy: 0.0769 - val_loss: 0.4035 - val_accuracy: 0.8660 - val_binary_crossentropy: 0.4035\n",
            "Epoch 13/20\n",
            "49/49 [==============================] - 2s 35ms/step - loss: 0.0696 - accuracy: 0.9842 - binary_crossentropy: 0.0696 - val_loss: 0.4207 - val_accuracy: 0.8647 - val_binary_crossentropy: 0.4207\n",
            "Epoch 14/20\n",
            "49/49 [==============================] - 2s 36ms/step - loss: 0.0635 - accuracy: 0.9872 - binary_crossentropy: 0.0635 - val_loss: 0.4496 - val_accuracy: 0.8616 - val_binary_crossentropy: 0.4496\n",
            "Epoch 15/20\n",
            "49/49 [==============================] - 2s 34ms/step - loss: 0.0576 - accuracy: 0.9892 - binary_crossentropy: 0.0576 - val_loss: 0.4685 - val_accuracy: 0.8601 - val_binary_crossentropy: 0.4685\n",
            "Epoch 16/20\n",
            "49/49 [==============================] - 2s 36ms/step - loss: 0.0521 - accuracy: 0.9913 - binary_crossentropy: 0.0521 - val_loss: 0.4878 - val_accuracy: 0.8592 - val_binary_crossentropy: 0.4878\n",
            "Epoch 17/20\n",
            "49/49 [==============================] - 2s 36ms/step - loss: 0.0475 - accuracy: 0.9928 - binary_crossentropy: 0.0475 - val_loss: 0.5086 - val_accuracy: 0.8579 - val_binary_crossentropy: 0.5086\n",
            "Epoch 18/20\n",
            "49/49 [==============================] - 2s 34ms/step - loss: 0.0434 - accuracy: 0.9940 - binary_crossentropy: 0.0434 - val_loss: 0.5305 - val_accuracy: 0.8571 - val_binary_crossentropy: 0.5305\n",
            "Epoch 19/20\n",
            "49/49 [==============================] - 2s 35ms/step - loss: 0.0400 - accuracy: 0.9945 - binary_crossentropy: 0.0400 - val_loss: 0.5525 - val_accuracy: 0.8558 - val_binary_crossentropy: 0.5525\n",
            "Epoch 20/20\n",
            "49/49 [==============================] - 2s 35ms/step - loss: 0.0362 - accuracy: 0.9952 - binary_crossentropy: 0.0362 - val_loss: 0.5705 - val_accuracy: 0.8546 - val_binary_crossentropy: 0.5705\n"
          ]
        }
      ]
    },
    {
      "cell_type": "markdown",
      "metadata": {
        "id": "2gyogCMqbrkf"
      },
      "source": [
        "### Budowa mniejszego modelu\n"
      ]
    },
    {
      "cell_type": "code",
      "metadata": {
        "colab": {
          "base_uri": "https://localhost:8080/"
        },
        "id": "-SpNiqsMa9Ir",
        "outputId": "88ae96ed-c90e-43f4-f407-9d4a07f3d54a"
      },
      "source": [
        "smaller_model = Sequential()\n",
        "smaller_model.add(Dense(units=4, activation='relu', input_shape=(NUM_WORDS,) ))\n",
        "smaller_model.add(Dense(units=4, activation='relu'))\n",
        "smaller_model.add(Dense(units=1, activation='sigmoid'))\n",
        "\n",
        "smaller_model.compile(optimizer='adam',\n",
        "                       loss= 'binary_crossentropy',\n",
        "                       metrics=['accuracy', 'binary_crossentropy'])\n",
        "smaller_model.summary()"
      ],
      "execution_count": 31,
      "outputs": [
        {
          "output_type": "stream",
          "name": "stdout",
          "text": [
            "Model: \"sequential_8\"\n",
            "_________________________________________________________________\n",
            "Layer (type)                 Output Shape              Param #   \n",
            "=================================================================\n",
            "dense_22 (Dense)             (None, 4)                 40004     \n",
            "_________________________________________________________________\n",
            "dense_23 (Dense)             (None, 4)                 20        \n",
            "_________________________________________________________________\n",
            "dense_24 (Dense)             (None, 1)                 5         \n",
            "=================================================================\n",
            "Total params: 40,029\n",
            "Trainable params: 40,029\n",
            "Non-trainable params: 0\n",
            "_________________________________________________________________\n"
          ]
        }
      ]
    },
    {
      "cell_type": "code",
      "metadata": {
        "colab": {
          "base_uri": "https://localhost:8080/"
        },
        "id": "RKPP7mDSbzGu",
        "outputId": "e8f1a897-8af1-4511-9409-59ca3a4b7b45"
      },
      "source": [
        "smaller_history = smaller_model.fit(train_data, train_labels, epochs=20, batch_size=512, validation_data=(test_data, test_labels))"
      ],
      "execution_count": 32,
      "outputs": [
        {
          "output_type": "stream",
          "name": "stdout",
          "text": [
            "Epoch 1/20\n",
            "49/49 [==============================] - 3s 51ms/step - loss: 0.6134 - accuracy: 0.6496 - binary_crossentropy: 0.6134 - val_loss: 0.5521 - val_accuracy: 0.7642 - val_binary_crossentropy: 0.5521\n",
            "Epoch 2/20\n",
            "49/49 [==============================] - 2s 36ms/step - loss: 0.5002 - accuracy: 0.8261 - binary_crossentropy: 0.5002 - val_loss: 0.4985 - val_accuracy: 0.8242 - val_binary_crossentropy: 0.4985\n",
            "Epoch 3/20\n",
            "49/49 [==============================] - 2s 36ms/step - loss: 0.4480 - accuracy: 0.8852 - binary_crossentropy: 0.4480 - val_loss: 0.4733 - val_accuracy: 0.8485 - val_binary_crossentropy: 0.4733\n",
            "Epoch 4/20\n",
            "49/49 [==============================] - 2s 36ms/step - loss: 0.4127 - accuracy: 0.9115 - binary_crossentropy: 0.4127 - val_loss: 0.4568 - val_accuracy: 0.8635 - val_binary_crossentropy: 0.4568\n",
            "Epoch 5/20\n",
            "49/49 [==============================] - 2s 36ms/step - loss: 0.3844 - accuracy: 0.9293 - binary_crossentropy: 0.3844 - val_loss: 0.4485 - val_accuracy: 0.8669 - val_binary_crossentropy: 0.4485\n",
            "Epoch 6/20\n",
            "49/49 [==============================] - 2s 35ms/step - loss: 0.3603 - accuracy: 0.9433 - binary_crossentropy: 0.3603 - val_loss: 0.4385 - val_accuracy: 0.8763 - val_binary_crossentropy: 0.4385\n",
            "Epoch 7/20\n",
            "49/49 [==============================] - 2s 36ms/step - loss: 0.3398 - accuracy: 0.9517 - binary_crossentropy: 0.3398 - val_loss: 0.4336 - val_accuracy: 0.8764 - val_binary_crossentropy: 0.4336\n",
            "Epoch 8/20\n",
            "49/49 [==============================] - 2s 36ms/step - loss: 0.3201 - accuracy: 0.9593 - binary_crossentropy: 0.3201 - val_loss: 0.4369 - val_accuracy: 0.8722 - val_binary_crossentropy: 0.4369\n",
            "Epoch 9/20\n",
            "49/49 [==============================] - 2s 36ms/step - loss: 0.3025 - accuracy: 0.9666 - binary_crossentropy: 0.3025 - val_loss: 0.4330 - val_accuracy: 0.8743 - val_binary_crossentropy: 0.4330\n",
            "Epoch 10/20\n",
            "49/49 [==============================] - 2s 35ms/step - loss: 0.2863 - accuracy: 0.9716 - binary_crossentropy: 0.2863 - val_loss: 0.4296 - val_accuracy: 0.8764 - val_binary_crossentropy: 0.4296\n",
            "Epoch 11/20\n",
            "49/49 [==============================] - 2s 37ms/step - loss: 0.2679 - accuracy: 0.9768 - binary_crossentropy: 0.2679 - val_loss: 0.4556 - val_accuracy: 0.8709 - val_binary_crossentropy: 0.4556\n",
            "Epoch 12/20\n",
            "49/49 [==============================] - 2s 35ms/step - loss: 0.2509 - accuracy: 0.9814 - binary_crossentropy: 0.2509 - val_loss: 0.4800 - val_accuracy: 0.8686 - val_binary_crossentropy: 0.4800\n",
            "Epoch 13/20\n",
            "49/49 [==============================] - 2s 36ms/step - loss: 0.2362 - accuracy: 0.9854 - binary_crossentropy: 0.2362 - val_loss: 0.5006 - val_accuracy: 0.8670 - val_binary_crossentropy: 0.5006\n",
            "Epoch 14/20\n",
            "49/49 [==============================] - 2s 35ms/step - loss: 0.2237 - accuracy: 0.9878 - binary_crossentropy: 0.2237 - val_loss: 0.5184 - val_accuracy: 0.8654 - val_binary_crossentropy: 0.5184\n",
            "Epoch 15/20\n",
            "49/49 [==============================] - 2s 36ms/step - loss: 0.2129 - accuracy: 0.9896 - binary_crossentropy: 0.2129 - val_loss: 0.5306 - val_accuracy: 0.8650 - val_binary_crossentropy: 0.5306\n",
            "Epoch 16/20\n",
            "49/49 [==============================] - 2s 36ms/step - loss: 0.2032 - accuracy: 0.9906 - binary_crossentropy: 0.2032 - val_loss: 0.5429 - val_accuracy: 0.8634 - val_binary_crossentropy: 0.5429\n",
            "Epoch 17/20\n",
            "49/49 [==============================] - 2s 35ms/step - loss: 0.1949 - accuracy: 0.9911 - binary_crossentropy: 0.1949 - val_loss: 0.5569 - val_accuracy: 0.8639 - val_binary_crossentropy: 0.5569\n",
            "Epoch 18/20\n",
            "49/49 [==============================] - 2s 35ms/step - loss: 0.1873 - accuracy: 0.9915 - binary_crossentropy: 0.1873 - val_loss: 0.5700 - val_accuracy: 0.8636 - val_binary_crossentropy: 0.5700\n",
            "Epoch 19/20\n",
            "49/49 [==============================] - 2s 35ms/step - loss: 0.1803 - accuracy: 0.9918 - binary_crossentropy: 0.1803 - val_loss: 0.5837 - val_accuracy: 0.8634 - val_binary_crossentropy: 0.5837\n",
            "Epoch 20/20\n",
            "49/49 [==============================] - 2s 36ms/step - loss: 0.1741 - accuracy: 0.9920 - binary_crossentropy: 0.1741 - val_loss: 0.5861 - val_accuracy: 0.8626 - val_binary_crossentropy: 0.5861\n"
          ]
        }
      ]
    },
    {
      "cell_type": "markdown",
      "metadata": {
        "id": "3SVF0IB_csG4"
      },
      "source": [
        "### Budowa większego modelu"
      ]
    },
    {
      "cell_type": "code",
      "metadata": {
        "colab": {
          "base_uri": "https://localhost:8080/"
        },
        "id": "jyjpcO1bcd2K",
        "outputId": "16adce76-e681-4e2e-ac7f-84b12373f304"
      },
      "source": [
        "bigger_model = Sequential()\n",
        "bigger_model.add(Dense(512, activation='relu', input_shape=(NUM_WORDS,)))\n",
        "bigger_model.add(Dense(512, activation='relu'))\n",
        "bigger_model.add(Dense(1, activation='sigmoid'))\n",
        "\n",
        "bigger_model.compile(optimizer='adam',\n",
        "                       loss='binary_crossentropy',\n",
        "                       metrics=['accuracy', 'binary_crossentropy'])\n",
        "\n",
        "bigger_model.summary()"
      ],
      "execution_count": 33,
      "outputs": [
        {
          "output_type": "stream",
          "name": "stdout",
          "text": [
            "Model: \"sequential_9\"\n",
            "_________________________________________________________________\n",
            "Layer (type)                 Output Shape              Param #   \n",
            "=================================================================\n",
            "dense_25 (Dense)             (None, 512)               5120512   \n",
            "_________________________________________________________________\n",
            "dense_26 (Dense)             (None, 512)               262656    \n",
            "_________________________________________________________________\n",
            "dense_27 (Dense)             (None, 1)                 513       \n",
            "=================================================================\n",
            "Total params: 5,383,681\n",
            "Trainable params: 5,383,681\n",
            "Non-trainable params: 0\n",
            "_________________________________________________________________\n"
          ]
        }
      ]
    },
    {
      "cell_type": "code",
      "metadata": {
        "colab": {
          "base_uri": "https://localhost:8080/"
        },
        "id": "6k_w7OQQcx2F",
        "outputId": "cee5a1e6-de80-47b1-8334-1847e893a5e3"
      },
      "source": [
        "bigger_history = bigger_model.fit(train_data, train_labels, epochs=20, batch_size=512, validation_data=(test_data, test_labels))"
      ],
      "execution_count": 34,
      "outputs": [
        {
          "output_type": "stream",
          "name": "stdout",
          "text": [
            "Epoch 1/20\n",
            "49/49 [==============================] - 15s 307ms/step - loss: 0.3451 - accuracy: 0.8527 - binary_crossentropy: 0.3451 - val_loss: 0.2857 - val_accuracy: 0.8848 - val_binary_crossentropy: 0.2857\n",
            "Epoch 2/20\n",
            "49/49 [==============================] - 15s 302ms/step - loss: 0.1371 - accuracy: 0.9512 - binary_crossentropy: 0.1371 - val_loss: 0.3199 - val_accuracy: 0.8756 - val_binary_crossentropy: 0.3199\n",
            "Epoch 3/20\n",
            "49/49 [==============================] - 15s 301ms/step - loss: 0.0428 - accuracy: 0.9881 - binary_crossentropy: 0.0428 - val_loss: 0.4509 - val_accuracy: 0.8691 - val_binary_crossentropy: 0.4509\n",
            "Epoch 4/20\n",
            "49/49 [==============================] - 15s 300ms/step - loss: 0.0071 - accuracy: 0.9988 - binary_crossentropy: 0.0071 - val_loss: 0.5801 - val_accuracy: 0.8673 - val_binary_crossentropy: 0.5801\n",
            "Epoch 5/20\n",
            "49/49 [==============================] - 14s 297ms/step - loss: 0.0015 - accuracy: 1.0000 - binary_crossentropy: 0.0015 - val_loss: 0.6643 - val_accuracy: 0.8718 - val_binary_crossentropy: 0.6643\n",
            "Epoch 6/20\n",
            "49/49 [==============================] - 15s 298ms/step - loss: 2.4431e-04 - accuracy: 1.0000 - binary_crossentropy: 2.4431e-04 - val_loss: 0.7191 - val_accuracy: 0.8712 - val_binary_crossentropy: 0.7191\n",
            "Epoch 7/20\n",
            "49/49 [==============================] - 15s 302ms/step - loss: 1.3042e-04 - accuracy: 1.0000 - binary_crossentropy: 1.3042e-04 - val_loss: 0.7529 - val_accuracy: 0.8713 - val_binary_crossentropy: 0.7529\n",
            "Epoch 8/20\n",
            "49/49 [==============================] - 15s 299ms/step - loss: 9.2564e-05 - accuracy: 1.0000 - binary_crossentropy: 9.2564e-05 - val_loss: 0.7776 - val_accuracy: 0.8712 - val_binary_crossentropy: 0.7776\n",
            "Epoch 9/20\n",
            "49/49 [==============================] - 14s 297ms/step - loss: 7.0687e-05 - accuracy: 1.0000 - binary_crossentropy: 7.0687e-05 - val_loss: 0.7974 - val_accuracy: 0.8714 - val_binary_crossentropy: 0.7974\n",
            "Epoch 10/20\n",
            "49/49 [==============================] - 14s 296ms/step - loss: 5.6290e-05 - accuracy: 1.0000 - binary_crossentropy: 5.6290e-05 - val_loss: 0.8152 - val_accuracy: 0.8714 - val_binary_crossentropy: 0.8152\n",
            "Epoch 11/20\n",
            "49/49 [==============================] - 15s 300ms/step - loss: 4.5906e-05 - accuracy: 1.0000 - binary_crossentropy: 4.5906e-05 - val_loss: 0.8310 - val_accuracy: 0.8714 - val_binary_crossentropy: 0.8310\n",
            "Epoch 12/20\n",
            "49/49 [==============================] - 15s 299ms/step - loss: 3.8244e-05 - accuracy: 1.0000 - binary_crossentropy: 3.8244e-05 - val_loss: 0.8449 - val_accuracy: 0.8714 - val_binary_crossentropy: 0.8449\n",
            "Epoch 13/20\n",
            "49/49 [==============================] - 15s 299ms/step - loss: 3.2413e-05 - accuracy: 1.0000 - binary_crossentropy: 3.2413e-05 - val_loss: 0.8577 - val_accuracy: 0.8713 - val_binary_crossentropy: 0.8577\n",
            "Epoch 14/20\n",
            "49/49 [==============================] - 15s 302ms/step - loss: 2.7741e-05 - accuracy: 1.0000 - binary_crossentropy: 2.7741e-05 - val_loss: 0.8695 - val_accuracy: 0.8711 - val_binary_crossentropy: 0.8695\n",
            "Epoch 15/20\n",
            "49/49 [==============================] - 15s 300ms/step - loss: 2.4010e-05 - accuracy: 1.0000 - binary_crossentropy: 2.4010e-05 - val_loss: 0.8805 - val_accuracy: 0.8712 - val_binary_crossentropy: 0.8805\n",
            "Epoch 16/20\n",
            "49/49 [==============================] - 15s 299ms/step - loss: 2.0991e-05 - accuracy: 1.0000 - binary_crossentropy: 2.0991e-05 - val_loss: 0.8908 - val_accuracy: 0.8711 - val_binary_crossentropy: 0.8908\n",
            "Epoch 17/20\n",
            "49/49 [==============================] - 15s 299ms/step - loss: 1.8464e-05 - accuracy: 1.0000 - binary_crossentropy: 1.8464e-05 - val_loss: 0.9006 - val_accuracy: 0.8710 - val_binary_crossentropy: 0.9006\n",
            "Epoch 18/20\n",
            "49/49 [==============================] - 15s 299ms/step - loss: 1.6345e-05 - accuracy: 1.0000 - binary_crossentropy: 1.6345e-05 - val_loss: 0.9098 - val_accuracy: 0.8711 - val_binary_crossentropy: 0.9098\n",
            "Epoch 19/20\n",
            "49/49 [==============================] - 15s 302ms/step - loss: 1.4562e-05 - accuracy: 1.0000 - binary_crossentropy: 1.4562e-05 - val_loss: 0.9187 - val_accuracy: 0.8712 - val_binary_crossentropy: 0.9187\n",
            "Epoch 20/20\n",
            "49/49 [==============================] - 15s 300ms/step - loss: 1.3047e-05 - accuracy: 1.0000 - binary_crossentropy: 1.3047e-05 - val_loss: 0.9269 - val_accuracy: 0.8713 - val_binary_crossentropy: 0.9269\n"
          ]
        }
      ]
    },
    {
      "cell_type": "code",
      "metadata": {
        "colab": {
          "base_uri": "https://localhost:8080/",
          "height": 677
        },
        "id": "cOOUUvRPc1AV",
        "outputId": "3539bae4-ae09-48c0-d968-4167f2ea87aa"
      },
      "source": [
        "hist = pd.DataFrame(baseline_history.history)\n",
        "hist['epoch'] = baseline_history.epoch\n",
        "hist.head(20)"
      ],
      "execution_count": 37,
      "outputs": [
        {
          "output_type": "execute_result",
          "data": {
            "text/html": [
              "<div>\n",
              "<style scoped>\n",
              "    .dataframe tbody tr th:only-of-type {\n",
              "        vertical-align: middle;\n",
              "    }\n",
              "\n",
              "    .dataframe tbody tr th {\n",
              "        vertical-align: top;\n",
              "    }\n",
              "\n",
              "    .dataframe thead th {\n",
              "        text-align: right;\n",
              "    }\n",
              "</style>\n",
              "<table border=\"1\" class=\"dataframe\">\n",
              "  <thead>\n",
              "    <tr style=\"text-align: right;\">\n",
              "      <th></th>\n",
              "      <th>loss</th>\n",
              "      <th>accuracy</th>\n",
              "      <th>binary_crossentropy</th>\n",
              "      <th>val_loss</th>\n",
              "      <th>val_accuracy</th>\n",
              "      <th>val_binary_crossentropy</th>\n",
              "      <th>epoch</th>\n",
              "    </tr>\n",
              "  </thead>\n",
              "  <tbody>\n",
              "    <tr>\n",
              "      <th>0</th>\n",
              "      <td>0.600177</td>\n",
              "      <td>0.66820</td>\n",
              "      <td>0.600177</td>\n",
              "      <td>0.527457</td>\n",
              "      <td>0.81488</td>\n",
              "      <td>0.527457</td>\n",
              "      <td>0</td>\n",
              "    </tr>\n",
              "    <tr>\n",
              "      <th>1</th>\n",
              "      <td>0.396812</td>\n",
              "      <td>0.88004</td>\n",
              "      <td>0.396812</td>\n",
              "      <td>0.340291</td>\n",
              "      <td>0.88308</td>\n",
              "      <td>0.340291</td>\n",
              "      <td>1</td>\n",
              "    </tr>\n",
              "    <tr>\n",
              "      <th>2</th>\n",
              "      <td>0.252285</td>\n",
              "      <td>0.92312</td>\n",
              "      <td>0.252285</td>\n",
              "      <td>0.295832</td>\n",
              "      <td>0.88728</td>\n",
              "      <td>0.295832</td>\n",
              "      <td>2</td>\n",
              "    </tr>\n",
              "    <tr>\n",
              "      <th>3</th>\n",
              "      <td>0.198104</td>\n",
              "      <td>0.93788</td>\n",
              "      <td>0.198104</td>\n",
              "      <td>0.288055</td>\n",
              "      <td>0.88672</td>\n",
              "      <td>0.288055</td>\n",
              "      <td>3</td>\n",
              "    </tr>\n",
              "    <tr>\n",
              "      <th>4</th>\n",
              "      <td>0.167496</td>\n",
              "      <td>0.94780</td>\n",
              "      <td>0.167496</td>\n",
              "      <td>0.295049</td>\n",
              "      <td>0.88196</td>\n",
              "      <td>0.295049</td>\n",
              "      <td>4</td>\n",
              "    </tr>\n",
              "    <tr>\n",
              "      <th>5</th>\n",
              "      <td>0.146111</td>\n",
              "      <td>0.95568</td>\n",
              "      <td>0.146111</td>\n",
              "      <td>0.306006</td>\n",
              "      <td>0.87936</td>\n",
              "      <td>0.306006</td>\n",
              "      <td>5</td>\n",
              "    </tr>\n",
              "    <tr>\n",
              "      <th>6</th>\n",
              "      <td>0.129961</td>\n",
              "      <td>0.96128</td>\n",
              "      <td>0.129961</td>\n",
              "      <td>0.315095</td>\n",
              "      <td>0.87736</td>\n",
              "      <td>0.315095</td>\n",
              "      <td>6</td>\n",
              "    </tr>\n",
              "    <tr>\n",
              "      <th>7</th>\n",
              "      <td>0.115032</td>\n",
              "      <td>0.96656</td>\n",
              "      <td>0.115032</td>\n",
              "      <td>0.328606</td>\n",
              "      <td>0.87564</td>\n",
              "      <td>0.328606</td>\n",
              "      <td>7</td>\n",
              "    </tr>\n",
              "    <tr>\n",
              "      <th>8</th>\n",
              "      <td>0.103532</td>\n",
              "      <td>0.97096</td>\n",
              "      <td>0.103532</td>\n",
              "      <td>0.346622</td>\n",
              "      <td>0.87220</td>\n",
              "      <td>0.346622</td>\n",
              "      <td>8</td>\n",
              "    </tr>\n",
              "    <tr>\n",
              "      <th>9</th>\n",
              "      <td>0.093640</td>\n",
              "      <td>0.97536</td>\n",
              "      <td>0.093640</td>\n",
              "      <td>0.362853</td>\n",
              "      <td>0.87164</td>\n",
              "      <td>0.362853</td>\n",
              "      <td>9</td>\n",
              "    </tr>\n",
              "    <tr>\n",
              "      <th>10</th>\n",
              "      <td>0.084993</td>\n",
              "      <td>0.97856</td>\n",
              "      <td>0.084993</td>\n",
              "      <td>0.382623</td>\n",
              "      <td>0.86880</td>\n",
              "      <td>0.382623</td>\n",
              "      <td>10</td>\n",
              "    </tr>\n",
              "    <tr>\n",
              "      <th>11</th>\n",
              "      <td>0.076884</td>\n",
              "      <td>0.98188</td>\n",
              "      <td>0.076884</td>\n",
              "      <td>0.403488</td>\n",
              "      <td>0.86596</td>\n",
              "      <td>0.403488</td>\n",
              "      <td>11</td>\n",
              "    </tr>\n",
              "    <tr>\n",
              "      <th>12</th>\n",
              "      <td>0.069570</td>\n",
              "      <td>0.98424</td>\n",
              "      <td>0.069570</td>\n",
              "      <td>0.420659</td>\n",
              "      <td>0.86472</td>\n",
              "      <td>0.420659</td>\n",
              "      <td>12</td>\n",
              "    </tr>\n",
              "    <tr>\n",
              "      <th>13</th>\n",
              "      <td>0.063513</td>\n",
              "      <td>0.98724</td>\n",
              "      <td>0.063513</td>\n",
              "      <td>0.449573</td>\n",
              "      <td>0.86160</td>\n",
              "      <td>0.449573</td>\n",
              "      <td>13</td>\n",
              "    </tr>\n",
              "    <tr>\n",
              "      <th>14</th>\n",
              "      <td>0.057612</td>\n",
              "      <td>0.98920</td>\n",
              "      <td>0.057612</td>\n",
              "      <td>0.468483</td>\n",
              "      <td>0.86008</td>\n",
              "      <td>0.468483</td>\n",
              "      <td>14</td>\n",
              "    </tr>\n",
              "    <tr>\n",
              "      <th>15</th>\n",
              "      <td>0.052147</td>\n",
              "      <td>0.99132</td>\n",
              "      <td>0.052147</td>\n",
              "      <td>0.487774</td>\n",
              "      <td>0.85920</td>\n",
              "      <td>0.487774</td>\n",
              "      <td>15</td>\n",
              "    </tr>\n",
              "    <tr>\n",
              "      <th>16</th>\n",
              "      <td>0.047480</td>\n",
              "      <td>0.99284</td>\n",
              "      <td>0.047480</td>\n",
              "      <td>0.508634</td>\n",
              "      <td>0.85792</td>\n",
              "      <td>0.508634</td>\n",
              "      <td>16</td>\n",
              "    </tr>\n",
              "    <tr>\n",
              "      <th>17</th>\n",
              "      <td>0.043351</td>\n",
              "      <td>0.99400</td>\n",
              "      <td>0.043351</td>\n",
              "      <td>0.530483</td>\n",
              "      <td>0.85708</td>\n",
              "      <td>0.530483</td>\n",
              "      <td>17</td>\n",
              "    </tr>\n",
              "    <tr>\n",
              "      <th>18</th>\n",
              "      <td>0.039959</td>\n",
              "      <td>0.99448</td>\n",
              "      <td>0.039959</td>\n",
              "      <td>0.552490</td>\n",
              "      <td>0.85580</td>\n",
              "      <td>0.552490</td>\n",
              "      <td>18</td>\n",
              "    </tr>\n",
              "    <tr>\n",
              "      <th>19</th>\n",
              "      <td>0.036158</td>\n",
              "      <td>0.99524</td>\n",
              "      <td>0.036158</td>\n",
              "      <td>0.570488</td>\n",
              "      <td>0.85460</td>\n",
              "      <td>0.570488</td>\n",
              "      <td>19</td>\n",
              "    </tr>\n",
              "  </tbody>\n",
              "</table>\n",
              "</div>"
            ],
            "text/plain": [
              "        loss  accuracy  ...  val_binary_crossentropy  epoch\n",
              "0   0.600177   0.66820  ...                 0.527457      0\n",
              "1   0.396812   0.88004  ...                 0.340291      1\n",
              "2   0.252285   0.92312  ...                 0.295832      2\n",
              "3   0.198104   0.93788  ...                 0.288055      3\n",
              "4   0.167496   0.94780  ...                 0.295049      4\n",
              "5   0.146111   0.95568  ...                 0.306006      5\n",
              "6   0.129961   0.96128  ...                 0.315095      6\n",
              "7   0.115032   0.96656  ...                 0.328606      7\n",
              "8   0.103532   0.97096  ...                 0.346622      8\n",
              "9   0.093640   0.97536  ...                 0.362853      9\n",
              "10  0.084993   0.97856  ...                 0.382623     10\n",
              "11  0.076884   0.98188  ...                 0.403488     11\n",
              "12  0.069570   0.98424  ...                 0.420659     12\n",
              "13  0.063513   0.98724  ...                 0.449573     13\n",
              "14  0.057612   0.98920  ...                 0.468483     14\n",
              "15  0.052147   0.99132  ...                 0.487774     15\n",
              "16  0.047480   0.99284  ...                 0.508634     16\n",
              "17  0.043351   0.99400  ...                 0.530483     17\n",
              "18  0.039959   0.99448  ...                 0.552490     18\n",
              "19  0.036158   0.99524  ...                 0.570488     19\n",
              "\n",
              "[20 rows x 7 columns]"
            ]
          },
          "metadata": {},
          "execution_count": 37
        }
      ]
    },
    {
      "cell_type": "markdown",
      "metadata": {
        "id": "BLSZlLW2fqsB"
      },
      "source": [
        "### Porównanie wydajności modeli"
      ]
    },
    {
      "cell_type": "code",
      "metadata": {
        "colab": {
          "base_uri": "https://localhost:8080/",
          "height": 542
        },
        "id": "WPCEXSiUfUkU",
        "outputId": "1ba4a25d-e844-4dac-e5d4-abe0595a7aa5"
      },
      "source": [
        "import plotly.graph_objects as go\n",
        "\n",
        "fig = go.Figure()\n",
        "for name, history in zip(['smaller', 'baseline', 'bigger'], [smaller_history, baseline_history, bigger_history]):\n",
        "    hist = pd.DataFrame(history.history)\n",
        "    hist['epoch'] = history.epoch\n",
        "    fig.add_trace(go.Scatter(x=hist['epoch'], y=hist['binary_crossentropy'], name=name + '_binary_crossentropy', mode='lines+markers'))\n",
        "    fig.add_trace(go.Scatter(x=hist['epoch'], y=hist['val_binary_crossentropy'], name=name + '_val_binary_crossentropy', mode='lines+markers'))\n",
        "    fig.update_layout(xaxis_title='Epoch', yaxis_title='binary_crossentropy')\n",
        "fig.show()"
      ],
      "execution_count": 40,
      "outputs": [
        {
          "output_type": "display_data",
          "data": {
            "text/html": [
              "<html>\n",
              "<head><meta charset=\"utf-8\" /></head>\n",
              "<body>\n",
              "    <div>\n",
              "            <script src=\"https://cdnjs.cloudflare.com/ajax/libs/mathjax/2.7.5/MathJax.js?config=TeX-AMS-MML_SVG\"></script><script type=\"text/javascript\">if (window.MathJax) {MathJax.Hub.Config({SVG: {font: \"STIX-Web\"}});}</script>\n",
              "                <script type=\"text/javascript\">window.PlotlyConfig = {MathJaxConfig: 'local'};</script>\n",
              "        <script src=\"https://cdn.plot.ly/plotly-latest.min.js\"></script>    \n",
              "            <div id=\"6dba8491-b048-4533-98ca-1926b506bd9b\" class=\"plotly-graph-div\" style=\"height:525px; width:100%;\"></div>\n",
              "            <script type=\"text/javascript\">\n",
              "                \n",
              "                    window.PLOTLYENV=window.PLOTLYENV || {};\n",
              "                    \n",
              "                if (document.getElementById(\"6dba8491-b048-4533-98ca-1926b506bd9b\")) {\n",
              "                    Plotly.newPlot(\n",
              "                        '6dba8491-b048-4533-98ca-1926b506bd9b',\n",
              "                        [{\"mode\": \"lines+markers\", \"name\": \"smaller_binary_crossentropy\", \"type\": \"scatter\", \"x\": [0, 1, 2, 3, 4, 5, 6, 7, 8, 9, 10, 11, 12, 13, 14, 15, 16, 17, 18, 19], \"y\": [0.6133720874786377, 0.5001760721206665, 0.4480099678039551, 0.4126642048358917, 0.38436079025268555, 0.36034882068634033, 0.33976495265960693, 0.3201400339603424, 0.302546888589859, 0.2863246202468872, 0.2679210305213928, 0.250885009765625, 0.23623505234718323, 0.223725825548172, 0.2128564715385437, 0.20319558680057526, 0.19486507773399353, 0.18726849555969238, 0.18034660816192627, 0.1740845888853073]}, {\"mode\": \"lines+markers\", \"name\": \"smaller_val_binary_crossentropy\", \"type\": \"scatter\", \"x\": [0, 1, 2, 3, 4, 5, 6, 7, 8, 9, 10, 11, 12, 13, 14, 15, 16, 17, 18, 19], \"y\": [0.5520534515380859, 0.49854838848114014, 0.4733428955078125, 0.45683661103248596, 0.4485088586807251, 0.43845242261886597, 0.4335803985595703, 0.43687883019447327, 0.4330229163169861, 0.4295611083507538, 0.4555729329586029, 0.4800298511981964, 0.5006197094917297, 0.5183566808700562, 0.5305628776550293, 0.5428528189659119, 0.556885302066803, 0.5699501037597656, 0.5837461948394775, 0.5860882997512817]}, {\"mode\": \"lines+markers\", \"name\": \"baseline_binary_crossentropy\", \"type\": \"scatter\", \"x\": [0, 1, 2, 3, 4, 5, 6, 7, 8, 9, 10, 11, 12, 13, 14, 15, 16, 17, 18, 19], \"y\": [0.6001771688461304, 0.39681240916252136, 0.2522851526737213, 0.19810357689857483, 0.1674956977367401, 0.146111398935318, 0.12996089458465576, 0.1150318831205368, 0.1035321056842804, 0.0936400517821312, 0.08499262481927872, 0.07688356190919876, 0.06957010924816132, 0.06351334601640701, 0.057611942291259766, 0.05214734748005867, 0.04748019203543663, 0.043350912630558014, 0.039959002286195755, 0.03615831211209297]}, {\"mode\": \"lines+markers\", \"name\": \"baseline_val_binary_crossentropy\", \"type\": \"scatter\", \"x\": [0, 1, 2, 3, 4, 5, 6, 7, 8, 9, 10, 11, 12, 13, 14, 15, 16, 17, 18, 19], \"y\": [0.5274571776390076, 0.34029054641723633, 0.2958321273326874, 0.28805509209632874, 0.29504919052124023, 0.30600637197494507, 0.3150952160358429, 0.32860636711120605, 0.346622496843338, 0.3628533184528351, 0.382622629404068, 0.40348753333091736, 0.4206594228744507, 0.44957324862480164, 0.4684830904006958, 0.48777374625205994, 0.5086341500282288, 0.5304825901985168, 0.5524904131889343, 0.5704881548881531]}, {\"mode\": \"lines+markers\", \"name\": \"bigger_binary_crossentropy\", \"type\": \"scatter\", \"x\": [0, 1, 2, 3, 4, 5, 6, 7, 8, 9, 10, 11, 12, 13, 14, 15, 16, 17, 18, 19], \"y\": [0.34512126445770264, 0.1370707005262375, 0.042823564261198044, 0.00711905537173152, 0.001474272576160729, 0.00024431379279121757, 0.0001304184115724638, 9.25641943467781e-05, 7.068731792969629e-05, 5.628995495499112e-05, 4.5906093873782083e-05, 3.8244237657636404e-05, 3.241280137444846e-05, 2.774063432298135e-05, 2.401032361376565e-05, 2.0990926714148372e-05, 1.846358645707369e-05, 1.6345213225577027e-05, 1.4562332580680959e-05, 1.3047087122686207e-05]}, {\"mode\": \"lines+markers\", \"name\": \"bigger_val_binary_crossentropy\", \"type\": \"scatter\", \"x\": [0, 1, 2, 3, 4, 5, 6, 7, 8, 9, 10, 11, 12, 13, 14, 15, 16, 17, 18, 19], \"y\": [0.28566479682922363, 0.3199479579925537, 0.450917512178421, 0.5800811648368835, 0.6643317341804504, 0.7191301584243774, 0.7528567910194397, 0.7776405215263367, 0.797396719455719, 0.8152143955230713, 0.8310131430625916, 0.8449317216873169, 0.8577007055282593, 0.8694514036178589, 0.8805035948753357, 0.8907684087753296, 0.9006218910217285, 0.9098039269447327, 0.9187012314796448, 0.9269148707389832]}],\n",
              "                        {\"template\": {\"data\": {\"bar\": [{\"error_x\": {\"color\": \"#2a3f5f\"}, \"error_y\": {\"color\": \"#2a3f5f\"}, \"marker\": {\"line\": {\"color\": \"#E5ECF6\", \"width\": 0.5}}, \"type\": \"bar\"}], \"barpolar\": [{\"marker\": {\"line\": {\"color\": \"#E5ECF6\", \"width\": 0.5}}, \"type\": \"barpolar\"}], \"carpet\": [{\"aaxis\": {\"endlinecolor\": \"#2a3f5f\", \"gridcolor\": \"white\", \"linecolor\": \"white\", \"minorgridcolor\": \"white\", \"startlinecolor\": \"#2a3f5f\"}, \"baxis\": {\"endlinecolor\": \"#2a3f5f\", \"gridcolor\": \"white\", \"linecolor\": \"white\", \"minorgridcolor\": \"white\", \"startlinecolor\": \"#2a3f5f\"}, \"type\": \"carpet\"}], \"choropleth\": [{\"colorbar\": {\"outlinewidth\": 0, \"ticks\": \"\"}, \"type\": \"choropleth\"}], \"contour\": [{\"colorbar\": {\"outlinewidth\": 0, \"ticks\": \"\"}, \"colorscale\": [[0.0, \"#0d0887\"], [0.1111111111111111, \"#46039f\"], [0.2222222222222222, \"#7201a8\"], [0.3333333333333333, \"#9c179e\"], [0.4444444444444444, \"#bd3786\"], [0.5555555555555556, \"#d8576b\"], [0.6666666666666666, \"#ed7953\"], [0.7777777777777778, \"#fb9f3a\"], [0.8888888888888888, \"#fdca26\"], [1.0, \"#f0f921\"]], \"type\": \"contour\"}], \"contourcarpet\": [{\"colorbar\": {\"outlinewidth\": 0, \"ticks\": \"\"}, \"type\": \"contourcarpet\"}], \"heatmap\": [{\"colorbar\": {\"outlinewidth\": 0, \"ticks\": \"\"}, \"colorscale\": [[0.0, \"#0d0887\"], [0.1111111111111111, \"#46039f\"], [0.2222222222222222, \"#7201a8\"], [0.3333333333333333, \"#9c179e\"], [0.4444444444444444, \"#bd3786\"], [0.5555555555555556, \"#d8576b\"], [0.6666666666666666, \"#ed7953\"], [0.7777777777777778, \"#fb9f3a\"], [0.8888888888888888, \"#fdca26\"], [1.0, \"#f0f921\"]], \"type\": \"heatmap\"}], \"heatmapgl\": [{\"colorbar\": {\"outlinewidth\": 0, \"ticks\": \"\"}, \"colorscale\": [[0.0, \"#0d0887\"], [0.1111111111111111, \"#46039f\"], [0.2222222222222222, \"#7201a8\"], [0.3333333333333333, \"#9c179e\"], [0.4444444444444444, \"#bd3786\"], [0.5555555555555556, \"#d8576b\"], [0.6666666666666666, \"#ed7953\"], [0.7777777777777778, \"#fb9f3a\"], [0.8888888888888888, \"#fdca26\"], [1.0, \"#f0f921\"]], \"type\": \"heatmapgl\"}], \"histogram\": [{\"marker\": {\"colorbar\": {\"outlinewidth\": 0, \"ticks\": \"\"}}, \"type\": \"histogram\"}], \"histogram2d\": [{\"colorbar\": {\"outlinewidth\": 0, \"ticks\": \"\"}, \"colorscale\": [[0.0, \"#0d0887\"], [0.1111111111111111, \"#46039f\"], [0.2222222222222222, \"#7201a8\"], [0.3333333333333333, \"#9c179e\"], [0.4444444444444444, \"#bd3786\"], [0.5555555555555556, \"#d8576b\"], [0.6666666666666666, \"#ed7953\"], [0.7777777777777778, \"#fb9f3a\"], [0.8888888888888888, \"#fdca26\"], [1.0, \"#f0f921\"]], \"type\": \"histogram2d\"}], \"histogram2dcontour\": [{\"colorbar\": {\"outlinewidth\": 0, \"ticks\": \"\"}, \"colorscale\": [[0.0, \"#0d0887\"], [0.1111111111111111, \"#46039f\"], [0.2222222222222222, \"#7201a8\"], [0.3333333333333333, \"#9c179e\"], [0.4444444444444444, \"#bd3786\"], [0.5555555555555556, \"#d8576b\"], [0.6666666666666666, \"#ed7953\"], [0.7777777777777778, \"#fb9f3a\"], [0.8888888888888888, \"#fdca26\"], [1.0, \"#f0f921\"]], \"type\": \"histogram2dcontour\"}], \"mesh3d\": [{\"colorbar\": {\"outlinewidth\": 0, \"ticks\": \"\"}, \"type\": \"mesh3d\"}], \"parcoords\": [{\"line\": {\"colorbar\": {\"outlinewidth\": 0, \"ticks\": \"\"}}, \"type\": \"parcoords\"}], \"pie\": [{\"automargin\": true, \"type\": \"pie\"}], \"scatter\": [{\"marker\": {\"colorbar\": {\"outlinewidth\": 0, \"ticks\": \"\"}}, \"type\": \"scatter\"}], \"scatter3d\": [{\"line\": {\"colorbar\": {\"outlinewidth\": 0, \"ticks\": \"\"}}, \"marker\": {\"colorbar\": {\"outlinewidth\": 0, \"ticks\": \"\"}}, \"type\": \"scatter3d\"}], \"scattercarpet\": [{\"marker\": {\"colorbar\": {\"outlinewidth\": 0, \"ticks\": \"\"}}, \"type\": \"scattercarpet\"}], \"scattergeo\": [{\"marker\": {\"colorbar\": {\"outlinewidth\": 0, \"ticks\": \"\"}}, \"type\": \"scattergeo\"}], \"scattergl\": [{\"marker\": {\"colorbar\": {\"outlinewidth\": 0, \"ticks\": \"\"}}, \"type\": \"scattergl\"}], \"scattermapbox\": [{\"marker\": {\"colorbar\": {\"outlinewidth\": 0, \"ticks\": \"\"}}, \"type\": \"scattermapbox\"}], \"scatterpolar\": [{\"marker\": {\"colorbar\": {\"outlinewidth\": 0, \"ticks\": \"\"}}, \"type\": \"scatterpolar\"}], \"scatterpolargl\": [{\"marker\": {\"colorbar\": {\"outlinewidth\": 0, \"ticks\": \"\"}}, \"type\": \"scatterpolargl\"}], \"scatterternary\": [{\"marker\": {\"colorbar\": {\"outlinewidth\": 0, \"ticks\": \"\"}}, \"type\": \"scatterternary\"}], \"surface\": [{\"colorbar\": {\"outlinewidth\": 0, \"ticks\": \"\"}, \"colorscale\": [[0.0, \"#0d0887\"], [0.1111111111111111, \"#46039f\"], [0.2222222222222222, \"#7201a8\"], [0.3333333333333333, \"#9c179e\"], [0.4444444444444444, \"#bd3786\"], [0.5555555555555556, \"#d8576b\"], [0.6666666666666666, \"#ed7953\"], [0.7777777777777778, \"#fb9f3a\"], [0.8888888888888888, \"#fdca26\"], [1.0, \"#f0f921\"]], \"type\": \"surface\"}], \"table\": [{\"cells\": {\"fill\": {\"color\": \"#EBF0F8\"}, \"line\": {\"color\": \"white\"}}, \"header\": {\"fill\": {\"color\": \"#C8D4E3\"}, \"line\": {\"color\": \"white\"}}, \"type\": \"table\"}]}, \"layout\": {\"annotationdefaults\": {\"arrowcolor\": \"#2a3f5f\", \"arrowhead\": 0, \"arrowwidth\": 1}, \"coloraxis\": {\"colorbar\": {\"outlinewidth\": 0, \"ticks\": \"\"}}, \"colorscale\": {\"diverging\": [[0, \"#8e0152\"], [0.1, \"#c51b7d\"], [0.2, \"#de77ae\"], [0.3, \"#f1b6da\"], [0.4, \"#fde0ef\"], [0.5, \"#f7f7f7\"], [0.6, \"#e6f5d0\"], [0.7, \"#b8e186\"], [0.8, \"#7fbc41\"], [0.9, \"#4d9221\"], [1, \"#276419\"]], \"sequential\": [[0.0, \"#0d0887\"], [0.1111111111111111, \"#46039f\"], [0.2222222222222222, \"#7201a8\"], [0.3333333333333333, \"#9c179e\"], [0.4444444444444444, \"#bd3786\"], [0.5555555555555556, \"#d8576b\"], [0.6666666666666666, \"#ed7953\"], [0.7777777777777778, \"#fb9f3a\"], [0.8888888888888888, \"#fdca26\"], [1.0, \"#f0f921\"]], \"sequentialminus\": [[0.0, \"#0d0887\"], [0.1111111111111111, \"#46039f\"], [0.2222222222222222, \"#7201a8\"], [0.3333333333333333, \"#9c179e\"], [0.4444444444444444, \"#bd3786\"], [0.5555555555555556, \"#d8576b\"], [0.6666666666666666, \"#ed7953\"], [0.7777777777777778, \"#fb9f3a\"], [0.8888888888888888, \"#fdca26\"], [1.0, \"#f0f921\"]]}, \"colorway\": [\"#636efa\", \"#EF553B\", \"#00cc96\", \"#ab63fa\", \"#FFA15A\", \"#19d3f3\", \"#FF6692\", \"#B6E880\", \"#FF97FF\", \"#FECB52\"], \"font\": {\"color\": \"#2a3f5f\"}, \"geo\": {\"bgcolor\": \"white\", \"lakecolor\": \"white\", \"landcolor\": \"#E5ECF6\", \"showlakes\": true, \"showland\": true, \"subunitcolor\": \"white\"}, \"hoverlabel\": {\"align\": \"left\"}, \"hovermode\": \"closest\", \"mapbox\": {\"style\": \"light\"}, \"paper_bgcolor\": \"white\", \"plot_bgcolor\": \"#E5ECF6\", \"polar\": {\"angularaxis\": {\"gridcolor\": \"white\", \"linecolor\": \"white\", \"ticks\": \"\"}, \"bgcolor\": \"#E5ECF6\", \"radialaxis\": {\"gridcolor\": \"white\", \"linecolor\": \"white\", \"ticks\": \"\"}}, \"scene\": {\"xaxis\": {\"backgroundcolor\": \"#E5ECF6\", \"gridcolor\": \"white\", \"gridwidth\": 2, \"linecolor\": \"white\", \"showbackground\": true, \"ticks\": \"\", \"zerolinecolor\": \"white\"}, \"yaxis\": {\"backgroundcolor\": \"#E5ECF6\", \"gridcolor\": \"white\", \"gridwidth\": 2, \"linecolor\": \"white\", \"showbackground\": true, \"ticks\": \"\", \"zerolinecolor\": \"white\"}, \"zaxis\": {\"backgroundcolor\": \"#E5ECF6\", \"gridcolor\": \"white\", \"gridwidth\": 2, \"linecolor\": \"white\", \"showbackground\": true, \"ticks\": \"\", \"zerolinecolor\": \"white\"}}, \"shapedefaults\": {\"line\": {\"color\": \"#2a3f5f\"}}, \"ternary\": {\"aaxis\": {\"gridcolor\": \"white\", \"linecolor\": \"white\", \"ticks\": \"\"}, \"baxis\": {\"gridcolor\": \"white\", \"linecolor\": \"white\", \"ticks\": \"\"}, \"bgcolor\": \"#E5ECF6\", \"caxis\": {\"gridcolor\": \"white\", \"linecolor\": \"white\", \"ticks\": \"\"}}, \"title\": {\"x\": 0.05}, \"xaxis\": {\"automargin\": true, \"gridcolor\": \"white\", \"linecolor\": \"white\", \"ticks\": \"\", \"title\": {\"standoff\": 15}, \"zerolinecolor\": \"white\", \"zerolinewidth\": 2}, \"yaxis\": {\"automargin\": true, \"gridcolor\": \"white\", \"linecolor\": \"white\", \"ticks\": \"\", \"title\": {\"standoff\": 15}, \"zerolinecolor\": \"white\", \"zerolinewidth\": 2}}}, \"xaxis\": {\"title\": {\"text\": \"Epoch\"}}, \"yaxis\": {\"title\": {\"text\": \"binary_crossentropy\"}}},\n",
              "                        {\"responsive\": true}\n",
              "                    ).then(function(){\n",
              "                            \n",
              "var gd = document.getElementById('6dba8491-b048-4533-98ca-1926b506bd9b');\n",
              "var x = new MutationObserver(function (mutations, observer) {{\n",
              "        var display = window.getComputedStyle(gd).display;\n",
              "        if (!display || display === 'none') {{\n",
              "            console.log([gd, 'removed!']);\n",
              "            Plotly.purge(gd);\n",
              "            observer.disconnect();\n",
              "        }}\n",
              "}});\n",
              "\n",
              "// Listen for the removal of the full notebook cells\n",
              "var notebookContainer = gd.closest('#notebook-container');\n",
              "if (notebookContainer) {{\n",
              "    x.observe(notebookContainer, {childList: true});\n",
              "}}\n",
              "\n",
              "// Listen for the clearing of the current output cell\n",
              "var outputEl = gd.closest('.output');\n",
              "if (outputEl) {{\n",
              "    x.observe(outputEl, {childList: true});\n",
              "}}\n",
              "\n",
              "                        })\n",
              "                };\n",
              "                \n",
              "            </script>\n",
              "        </div>\n",
              "</body>\n",
              "</html>"
            ]
          },
          "metadata": {}
        }
      ]
    },
    {
      "cell_type": "markdown",
      "metadata": {
        "id": "si6J7DqRif6Y"
      },
      "source": [
        "### Metody regularyzacji"
      ]
    },
    {
      "cell_type": "code",
      "metadata": {
        "colab": {
          "base_uri": "https://localhost:8080/"
        },
        "id": "bT7dSdJuf85f",
        "outputId": "0e0acac0-f19f-4fc2-987c-3dd3a94581a5"
      },
      "source": [
        "from tensorflow.keras.regularizers import l2\n",
        "\n",
        "l2_model = Sequential()\n",
        "l2_model.add(Dense(16, kernel_regularizer=l2(0.001), activation='relu', input_shape=(NUM_WORDS,)))\n",
        "l2_model.add(Dense(16, kernel_regularizer=l2(0.01), activation='relu'))\n",
        "l2_model.add(Dense(1, activation='sigmoid'))\n",
        "\n",
        "l2_model.compile(optimizer='adam',\n",
        "                 loss='binary_crossentropy',\n",
        "                 metrics=['accuracy', 'binary_crossentropy'])\n",
        "\n",
        "l2_model.summary()"
      ],
      "execution_count": 42,
      "outputs": [
        {
          "output_type": "stream",
          "name": "stdout",
          "text": [
            "Model: \"sequential_10\"\n",
            "_________________________________________________________________\n",
            "Layer (type)                 Output Shape              Param #   \n",
            "=================================================================\n",
            "dense_28 (Dense)             (None, 16)                160016    \n",
            "_________________________________________________________________\n",
            "dense_29 (Dense)             (None, 16)                272       \n",
            "_________________________________________________________________\n",
            "dense_30 (Dense)             (None, 1)                 17        \n",
            "=================================================================\n",
            "Total params: 160,305\n",
            "Trainable params: 160,305\n",
            "Non-trainable params: 0\n",
            "_________________________________________________________________\n"
          ]
        }
      ]
    },
    {
      "cell_type": "code",
      "metadata": {
        "colab": {
          "base_uri": "https://localhost:8080/"
        },
        "id": "Y0-jc_PBkNwN",
        "outputId": "cb35ef20-9b36-4c10-b87c-ff1200d4ef8e"
      },
      "source": [
        "l2_model_history = l2_model.fit(train_data, train_labels, epochs=20, batch_size=512, validation_data=(test_data, test_labels))"
      ],
      "execution_count": 43,
      "outputs": [
        {
          "output_type": "stream",
          "name": "stdout",
          "text": [
            "Epoch 1/20\n",
            "49/49 [==============================] - 3s 50ms/step - loss: 0.6639 - accuracy: 0.8042 - binary_crossentropy: 0.4976 - val_loss: 0.5098 - val_accuracy: 0.8708 - val_binary_crossentropy: 0.3532\n",
            "Epoch 2/20\n",
            "49/49 [==============================] - 2s 39ms/step - loss: 0.4225 - accuracy: 0.9054 - binary_crossentropy: 0.2689 - val_loss: 0.4363 - val_accuracy: 0.8880 - val_binary_crossentropy: 0.2885\n",
            "Epoch 3/20\n",
            "49/49 [==============================] - 2s 39ms/step - loss: 0.3554 - accuracy: 0.9260 - binary_crossentropy: 0.2132 - val_loss: 0.4180 - val_accuracy: 0.8872 - val_binary_crossentropy: 0.2826\n",
            "Epoch 4/20\n",
            "49/49 [==============================] - 2s 39ms/step - loss: 0.3199 - accuracy: 0.9360 - binary_crossentropy: 0.1893 - val_loss: 0.4122 - val_accuracy: 0.8839 - val_binary_crossentropy: 0.2870\n",
            "Epoch 5/20\n",
            "49/49 [==============================] - 2s 39ms/step - loss: 0.2973 - accuracy: 0.9394 - binary_crossentropy: 0.1759 - val_loss: 0.4076 - val_accuracy: 0.8824 - val_binary_crossentropy: 0.2904\n",
            "Epoch 6/20\n",
            "49/49 [==============================] - 2s 39ms/step - loss: 0.2790 - accuracy: 0.9461 - binary_crossentropy: 0.1646 - val_loss: 0.4056 - val_accuracy: 0.8801 - val_binary_crossentropy: 0.2946\n",
            "Epoch 7/20\n",
            "49/49 [==============================] - 2s 40ms/step - loss: 0.2669 - accuracy: 0.9466 - binary_crossentropy: 0.1580 - val_loss: 0.4087 - val_accuracy: 0.8792 - val_binary_crossentropy: 0.3023\n",
            "Epoch 8/20\n",
            "49/49 [==============================] - 2s 39ms/step - loss: 0.2557 - accuracy: 0.9502 - binary_crossentropy: 0.1508 - val_loss: 0.4098 - val_accuracy: 0.8775 - val_binary_crossentropy: 0.3071\n",
            "Epoch 9/20\n",
            "49/49 [==============================] - 2s 40ms/step - loss: 0.2481 - accuracy: 0.9511 - binary_crossentropy: 0.1466 - val_loss: 0.4085 - val_accuracy: 0.8758 - val_binary_crossentropy: 0.3086\n",
            "Epoch 10/20\n",
            "49/49 [==============================] - 2s 40ms/step - loss: 0.2404 - accuracy: 0.9544 - binary_crossentropy: 0.1413 - val_loss: 0.4130 - val_accuracy: 0.8738 - val_binary_crossentropy: 0.3151\n",
            "Epoch 11/20\n",
            "49/49 [==============================] - 2s 39ms/step - loss: 0.2345 - accuracy: 0.9554 - binary_crossentropy: 0.1373 - val_loss: 0.4153 - val_accuracy: 0.8742 - val_binary_crossentropy: 0.3194\n",
            "Epoch 12/20\n",
            "49/49 [==============================] - 2s 39ms/step - loss: 0.2296 - accuracy: 0.9565 - binary_crossentropy: 0.1340 - val_loss: 0.4192 - val_accuracy: 0.8730 - val_binary_crossentropy: 0.3245\n",
            "Epoch 13/20\n",
            "49/49 [==============================] - 2s 40ms/step - loss: 0.2254 - accuracy: 0.9567 - binary_crossentropy: 0.1310 - val_loss: 0.4209 - val_accuracy: 0.8721 - val_binary_crossentropy: 0.3273\n",
            "Epoch 14/20\n",
            "49/49 [==============================] - 2s 39ms/step - loss: 0.2230 - accuracy: 0.9580 - binary_crossentropy: 0.1296 - val_loss: 0.4240 - val_accuracy: 0.8712 - val_binary_crossentropy: 0.3313\n",
            "Epoch 15/20\n",
            "49/49 [==============================] - 2s 39ms/step - loss: 0.2185 - accuracy: 0.9579 - binary_crossentropy: 0.1259 - val_loss: 0.4310 - val_accuracy: 0.8690 - val_binary_crossentropy: 0.3392\n",
            "Epoch 16/20\n",
            "49/49 [==============================] - 2s 40ms/step - loss: 0.2154 - accuracy: 0.9598 - binary_crossentropy: 0.1238 - val_loss: 0.4358 - val_accuracy: 0.8683 - val_binary_crossentropy: 0.3446\n",
            "Epoch 17/20\n",
            "49/49 [==============================] - 2s 38ms/step - loss: 0.2107 - accuracy: 0.9612 - binary_crossentropy: 0.1195 - val_loss: 0.4317 - val_accuracy: 0.8692 - val_binary_crossentropy: 0.3413\n",
            "Epoch 18/20\n",
            "49/49 [==============================] - 2s 38ms/step - loss: 0.2079 - accuracy: 0.9615 - binary_crossentropy: 0.1176 - val_loss: 0.4352 - val_accuracy: 0.8690 - val_binary_crossentropy: 0.3454\n",
            "Epoch 19/20\n",
            "49/49 [==============================] - 2s 39ms/step - loss: 0.2070 - accuracy: 0.9614 - binary_crossentropy: 0.1173 - val_loss: 0.4509 - val_accuracy: 0.8647 - val_binary_crossentropy: 0.3616\n",
            "Epoch 20/20\n",
            "49/49 [==============================] - 2s 38ms/step - loss: 0.2023 - accuracy: 0.9626 - binary_crossentropy: 0.1132 - val_loss: 0.4436 - val_accuracy: 0.8673 - val_binary_crossentropy: 0.3551\n"
          ]
        }
      ]
    },
    {
      "cell_type": "code",
      "metadata": {
        "colab": {
          "base_uri": "https://localhost:8080/",
          "height": 542
        },
        "id": "LWV4zGookOX8",
        "outputId": "d776edb4-8761-4fa6-bf6d-da129934ab50"
      },
      "source": [
        "fig = go.Figure()\n",
        "for name, history in zip(['baseline', 'l2'], [baseline_history, l2_model_history]):\n",
        "    hist = pd.DataFrame(history.history)\n",
        "    hist['epoch'] = history.epoch\n",
        "    fig.add_trace(go.Scatter(x=hist['epoch'], y=hist['binary_crossentropy'], name=name + '_binary_crossentropy', mode='lines+markers'))\n",
        "    fig.add_trace(go.Scatter(x=hist['epoch'], y=hist['val_binary_crossentropy'], name=name + '_val_binary_crossentropy', mode='lines+markers'))\n",
        "    fig.update_layout(xaxis_title='Epoki', yaxis_title='binary_crossentropy')\n",
        "fig.show()"
      ],
      "execution_count": 44,
      "outputs": [
        {
          "output_type": "display_data",
          "data": {
            "text/html": [
              "<html>\n",
              "<head><meta charset=\"utf-8\" /></head>\n",
              "<body>\n",
              "    <div>\n",
              "            <script src=\"https://cdnjs.cloudflare.com/ajax/libs/mathjax/2.7.5/MathJax.js?config=TeX-AMS-MML_SVG\"></script><script type=\"text/javascript\">if (window.MathJax) {MathJax.Hub.Config({SVG: {font: \"STIX-Web\"}});}</script>\n",
              "                <script type=\"text/javascript\">window.PlotlyConfig = {MathJaxConfig: 'local'};</script>\n",
              "        <script src=\"https://cdn.plot.ly/plotly-latest.min.js\"></script>    \n",
              "            <div id=\"72b34bca-6b6b-4c17-935c-41e0a76df415\" class=\"plotly-graph-div\" style=\"height:525px; width:100%;\"></div>\n",
              "            <script type=\"text/javascript\">\n",
              "                \n",
              "                    window.PLOTLYENV=window.PLOTLYENV || {};\n",
              "                    \n",
              "                if (document.getElementById(\"72b34bca-6b6b-4c17-935c-41e0a76df415\")) {\n",
              "                    Plotly.newPlot(\n",
              "                        '72b34bca-6b6b-4c17-935c-41e0a76df415',\n",
              "                        [{\"mode\": \"lines+markers\", \"name\": \"baseline_binary_crossentropy\", \"type\": \"scatter\", \"x\": [0, 1, 2, 3, 4, 5, 6, 7, 8, 9, 10, 11, 12, 13, 14, 15, 16, 17, 18, 19], \"y\": [0.6001771688461304, 0.39681240916252136, 0.2522851526737213, 0.19810357689857483, 0.1674956977367401, 0.146111398935318, 0.12996089458465576, 0.1150318831205368, 0.1035321056842804, 0.0936400517821312, 0.08499262481927872, 0.07688356190919876, 0.06957010924816132, 0.06351334601640701, 0.057611942291259766, 0.05214734748005867, 0.04748019203543663, 0.043350912630558014, 0.039959002286195755, 0.03615831211209297]}, {\"mode\": \"lines+markers\", \"name\": \"baseline_val_binary_crossentropy\", \"type\": \"scatter\", \"x\": [0, 1, 2, 3, 4, 5, 6, 7, 8, 9, 10, 11, 12, 13, 14, 15, 16, 17, 18, 19], \"y\": [0.5274571776390076, 0.34029054641723633, 0.2958321273326874, 0.28805509209632874, 0.29504919052124023, 0.30600637197494507, 0.3150952160358429, 0.32860636711120605, 0.346622496843338, 0.3628533184528351, 0.382622629404068, 0.40348753333091736, 0.4206594228744507, 0.44957324862480164, 0.4684830904006958, 0.48777374625205994, 0.5086341500282288, 0.5304825901985168, 0.5524904131889343, 0.5704881548881531]}, {\"mode\": \"lines+markers\", \"name\": \"l2_binary_crossentropy\", \"type\": \"scatter\", \"x\": [0, 1, 2, 3, 4, 5, 6, 7, 8, 9, 10, 11, 12, 13, 14, 15, 16, 17, 18, 19], \"y\": [0.49764785170555115, 0.2688548266887665, 0.21324187517166138, 0.1893054097890854, 0.17594057321548462, 0.16459767520427704, 0.15796184539794922, 0.15075340867042542, 0.14658313989639282, 0.1413320004940033, 0.13733157515525818, 0.13403667509555817, 0.13102149963378906, 0.12962035834789276, 0.12588393688201904, 0.1237579956650734, 0.11952433735132217, 0.11758589744567871, 0.11734951287508011, 0.11316981166601181]}, {\"mode\": \"lines+markers\", \"name\": \"l2_val_binary_crossentropy\", \"type\": \"scatter\", \"x\": [0, 1, 2, 3, 4, 5, 6, 7, 8, 9, 10, 11, 12, 13, 14, 15, 16, 17, 18, 19], \"y\": [0.35323137044906616, 0.2884838283061981, 0.28258031606674194, 0.28704574704170227, 0.2903877794742584, 0.2946138381958008, 0.3022574782371521, 0.30709558725357056, 0.3086318373680115, 0.31512418389320374, 0.3194369375705719, 0.32454800605773926, 0.32727479934692383, 0.33132925629615784, 0.33918139338493347, 0.3445862829685211, 0.34128186106681824, 0.3454382121562958, 0.3616124987602234, 0.3551240563392639]}],\n",
              "                        {\"template\": {\"data\": {\"bar\": [{\"error_x\": {\"color\": \"#2a3f5f\"}, \"error_y\": {\"color\": \"#2a3f5f\"}, \"marker\": {\"line\": {\"color\": \"#E5ECF6\", \"width\": 0.5}}, \"type\": \"bar\"}], \"barpolar\": [{\"marker\": {\"line\": {\"color\": \"#E5ECF6\", \"width\": 0.5}}, \"type\": \"barpolar\"}], \"carpet\": [{\"aaxis\": {\"endlinecolor\": \"#2a3f5f\", \"gridcolor\": \"white\", \"linecolor\": \"white\", \"minorgridcolor\": \"white\", \"startlinecolor\": \"#2a3f5f\"}, \"baxis\": {\"endlinecolor\": \"#2a3f5f\", \"gridcolor\": \"white\", \"linecolor\": \"white\", \"minorgridcolor\": \"white\", \"startlinecolor\": \"#2a3f5f\"}, \"type\": \"carpet\"}], \"choropleth\": [{\"colorbar\": {\"outlinewidth\": 0, \"ticks\": \"\"}, \"type\": \"choropleth\"}], \"contour\": [{\"colorbar\": {\"outlinewidth\": 0, \"ticks\": \"\"}, \"colorscale\": [[0.0, \"#0d0887\"], [0.1111111111111111, \"#46039f\"], [0.2222222222222222, \"#7201a8\"], [0.3333333333333333, \"#9c179e\"], [0.4444444444444444, \"#bd3786\"], [0.5555555555555556, \"#d8576b\"], [0.6666666666666666, \"#ed7953\"], [0.7777777777777778, \"#fb9f3a\"], [0.8888888888888888, \"#fdca26\"], [1.0, \"#f0f921\"]], \"type\": \"contour\"}], \"contourcarpet\": [{\"colorbar\": {\"outlinewidth\": 0, \"ticks\": \"\"}, \"type\": \"contourcarpet\"}], \"heatmap\": [{\"colorbar\": {\"outlinewidth\": 0, \"ticks\": \"\"}, \"colorscale\": [[0.0, \"#0d0887\"], [0.1111111111111111, \"#46039f\"], [0.2222222222222222, \"#7201a8\"], [0.3333333333333333, \"#9c179e\"], [0.4444444444444444, \"#bd3786\"], [0.5555555555555556, \"#d8576b\"], [0.6666666666666666, \"#ed7953\"], [0.7777777777777778, \"#fb9f3a\"], [0.8888888888888888, \"#fdca26\"], [1.0, \"#f0f921\"]], \"type\": \"heatmap\"}], \"heatmapgl\": [{\"colorbar\": {\"outlinewidth\": 0, \"ticks\": \"\"}, \"colorscale\": [[0.0, \"#0d0887\"], [0.1111111111111111, \"#46039f\"], [0.2222222222222222, \"#7201a8\"], [0.3333333333333333, \"#9c179e\"], [0.4444444444444444, \"#bd3786\"], [0.5555555555555556, \"#d8576b\"], [0.6666666666666666, \"#ed7953\"], [0.7777777777777778, \"#fb9f3a\"], [0.8888888888888888, \"#fdca26\"], [1.0, \"#f0f921\"]], \"type\": \"heatmapgl\"}], \"histogram\": [{\"marker\": {\"colorbar\": {\"outlinewidth\": 0, \"ticks\": \"\"}}, \"type\": \"histogram\"}], \"histogram2d\": [{\"colorbar\": {\"outlinewidth\": 0, \"ticks\": \"\"}, \"colorscale\": [[0.0, \"#0d0887\"], [0.1111111111111111, \"#46039f\"], [0.2222222222222222, \"#7201a8\"], [0.3333333333333333, \"#9c179e\"], [0.4444444444444444, \"#bd3786\"], [0.5555555555555556, \"#d8576b\"], [0.6666666666666666, \"#ed7953\"], [0.7777777777777778, \"#fb9f3a\"], [0.8888888888888888, \"#fdca26\"], [1.0, \"#f0f921\"]], \"type\": \"histogram2d\"}], \"histogram2dcontour\": [{\"colorbar\": {\"outlinewidth\": 0, \"ticks\": \"\"}, \"colorscale\": [[0.0, \"#0d0887\"], [0.1111111111111111, \"#46039f\"], [0.2222222222222222, \"#7201a8\"], [0.3333333333333333, \"#9c179e\"], [0.4444444444444444, \"#bd3786\"], [0.5555555555555556, \"#d8576b\"], [0.6666666666666666, \"#ed7953\"], [0.7777777777777778, \"#fb9f3a\"], [0.8888888888888888, \"#fdca26\"], [1.0, \"#f0f921\"]], \"type\": \"histogram2dcontour\"}], \"mesh3d\": [{\"colorbar\": {\"outlinewidth\": 0, \"ticks\": \"\"}, \"type\": \"mesh3d\"}], \"parcoords\": [{\"line\": {\"colorbar\": {\"outlinewidth\": 0, \"ticks\": \"\"}}, \"type\": \"parcoords\"}], \"pie\": [{\"automargin\": true, \"type\": \"pie\"}], \"scatter\": [{\"marker\": {\"colorbar\": {\"outlinewidth\": 0, \"ticks\": \"\"}}, \"type\": \"scatter\"}], \"scatter3d\": [{\"line\": {\"colorbar\": {\"outlinewidth\": 0, \"ticks\": \"\"}}, \"marker\": {\"colorbar\": {\"outlinewidth\": 0, \"ticks\": \"\"}}, \"type\": \"scatter3d\"}], \"scattercarpet\": [{\"marker\": {\"colorbar\": {\"outlinewidth\": 0, \"ticks\": \"\"}}, \"type\": \"scattercarpet\"}], \"scattergeo\": [{\"marker\": {\"colorbar\": {\"outlinewidth\": 0, \"ticks\": \"\"}}, \"type\": \"scattergeo\"}], \"scattergl\": [{\"marker\": {\"colorbar\": {\"outlinewidth\": 0, \"ticks\": \"\"}}, \"type\": \"scattergl\"}], \"scattermapbox\": [{\"marker\": {\"colorbar\": {\"outlinewidth\": 0, \"ticks\": \"\"}}, \"type\": \"scattermapbox\"}], \"scatterpolar\": [{\"marker\": {\"colorbar\": {\"outlinewidth\": 0, \"ticks\": \"\"}}, \"type\": \"scatterpolar\"}], \"scatterpolargl\": [{\"marker\": {\"colorbar\": {\"outlinewidth\": 0, \"ticks\": \"\"}}, \"type\": \"scatterpolargl\"}], \"scatterternary\": [{\"marker\": {\"colorbar\": {\"outlinewidth\": 0, \"ticks\": \"\"}}, \"type\": \"scatterternary\"}], \"surface\": [{\"colorbar\": {\"outlinewidth\": 0, \"ticks\": \"\"}, \"colorscale\": [[0.0, \"#0d0887\"], [0.1111111111111111, \"#46039f\"], [0.2222222222222222, \"#7201a8\"], [0.3333333333333333, \"#9c179e\"], [0.4444444444444444, \"#bd3786\"], [0.5555555555555556, \"#d8576b\"], [0.6666666666666666, \"#ed7953\"], [0.7777777777777778, \"#fb9f3a\"], [0.8888888888888888, \"#fdca26\"], [1.0, \"#f0f921\"]], \"type\": \"surface\"}], \"table\": [{\"cells\": {\"fill\": {\"color\": \"#EBF0F8\"}, \"line\": {\"color\": \"white\"}}, \"header\": {\"fill\": {\"color\": \"#C8D4E3\"}, \"line\": {\"color\": \"white\"}}, \"type\": \"table\"}]}, \"layout\": {\"annotationdefaults\": {\"arrowcolor\": \"#2a3f5f\", \"arrowhead\": 0, \"arrowwidth\": 1}, \"coloraxis\": {\"colorbar\": {\"outlinewidth\": 0, \"ticks\": \"\"}}, \"colorscale\": {\"diverging\": [[0, \"#8e0152\"], [0.1, \"#c51b7d\"], [0.2, \"#de77ae\"], [0.3, \"#f1b6da\"], [0.4, \"#fde0ef\"], [0.5, \"#f7f7f7\"], [0.6, \"#e6f5d0\"], [0.7, \"#b8e186\"], [0.8, \"#7fbc41\"], [0.9, \"#4d9221\"], [1, \"#276419\"]], \"sequential\": [[0.0, \"#0d0887\"], [0.1111111111111111, \"#46039f\"], [0.2222222222222222, \"#7201a8\"], [0.3333333333333333, \"#9c179e\"], [0.4444444444444444, \"#bd3786\"], [0.5555555555555556, \"#d8576b\"], [0.6666666666666666, \"#ed7953\"], [0.7777777777777778, \"#fb9f3a\"], [0.8888888888888888, \"#fdca26\"], [1.0, \"#f0f921\"]], \"sequentialminus\": [[0.0, \"#0d0887\"], [0.1111111111111111, \"#46039f\"], [0.2222222222222222, \"#7201a8\"], [0.3333333333333333, \"#9c179e\"], [0.4444444444444444, \"#bd3786\"], [0.5555555555555556, \"#d8576b\"], [0.6666666666666666, \"#ed7953\"], [0.7777777777777778, \"#fb9f3a\"], [0.8888888888888888, \"#fdca26\"], [1.0, \"#f0f921\"]]}, \"colorway\": [\"#636efa\", \"#EF553B\", \"#00cc96\", \"#ab63fa\", \"#FFA15A\", \"#19d3f3\", \"#FF6692\", \"#B6E880\", \"#FF97FF\", \"#FECB52\"], \"font\": {\"color\": \"#2a3f5f\"}, \"geo\": {\"bgcolor\": \"white\", \"lakecolor\": \"white\", \"landcolor\": \"#E5ECF6\", \"showlakes\": true, \"showland\": true, \"subunitcolor\": \"white\"}, \"hoverlabel\": {\"align\": \"left\"}, \"hovermode\": \"closest\", \"mapbox\": {\"style\": \"light\"}, \"paper_bgcolor\": \"white\", \"plot_bgcolor\": \"#E5ECF6\", \"polar\": {\"angularaxis\": {\"gridcolor\": \"white\", \"linecolor\": \"white\", \"ticks\": \"\"}, \"bgcolor\": \"#E5ECF6\", \"radialaxis\": {\"gridcolor\": \"white\", \"linecolor\": \"white\", \"ticks\": \"\"}}, \"scene\": {\"xaxis\": {\"backgroundcolor\": \"#E5ECF6\", \"gridcolor\": \"white\", \"gridwidth\": 2, \"linecolor\": \"white\", \"showbackground\": true, \"ticks\": \"\", \"zerolinecolor\": \"white\"}, \"yaxis\": {\"backgroundcolor\": \"#E5ECF6\", \"gridcolor\": \"white\", \"gridwidth\": 2, \"linecolor\": \"white\", \"showbackground\": true, \"ticks\": \"\", \"zerolinecolor\": \"white\"}, \"zaxis\": {\"backgroundcolor\": \"#E5ECF6\", \"gridcolor\": \"white\", \"gridwidth\": 2, \"linecolor\": \"white\", \"showbackground\": true, \"ticks\": \"\", \"zerolinecolor\": \"white\"}}, \"shapedefaults\": {\"line\": {\"color\": \"#2a3f5f\"}}, \"ternary\": {\"aaxis\": {\"gridcolor\": \"white\", \"linecolor\": \"white\", \"ticks\": \"\"}, \"baxis\": {\"gridcolor\": \"white\", \"linecolor\": \"white\", \"ticks\": \"\"}, \"bgcolor\": \"#E5ECF6\", \"caxis\": {\"gridcolor\": \"white\", \"linecolor\": \"white\", \"ticks\": \"\"}}, \"title\": {\"x\": 0.05}, \"xaxis\": {\"automargin\": true, \"gridcolor\": \"white\", \"linecolor\": \"white\", \"ticks\": \"\", \"title\": {\"standoff\": 15}, \"zerolinecolor\": \"white\", \"zerolinewidth\": 2}, \"yaxis\": {\"automargin\": true, \"gridcolor\": \"white\", \"linecolor\": \"white\", \"ticks\": \"\", \"title\": {\"standoff\": 15}, \"zerolinecolor\": \"white\", \"zerolinewidth\": 2}}}, \"xaxis\": {\"title\": {\"text\": \"Epoki\"}}, \"yaxis\": {\"title\": {\"text\": \"binary_crossentropy\"}}},\n",
              "                        {\"responsive\": true}\n",
              "                    ).then(function(){\n",
              "                            \n",
              "var gd = document.getElementById('72b34bca-6b6b-4c17-935c-41e0a76df415');\n",
              "var x = new MutationObserver(function (mutations, observer) {{\n",
              "        var display = window.getComputedStyle(gd).display;\n",
              "        if (!display || display === 'none') {{\n",
              "            console.log([gd, 'removed!']);\n",
              "            Plotly.purge(gd);\n",
              "            observer.disconnect();\n",
              "        }}\n",
              "}});\n",
              "\n",
              "// Listen for the removal of the full notebook cells\n",
              "var notebookContainer = gd.closest('#notebook-container');\n",
              "if (notebookContainer) {{\n",
              "    x.observe(notebookContainer, {childList: true});\n",
              "}}\n",
              "\n",
              "// Listen for the clearing of the current output cell\n",
              "var outputEl = gd.closest('.output');\n",
              "if (outputEl) {{\n",
              "    x.observe(outputEl, {childList: true});\n",
              "}}\n",
              "\n",
              "                        })\n",
              "                };\n",
              "                \n",
              "            </script>\n",
              "        </div>\n",
              "</body>\n",
              "</html>"
            ]
          },
          "metadata": {}
        }
      ]
    },
    {
      "cell_type": "code",
      "metadata": {
        "colab": {
          "base_uri": "https://localhost:8080/"
        },
        "id": "20ZxYqEfloYw",
        "outputId": "202454ff-3969-4fba-8ce0-96758cd7ee70"
      },
      "source": [
        "from tensorflow.keras.layers import Dropout\n",
        "\n",
        "dropout_model = Sequential()\n",
        "dropout_model.add(Dense(16, activation='relu', input_shape=(NUM_WORDS,)))\n",
        "dropout_model.add(Dropout(0.5))\n",
        "dropout_model.add(Dense(16, activation='relu'))\n",
        "dropout_model.add(Dropout(0.5))\n",
        "dropout_model.add(Dense(1, activation='sigmoid'))\n",
        "\n",
        "dropout_model.compile(optimizer='adam',\n",
        "                 loss='binary_crossentropy',\n",
        "                 metrics=['accuracy', 'binary_crossentropy'])\n",
        "\n",
        "dropout_model.summary()"
      ],
      "execution_count": 45,
      "outputs": [
        {
          "output_type": "stream",
          "name": "stdout",
          "text": [
            "Model: \"sequential_11\"\n",
            "_________________________________________________________________\n",
            "Layer (type)                 Output Shape              Param #   \n",
            "=================================================================\n",
            "dense_31 (Dense)             (None, 16)                160016    \n",
            "_________________________________________________________________\n",
            "dropout (Dropout)            (None, 16)                0         \n",
            "_________________________________________________________________\n",
            "dense_32 (Dense)             (None, 16)                272       \n",
            "_________________________________________________________________\n",
            "dropout_1 (Dropout)          (None, 16)                0         \n",
            "_________________________________________________________________\n",
            "dense_33 (Dense)             (None, 1)                 17        \n",
            "=================================================================\n",
            "Total params: 160,305\n",
            "Trainable params: 160,305\n",
            "Non-trainable params: 0\n",
            "_________________________________________________________________\n"
          ]
        }
      ]
    },
    {
      "cell_type": "code",
      "metadata": {
        "colab": {
          "base_uri": "https://localhost:8080/"
        },
        "id": "FTmQecN0l_Zm",
        "outputId": "15cd1a3f-ae7e-4b79-8e5d-1e4470cd4d71"
      },
      "source": [
        "dropout_history = dropout_model.fit(train_data, train_labels, epochs=20, batch_size=512, validation_data=(test_data, test_labels))"
      ],
      "execution_count": 46,
      "outputs": [
        {
          "output_type": "stream",
          "name": "stdout",
          "text": [
            "Epoch 1/20\n",
            "49/49 [==============================] - 3s 47ms/step - loss: 0.6061 - accuracy: 0.6705 - binary_crossentropy: 0.6061 - val_loss: 0.4636 - val_accuracy: 0.8558 - val_binary_crossentropy: 0.4636\n",
            "Epoch 2/20\n",
            "49/49 [==============================] - 2s 38ms/step - loss: 0.4355 - accuracy: 0.8180 - binary_crossentropy: 0.4355 - val_loss: 0.3308 - val_accuracy: 0.8808 - val_binary_crossentropy: 0.3308\n",
            "Epoch 3/20\n",
            "49/49 [==============================] - 2s 38ms/step - loss: 0.3381 - accuracy: 0.8712 - binary_crossentropy: 0.3381 - val_loss: 0.2823 - val_accuracy: 0.8891 - val_binary_crossentropy: 0.2823\n",
            "Epoch 4/20\n",
            "49/49 [==============================] - 2s 38ms/step - loss: 0.2778 - accuracy: 0.9002 - binary_crossentropy: 0.2778 - val_loss: 0.2773 - val_accuracy: 0.8848 - val_binary_crossentropy: 0.2773\n",
            "Epoch 5/20\n",
            "49/49 [==============================] - 2s 38ms/step - loss: 0.2392 - accuracy: 0.9157 - binary_crossentropy: 0.2392 - val_loss: 0.2829 - val_accuracy: 0.8868 - val_binary_crossentropy: 0.2829\n",
            "Epoch 6/20\n",
            "49/49 [==============================] - 2s 39ms/step - loss: 0.2076 - accuracy: 0.9275 - binary_crossentropy: 0.2076 - val_loss: 0.2893 - val_accuracy: 0.8862 - val_binary_crossentropy: 0.2893\n",
            "Epoch 7/20\n",
            "49/49 [==============================] - 2s 38ms/step - loss: 0.1810 - accuracy: 0.9376 - binary_crossentropy: 0.1810 - val_loss: 0.3061 - val_accuracy: 0.8848 - val_binary_crossentropy: 0.3061\n",
            "Epoch 8/20\n",
            "49/49 [==============================] - 2s 38ms/step - loss: 0.1631 - accuracy: 0.9433 - binary_crossentropy: 0.1631 - val_loss: 0.3221 - val_accuracy: 0.8829 - val_binary_crossentropy: 0.3221\n",
            "Epoch 9/20\n",
            "49/49 [==============================] - 2s 38ms/step - loss: 0.1463 - accuracy: 0.9502 - binary_crossentropy: 0.1463 - val_loss: 0.3433 - val_accuracy: 0.8820 - val_binary_crossentropy: 0.3433\n",
            "Epoch 10/20\n",
            "49/49 [==============================] - 2s 38ms/step - loss: 0.1298 - accuracy: 0.9536 - binary_crossentropy: 0.1298 - val_loss: 0.3711 - val_accuracy: 0.8804 - val_binary_crossentropy: 0.3711\n",
            "Epoch 11/20\n",
            "49/49 [==============================] - 2s 38ms/step - loss: 0.1199 - accuracy: 0.9577 - binary_crossentropy: 0.1199 - val_loss: 0.3773 - val_accuracy: 0.8794 - val_binary_crossentropy: 0.3773\n",
            "Epoch 12/20\n",
            "49/49 [==============================] - 2s 39ms/step - loss: 0.1095 - accuracy: 0.9606 - binary_crossentropy: 0.1095 - val_loss: 0.4038 - val_accuracy: 0.8785 - val_binary_crossentropy: 0.4038\n",
            "Epoch 13/20\n",
            "49/49 [==============================] - 2s 38ms/step - loss: 0.1046 - accuracy: 0.9613 - binary_crossentropy: 0.1046 - val_loss: 0.4287 - val_accuracy: 0.8782 - val_binary_crossentropy: 0.4287\n",
            "Epoch 14/20\n",
            "49/49 [==============================] - 2s 38ms/step - loss: 0.0950 - accuracy: 0.9632 - binary_crossentropy: 0.0950 - val_loss: 0.4510 - val_accuracy: 0.8762 - val_binary_crossentropy: 0.4510\n",
            "Epoch 15/20\n",
            "49/49 [==============================] - 2s 39ms/step - loss: 0.0897 - accuracy: 0.9670 - binary_crossentropy: 0.0897 - val_loss: 0.4694 - val_accuracy: 0.8747 - val_binary_crossentropy: 0.4694\n",
            "Epoch 16/20\n",
            "49/49 [==============================] - 2s 38ms/step - loss: 0.0825 - accuracy: 0.9681 - binary_crossentropy: 0.0825 - val_loss: 0.4882 - val_accuracy: 0.8764 - val_binary_crossentropy: 0.4882\n",
            "Epoch 17/20\n",
            "49/49 [==============================] - 2s 38ms/step - loss: 0.0785 - accuracy: 0.9695 - binary_crossentropy: 0.0785 - val_loss: 0.5151 - val_accuracy: 0.8737 - val_binary_crossentropy: 0.5151\n",
            "Epoch 18/20\n",
            "49/49 [==============================] - 2s 38ms/step - loss: 0.0752 - accuracy: 0.9696 - binary_crossentropy: 0.0752 - val_loss: 0.5112 - val_accuracy: 0.8733 - val_binary_crossentropy: 0.5112\n",
            "Epoch 19/20\n",
            "49/49 [==============================] - 2s 39ms/step - loss: 0.0742 - accuracy: 0.9688 - binary_crossentropy: 0.0742 - val_loss: 0.5754 - val_accuracy: 0.8752 - val_binary_crossentropy: 0.5754\n",
            "Epoch 20/20\n",
            "49/49 [==============================] - 2s 37ms/step - loss: 0.0694 - accuracy: 0.9714 - binary_crossentropy: 0.0694 - val_loss: 0.5903 - val_accuracy: 0.8753 - val_binary_crossentropy: 0.5903\n"
          ]
        }
      ]
    },
    {
      "cell_type": "code",
      "metadata": {
        "colab": {
          "base_uri": "https://localhost:8080/",
          "height": 542
        },
        "id": "ryqZim-tmEnM",
        "outputId": "8a524c43-20c3-4363-b369-0e2f2c9b3de8"
      },
      "source": [
        "fig = go.Figure()\n",
        "for name, history in zip(['baseline', 'dropout'], [baseline_history, dropout_history]):\n",
        "    hist = pd.DataFrame(history.history)\n",
        "    hist['epoch'] = history.epoch\n",
        "    fig.add_trace(go.Scatter(x=hist['epoch'], y=hist['binary_crossentropy'], name=name + '_binary_crossentropy', mode='lines+markers'))\n",
        "    fig.add_trace(go.Scatter(x=hist['epoch'], y=hist['val_binary_crossentropy'], name=name + '_val_binary_crossentropy', mode='lines+markers'))\n",
        "    fig.update_layout(xaxis_title='Epoki', yaxis_title='binary_crossentropy')\n",
        "fig.show()"
      ],
      "execution_count": 47,
      "outputs": [
        {
          "output_type": "display_data",
          "data": {
            "text/html": [
              "<html>\n",
              "<head><meta charset=\"utf-8\" /></head>\n",
              "<body>\n",
              "    <div>\n",
              "            <script src=\"https://cdnjs.cloudflare.com/ajax/libs/mathjax/2.7.5/MathJax.js?config=TeX-AMS-MML_SVG\"></script><script type=\"text/javascript\">if (window.MathJax) {MathJax.Hub.Config({SVG: {font: \"STIX-Web\"}});}</script>\n",
              "                <script type=\"text/javascript\">window.PlotlyConfig = {MathJaxConfig: 'local'};</script>\n",
              "        <script src=\"https://cdn.plot.ly/plotly-latest.min.js\"></script>    \n",
              "            <div id=\"bb6a57ee-dd90-42c4-b428-dec42bc3ed71\" class=\"plotly-graph-div\" style=\"height:525px; width:100%;\"></div>\n",
              "            <script type=\"text/javascript\">\n",
              "                \n",
              "                    window.PLOTLYENV=window.PLOTLYENV || {};\n",
              "                    \n",
              "                if (document.getElementById(\"bb6a57ee-dd90-42c4-b428-dec42bc3ed71\")) {\n",
              "                    Plotly.newPlot(\n",
              "                        'bb6a57ee-dd90-42c4-b428-dec42bc3ed71',\n",
              "                        [{\"mode\": \"lines+markers\", \"name\": \"baseline_binary_crossentropy\", \"type\": \"scatter\", \"x\": [0, 1, 2, 3, 4, 5, 6, 7, 8, 9, 10, 11, 12, 13, 14, 15, 16, 17, 18, 19], \"y\": [0.6001771688461304, 0.39681240916252136, 0.2522851526737213, 0.19810357689857483, 0.1674956977367401, 0.146111398935318, 0.12996089458465576, 0.1150318831205368, 0.1035321056842804, 0.0936400517821312, 0.08499262481927872, 0.07688356190919876, 0.06957010924816132, 0.06351334601640701, 0.057611942291259766, 0.05214734748005867, 0.04748019203543663, 0.043350912630558014, 0.039959002286195755, 0.03615831211209297]}, {\"mode\": \"lines+markers\", \"name\": \"baseline_val_binary_crossentropy\", \"type\": \"scatter\", \"x\": [0, 1, 2, 3, 4, 5, 6, 7, 8, 9, 10, 11, 12, 13, 14, 15, 16, 17, 18, 19], \"y\": [0.5274571776390076, 0.34029054641723633, 0.2958321273326874, 0.28805509209632874, 0.29504919052124023, 0.30600637197494507, 0.3150952160358429, 0.32860636711120605, 0.346622496843338, 0.3628533184528351, 0.382622629404068, 0.40348753333091736, 0.4206594228744507, 0.44957324862480164, 0.4684830904006958, 0.48777374625205994, 0.5086341500282288, 0.5304825901985168, 0.5524904131889343, 0.5704881548881531]}, {\"mode\": \"lines+markers\", \"name\": \"dropout_binary_crossentropy\", \"type\": \"scatter\", \"x\": [0, 1, 2, 3, 4, 5, 6, 7, 8, 9, 10, 11, 12, 13, 14, 15, 16, 17, 18, 19], \"y\": [0.606073260307312, 0.4355102777481079, 0.33809956908226013, 0.2778433859348297, 0.23920921981334686, 0.20760349929332733, 0.18100149929523468, 0.1630817949771881, 0.1463112235069275, 0.129831001162529, 0.11992645263671875, 0.10945942252874374, 0.10463156551122665, 0.09503892809152603, 0.08969882130622864, 0.08250635862350464, 0.07845021784305573, 0.07520140707492828, 0.07415390014648438, 0.06938759237527847]}, {\"mode\": \"lines+markers\", \"name\": \"dropout_val_binary_crossentropy\", \"type\": \"scatter\", \"x\": [0, 1, 2, 3, 4, 5, 6, 7, 8, 9, 10, 11, 12, 13, 14, 15, 16, 17, 18, 19], \"y\": [0.46364960074424744, 0.3308168351650238, 0.2823374271392822, 0.2773217558860779, 0.2828722596168518, 0.28931623697280884, 0.3060750365257263, 0.32214757800102234, 0.343309223651886, 0.37112292647361755, 0.37729334831237793, 0.40378761291503906, 0.42871296405792236, 0.451007604598999, 0.46942147612571716, 0.48824402689933777, 0.515068769454956, 0.5111575722694397, 0.5753768682479858, 0.5902957320213318]}],\n",
              "                        {\"template\": {\"data\": {\"bar\": [{\"error_x\": {\"color\": \"#2a3f5f\"}, \"error_y\": {\"color\": \"#2a3f5f\"}, \"marker\": {\"line\": {\"color\": \"#E5ECF6\", \"width\": 0.5}}, \"type\": \"bar\"}], \"barpolar\": [{\"marker\": {\"line\": {\"color\": \"#E5ECF6\", \"width\": 0.5}}, \"type\": \"barpolar\"}], \"carpet\": [{\"aaxis\": {\"endlinecolor\": \"#2a3f5f\", \"gridcolor\": \"white\", \"linecolor\": \"white\", \"minorgridcolor\": \"white\", \"startlinecolor\": \"#2a3f5f\"}, \"baxis\": {\"endlinecolor\": \"#2a3f5f\", \"gridcolor\": \"white\", \"linecolor\": \"white\", \"minorgridcolor\": \"white\", \"startlinecolor\": \"#2a3f5f\"}, \"type\": \"carpet\"}], \"choropleth\": [{\"colorbar\": {\"outlinewidth\": 0, \"ticks\": \"\"}, \"type\": \"choropleth\"}], \"contour\": [{\"colorbar\": {\"outlinewidth\": 0, \"ticks\": \"\"}, \"colorscale\": [[0.0, \"#0d0887\"], [0.1111111111111111, \"#46039f\"], [0.2222222222222222, \"#7201a8\"], [0.3333333333333333, \"#9c179e\"], [0.4444444444444444, \"#bd3786\"], [0.5555555555555556, \"#d8576b\"], [0.6666666666666666, \"#ed7953\"], [0.7777777777777778, \"#fb9f3a\"], [0.8888888888888888, \"#fdca26\"], [1.0, \"#f0f921\"]], \"type\": \"contour\"}], \"contourcarpet\": [{\"colorbar\": {\"outlinewidth\": 0, \"ticks\": \"\"}, \"type\": \"contourcarpet\"}], \"heatmap\": [{\"colorbar\": {\"outlinewidth\": 0, \"ticks\": \"\"}, \"colorscale\": [[0.0, \"#0d0887\"], [0.1111111111111111, \"#46039f\"], [0.2222222222222222, \"#7201a8\"], [0.3333333333333333, \"#9c179e\"], [0.4444444444444444, \"#bd3786\"], [0.5555555555555556, \"#d8576b\"], [0.6666666666666666, \"#ed7953\"], [0.7777777777777778, \"#fb9f3a\"], [0.8888888888888888, \"#fdca26\"], [1.0, \"#f0f921\"]], \"type\": \"heatmap\"}], \"heatmapgl\": [{\"colorbar\": {\"outlinewidth\": 0, \"ticks\": \"\"}, \"colorscale\": [[0.0, \"#0d0887\"], [0.1111111111111111, \"#46039f\"], [0.2222222222222222, \"#7201a8\"], [0.3333333333333333, \"#9c179e\"], [0.4444444444444444, \"#bd3786\"], [0.5555555555555556, \"#d8576b\"], [0.6666666666666666, \"#ed7953\"], [0.7777777777777778, \"#fb9f3a\"], [0.8888888888888888, \"#fdca26\"], [1.0, \"#f0f921\"]], \"type\": \"heatmapgl\"}], \"histogram\": [{\"marker\": {\"colorbar\": {\"outlinewidth\": 0, \"ticks\": \"\"}}, \"type\": \"histogram\"}], \"histogram2d\": [{\"colorbar\": {\"outlinewidth\": 0, \"ticks\": \"\"}, \"colorscale\": [[0.0, \"#0d0887\"], [0.1111111111111111, \"#46039f\"], [0.2222222222222222, \"#7201a8\"], [0.3333333333333333, \"#9c179e\"], [0.4444444444444444, \"#bd3786\"], [0.5555555555555556, \"#d8576b\"], [0.6666666666666666, \"#ed7953\"], [0.7777777777777778, \"#fb9f3a\"], [0.8888888888888888, \"#fdca26\"], [1.0, \"#f0f921\"]], \"type\": \"histogram2d\"}], \"histogram2dcontour\": [{\"colorbar\": {\"outlinewidth\": 0, \"ticks\": \"\"}, \"colorscale\": [[0.0, \"#0d0887\"], [0.1111111111111111, \"#46039f\"], [0.2222222222222222, \"#7201a8\"], [0.3333333333333333, \"#9c179e\"], [0.4444444444444444, \"#bd3786\"], [0.5555555555555556, \"#d8576b\"], [0.6666666666666666, \"#ed7953\"], [0.7777777777777778, \"#fb9f3a\"], [0.8888888888888888, \"#fdca26\"], [1.0, \"#f0f921\"]], \"type\": \"histogram2dcontour\"}], \"mesh3d\": [{\"colorbar\": {\"outlinewidth\": 0, \"ticks\": \"\"}, \"type\": \"mesh3d\"}], \"parcoords\": [{\"line\": {\"colorbar\": {\"outlinewidth\": 0, \"ticks\": \"\"}}, \"type\": \"parcoords\"}], \"pie\": [{\"automargin\": true, \"type\": \"pie\"}], \"scatter\": [{\"marker\": {\"colorbar\": {\"outlinewidth\": 0, \"ticks\": \"\"}}, \"type\": \"scatter\"}], \"scatter3d\": [{\"line\": {\"colorbar\": {\"outlinewidth\": 0, \"ticks\": \"\"}}, \"marker\": {\"colorbar\": {\"outlinewidth\": 0, \"ticks\": \"\"}}, \"type\": \"scatter3d\"}], \"scattercarpet\": [{\"marker\": {\"colorbar\": {\"outlinewidth\": 0, \"ticks\": \"\"}}, \"type\": \"scattercarpet\"}], \"scattergeo\": [{\"marker\": {\"colorbar\": {\"outlinewidth\": 0, \"ticks\": \"\"}}, \"type\": \"scattergeo\"}], \"scattergl\": [{\"marker\": {\"colorbar\": {\"outlinewidth\": 0, \"ticks\": \"\"}}, \"type\": \"scattergl\"}], \"scattermapbox\": [{\"marker\": {\"colorbar\": {\"outlinewidth\": 0, \"ticks\": \"\"}}, \"type\": \"scattermapbox\"}], \"scatterpolar\": [{\"marker\": {\"colorbar\": {\"outlinewidth\": 0, \"ticks\": \"\"}}, \"type\": \"scatterpolar\"}], \"scatterpolargl\": [{\"marker\": {\"colorbar\": {\"outlinewidth\": 0, \"ticks\": \"\"}}, \"type\": \"scatterpolargl\"}], \"scatterternary\": [{\"marker\": {\"colorbar\": {\"outlinewidth\": 0, \"ticks\": \"\"}}, \"type\": \"scatterternary\"}], \"surface\": [{\"colorbar\": {\"outlinewidth\": 0, \"ticks\": \"\"}, \"colorscale\": [[0.0, \"#0d0887\"], [0.1111111111111111, \"#46039f\"], [0.2222222222222222, \"#7201a8\"], [0.3333333333333333, \"#9c179e\"], [0.4444444444444444, \"#bd3786\"], [0.5555555555555556, \"#d8576b\"], [0.6666666666666666, \"#ed7953\"], [0.7777777777777778, \"#fb9f3a\"], [0.8888888888888888, \"#fdca26\"], [1.0, \"#f0f921\"]], \"type\": \"surface\"}], \"table\": [{\"cells\": {\"fill\": {\"color\": \"#EBF0F8\"}, \"line\": {\"color\": \"white\"}}, \"header\": {\"fill\": {\"color\": \"#C8D4E3\"}, \"line\": {\"color\": \"white\"}}, \"type\": \"table\"}]}, \"layout\": {\"annotationdefaults\": {\"arrowcolor\": \"#2a3f5f\", \"arrowhead\": 0, \"arrowwidth\": 1}, \"coloraxis\": {\"colorbar\": {\"outlinewidth\": 0, \"ticks\": \"\"}}, \"colorscale\": {\"diverging\": [[0, \"#8e0152\"], [0.1, \"#c51b7d\"], [0.2, \"#de77ae\"], [0.3, \"#f1b6da\"], [0.4, \"#fde0ef\"], [0.5, \"#f7f7f7\"], [0.6, \"#e6f5d0\"], [0.7, \"#b8e186\"], [0.8, \"#7fbc41\"], [0.9, \"#4d9221\"], [1, \"#276419\"]], \"sequential\": [[0.0, \"#0d0887\"], [0.1111111111111111, \"#46039f\"], [0.2222222222222222, \"#7201a8\"], [0.3333333333333333, \"#9c179e\"], [0.4444444444444444, \"#bd3786\"], [0.5555555555555556, \"#d8576b\"], [0.6666666666666666, \"#ed7953\"], [0.7777777777777778, \"#fb9f3a\"], [0.8888888888888888, \"#fdca26\"], [1.0, \"#f0f921\"]], \"sequentialminus\": [[0.0, \"#0d0887\"], [0.1111111111111111, \"#46039f\"], [0.2222222222222222, \"#7201a8\"], [0.3333333333333333, \"#9c179e\"], [0.4444444444444444, \"#bd3786\"], [0.5555555555555556, \"#d8576b\"], [0.6666666666666666, \"#ed7953\"], [0.7777777777777778, \"#fb9f3a\"], [0.8888888888888888, \"#fdca26\"], [1.0, \"#f0f921\"]]}, \"colorway\": [\"#636efa\", \"#EF553B\", \"#00cc96\", \"#ab63fa\", \"#FFA15A\", \"#19d3f3\", \"#FF6692\", \"#B6E880\", \"#FF97FF\", \"#FECB52\"], \"font\": {\"color\": \"#2a3f5f\"}, \"geo\": {\"bgcolor\": \"white\", \"lakecolor\": \"white\", \"landcolor\": \"#E5ECF6\", \"showlakes\": true, \"showland\": true, \"subunitcolor\": \"white\"}, \"hoverlabel\": {\"align\": \"left\"}, \"hovermode\": \"closest\", \"mapbox\": {\"style\": \"light\"}, \"paper_bgcolor\": \"white\", \"plot_bgcolor\": \"#E5ECF6\", \"polar\": {\"angularaxis\": {\"gridcolor\": \"white\", \"linecolor\": \"white\", \"ticks\": \"\"}, \"bgcolor\": \"#E5ECF6\", \"radialaxis\": {\"gridcolor\": \"white\", \"linecolor\": \"white\", \"ticks\": \"\"}}, \"scene\": {\"xaxis\": {\"backgroundcolor\": \"#E5ECF6\", \"gridcolor\": \"white\", \"gridwidth\": 2, \"linecolor\": \"white\", \"showbackground\": true, \"ticks\": \"\", \"zerolinecolor\": \"white\"}, \"yaxis\": {\"backgroundcolor\": \"#E5ECF6\", \"gridcolor\": \"white\", \"gridwidth\": 2, \"linecolor\": \"white\", \"showbackground\": true, \"ticks\": \"\", \"zerolinecolor\": \"white\"}, \"zaxis\": {\"backgroundcolor\": \"#E5ECF6\", \"gridcolor\": \"white\", \"gridwidth\": 2, \"linecolor\": \"white\", \"showbackground\": true, \"ticks\": \"\", \"zerolinecolor\": \"white\"}}, \"shapedefaults\": {\"line\": {\"color\": \"#2a3f5f\"}}, \"ternary\": {\"aaxis\": {\"gridcolor\": \"white\", \"linecolor\": \"white\", \"ticks\": \"\"}, \"baxis\": {\"gridcolor\": \"white\", \"linecolor\": \"white\", \"ticks\": \"\"}, \"bgcolor\": \"#E5ECF6\", \"caxis\": {\"gridcolor\": \"white\", \"linecolor\": \"white\", \"ticks\": \"\"}}, \"title\": {\"x\": 0.05}, \"xaxis\": {\"automargin\": true, \"gridcolor\": \"white\", \"linecolor\": \"white\", \"ticks\": \"\", \"title\": {\"standoff\": 15}, \"zerolinecolor\": \"white\", \"zerolinewidth\": 2}, \"yaxis\": {\"automargin\": true, \"gridcolor\": \"white\", \"linecolor\": \"white\", \"ticks\": \"\", \"title\": {\"standoff\": 15}, \"zerolinecolor\": \"white\", \"zerolinewidth\": 2}}}, \"xaxis\": {\"title\": {\"text\": \"Epoki\"}}, \"yaxis\": {\"title\": {\"text\": \"binary_crossentropy\"}}},\n",
              "                        {\"responsive\": true}\n",
              "                    ).then(function(){\n",
              "                            \n",
              "var gd = document.getElementById('bb6a57ee-dd90-42c4-b428-dec42bc3ed71');\n",
              "var x = new MutationObserver(function (mutations, observer) {{\n",
              "        var display = window.getComputedStyle(gd).display;\n",
              "        if (!display || display === 'none') {{\n",
              "            console.log([gd, 'removed!']);\n",
              "            Plotly.purge(gd);\n",
              "            observer.disconnect();\n",
              "        }}\n",
              "}});\n",
              "\n",
              "// Listen for the removal of the full notebook cells\n",
              "var notebookContainer = gd.closest('#notebook-container');\n",
              "if (notebookContainer) {{\n",
              "    x.observe(notebookContainer, {childList: true});\n",
              "}}\n",
              "\n",
              "// Listen for the clearing of the current output cell\n",
              "var outputEl = gd.closest('.output');\n",
              "if (outputEl) {{\n",
              "    x.observe(outputEl, {childList: true});\n",
              "}}\n",
              "\n",
              "                        })\n",
              "                };\n",
              "                \n",
              "            </script>\n",
              "        </div>\n",
              "</body>\n",
              "</html>"
            ]
          },
          "metadata": {}
        }
      ]
    },
    {
      "cell_type": "code",
      "metadata": {
        "colab": {
          "base_uri": "https://localhost:8080/"
        },
        "id": "DjvtWDXImPuG",
        "outputId": "3ee301cb-0719-4efc-f848-1b2a9d92d0d2"
      },
      "source": [
        "l2_model_dropout = Sequential()\n",
        "l2_model_dropout.add(Dense(16, kernel_regularizer=l2(0.001), activation='relu', input_shape=(NUM_WORDS,)))\n",
        "l2_model_dropout.add(Dropout(0.5))\n",
        "l2_model_dropout.add(Dense(16, kernel_regularizer=l2(0.01), activation='relu'))\n",
        "l2_model_dropout.add(Dropout(0.5))\n",
        "l2_model_dropout.add(Dense(1, activation='sigmoid'))\n",
        "\n",
        "l2_model_dropout.compile(optimizer='adam',\n",
        "                 loss='binary_crossentropy',\n",
        "                 metrics=['accuracy', 'binary_crossentropy'])\n",
        "\n",
        "l2_model_dropout.summary()"
      ],
      "execution_count": 48,
      "outputs": [
        {
          "output_type": "stream",
          "name": "stdout",
          "text": [
            "Model: \"sequential_12\"\n",
            "_________________________________________________________________\n",
            "Layer (type)                 Output Shape              Param #   \n",
            "=================================================================\n",
            "dense_34 (Dense)             (None, 16)                160016    \n",
            "_________________________________________________________________\n",
            "dropout_2 (Dropout)          (None, 16)                0         \n",
            "_________________________________________________________________\n",
            "dense_35 (Dense)             (None, 16)                272       \n",
            "_________________________________________________________________\n",
            "dropout_3 (Dropout)          (None, 16)                0         \n",
            "_________________________________________________________________\n",
            "dense_36 (Dense)             (None, 1)                 17        \n",
            "=================================================================\n",
            "Total params: 160,305\n",
            "Trainable params: 160,305\n",
            "Non-trainable params: 0\n",
            "_________________________________________________________________\n"
          ]
        }
      ]
    },
    {
      "cell_type": "code",
      "metadata": {
        "colab": {
          "base_uri": "https://localhost:8080/"
        },
        "id": "vB8UMRY3m-aM",
        "outputId": "6905177b-b91f-4e3f-c513-7a2633cdd6de"
      },
      "source": [
        "l2_dropout_history = l2_model_dropout.fit(train_data, train_labels, epochs=20, batch_size=512, validation_data=(test_data, test_labels))"
      ],
      "execution_count": 51,
      "outputs": [
        {
          "output_type": "stream",
          "name": "stdout",
          "text": [
            "Epoch 1/20\n",
            "49/49 [==============================] - 4s 72ms/step - loss: 0.2492 - accuracy: 0.9505 - binary_crossentropy: 0.1501 - val_loss: 0.4138 - val_accuracy: 0.8788 - val_binary_crossentropy: 0.3148\n",
            "Epoch 2/20\n",
            "49/49 [==============================] - 2s 40ms/step - loss: 0.2525 - accuracy: 0.9474 - binary_crossentropy: 0.1534 - val_loss: 0.4195 - val_accuracy: 0.8794 - val_binary_crossentropy: 0.3202\n",
            "Epoch 3/20\n",
            "49/49 [==============================] - 2s 39ms/step - loss: 0.2520 - accuracy: 0.9478 - binary_crossentropy: 0.1524 - val_loss: 0.4211 - val_accuracy: 0.8784 - val_binary_crossentropy: 0.3217\n",
            "Epoch 4/20\n",
            "49/49 [==============================] - 2s 40ms/step - loss: 0.2472 - accuracy: 0.9516 - binary_crossentropy: 0.1477 - val_loss: 0.4340 - val_accuracy: 0.8768 - val_binary_crossentropy: 0.3347\n",
            "Epoch 5/20\n",
            "49/49 [==============================] - 2s 39ms/step - loss: 0.2482 - accuracy: 0.9492 - binary_crossentropy: 0.1488 - val_loss: 0.4283 - val_accuracy: 0.8768 - val_binary_crossentropy: 0.3288\n",
            "Epoch 6/20\n",
            "49/49 [==============================] - 2s 40ms/step - loss: 0.2480 - accuracy: 0.9496 - binary_crossentropy: 0.1484 - val_loss: 0.4221 - val_accuracy: 0.8773 - val_binary_crossentropy: 0.3222\n",
            "Epoch 7/20\n",
            "49/49 [==============================] - 2s 39ms/step - loss: 0.2466 - accuracy: 0.9509 - binary_crossentropy: 0.1462 - val_loss: 0.4273 - val_accuracy: 0.8778 - val_binary_crossentropy: 0.3264\n",
            "Epoch 8/20\n",
            "49/49 [==============================] - 2s 40ms/step - loss: 0.2438 - accuracy: 0.9514 - binary_crossentropy: 0.1428 - val_loss: 0.4271 - val_accuracy: 0.8779 - val_binary_crossentropy: 0.3262\n",
            "Epoch 9/20\n",
            "49/49 [==============================] - 2s 40ms/step - loss: 0.2409 - accuracy: 0.9543 - binary_crossentropy: 0.1399 - val_loss: 0.4314 - val_accuracy: 0.8786 - val_binary_crossentropy: 0.3305\n",
            "Epoch 10/20\n",
            "49/49 [==============================] - 2s 40ms/step - loss: 0.2377 - accuracy: 0.9548 - binary_crossentropy: 0.1369 - val_loss: 0.4340 - val_accuracy: 0.8776 - val_binary_crossentropy: 0.3332\n",
            "Epoch 11/20\n",
            "49/49 [==============================] - 2s 40ms/step - loss: 0.2396 - accuracy: 0.9532 - binary_crossentropy: 0.1390 - val_loss: 0.4242 - val_accuracy: 0.8761 - val_binary_crossentropy: 0.3236\n",
            "Epoch 12/20\n",
            "49/49 [==============================] - 2s 39ms/step - loss: 0.2366 - accuracy: 0.9548 - binary_crossentropy: 0.1361 - val_loss: 0.4308 - val_accuracy: 0.8784 - val_binary_crossentropy: 0.3309\n",
            "Epoch 13/20\n",
            "49/49 [==============================] - 2s 40ms/step - loss: 0.2329 - accuracy: 0.9555 - binary_crossentropy: 0.1333 - val_loss: 0.4332 - val_accuracy: 0.8796 - val_binary_crossentropy: 0.3339\n",
            "Epoch 14/20\n",
            "49/49 [==============================] - 2s 40ms/step - loss: 0.2313 - accuracy: 0.9561 - binary_crossentropy: 0.1320 - val_loss: 0.4368 - val_accuracy: 0.8774 - val_binary_crossentropy: 0.3375\n",
            "Epoch 15/20\n",
            "49/49 [==============================] - 2s 39ms/step - loss: 0.2295 - accuracy: 0.9571 - binary_crossentropy: 0.1302 - val_loss: 0.4356 - val_accuracy: 0.8772 - val_binary_crossentropy: 0.3364\n",
            "Epoch 16/20\n",
            "49/49 [==============================] - 2s 40ms/step - loss: 0.2296 - accuracy: 0.9552 - binary_crossentropy: 0.1305 - val_loss: 0.4355 - val_accuracy: 0.8777 - val_binary_crossentropy: 0.3368\n",
            "Epoch 17/20\n",
            "49/49 [==============================] - 2s 40ms/step - loss: 0.2278 - accuracy: 0.9552 - binary_crossentropy: 0.1290 - val_loss: 0.4331 - val_accuracy: 0.8764 - val_binary_crossentropy: 0.3343\n",
            "Epoch 18/20\n",
            "49/49 [==============================] - 2s 40ms/step - loss: 0.2261 - accuracy: 0.9593 - binary_crossentropy: 0.1271 - val_loss: 0.4346 - val_accuracy: 0.8775 - val_binary_crossentropy: 0.3356\n",
            "Epoch 19/20\n",
            "49/49 [==============================] - 2s 40ms/step - loss: 0.2317 - accuracy: 0.9553 - binary_crossentropy: 0.1329 - val_loss: 0.4332 - val_accuracy: 0.8768 - val_binary_crossentropy: 0.3346\n",
            "Epoch 20/20\n",
            "49/49 [==============================] - 2s 41ms/step - loss: 0.2288 - accuracy: 0.9548 - binary_crossentropy: 0.1300 - val_loss: 0.4410 - val_accuracy: 0.8762 - val_binary_crossentropy: 0.3419\n"
          ]
        }
      ]
    },
    {
      "cell_type": "code",
      "metadata": {
        "colab": {
          "base_uri": "https://localhost:8080/",
          "height": 542
        },
        "id": "UWe8frcGnGlm",
        "outputId": "ab3920c4-acc4-4735-f9ac-1277be52e8b7"
      },
      "source": [
        "fig = go.Figure()\n",
        "for name, history in zip(['baseline', 'l2_dropout'], [baseline_history, l2_dropout_history]):\n",
        "    hist = pd.DataFrame(history.history)\n",
        "    hist['epoch'] = history.epoch\n",
        "    fig.add_trace(go.Scatter(x=hist['epoch'], y=hist['binary_crossentropy'], name=name + '_binary_crossentropy', mode='lines+markers'))\n",
        "    fig.add_trace(go.Scatter(x=hist['epoch'], y=hist['val_binary_crossentropy'], name=name + '_val_binary_crossentropy', mode='lines+markers'))\n",
        "    fig.update_layout(xaxis_title='Epoki', yaxis_title='binary_crossentropy')\n",
        "fig.show()"
      ],
      "execution_count": 53,
      "outputs": [
        {
          "output_type": "display_data",
          "data": {
            "text/html": [
              "<html>\n",
              "<head><meta charset=\"utf-8\" /></head>\n",
              "<body>\n",
              "    <div>\n",
              "            <script src=\"https://cdnjs.cloudflare.com/ajax/libs/mathjax/2.7.5/MathJax.js?config=TeX-AMS-MML_SVG\"></script><script type=\"text/javascript\">if (window.MathJax) {MathJax.Hub.Config({SVG: {font: \"STIX-Web\"}});}</script>\n",
              "                <script type=\"text/javascript\">window.PlotlyConfig = {MathJaxConfig: 'local'};</script>\n",
              "        <script src=\"https://cdn.plot.ly/plotly-latest.min.js\"></script>    \n",
              "            <div id=\"aa294b76-19e7-4dfa-8f08-52961c696acc\" class=\"plotly-graph-div\" style=\"height:525px; width:100%;\"></div>\n",
              "            <script type=\"text/javascript\">\n",
              "                \n",
              "                    window.PLOTLYENV=window.PLOTLYENV || {};\n",
              "                    \n",
              "                if (document.getElementById(\"aa294b76-19e7-4dfa-8f08-52961c696acc\")) {\n",
              "                    Plotly.newPlot(\n",
              "                        'aa294b76-19e7-4dfa-8f08-52961c696acc',\n",
              "                        [{\"mode\": \"lines+markers\", \"name\": \"baseline_binary_crossentropy\", \"type\": \"scatter\", \"x\": [0, 1, 2, 3, 4, 5, 6, 7, 8, 9, 10, 11, 12, 13, 14, 15, 16, 17, 18, 19], \"y\": [0.6001771688461304, 0.39681240916252136, 0.2522851526737213, 0.19810357689857483, 0.1674956977367401, 0.146111398935318, 0.12996089458465576, 0.1150318831205368, 0.1035321056842804, 0.0936400517821312, 0.08499262481927872, 0.07688356190919876, 0.06957010924816132, 0.06351334601640701, 0.057611942291259766, 0.05214734748005867, 0.04748019203543663, 0.043350912630558014, 0.039959002286195755, 0.03615831211209297]}, {\"mode\": \"lines+markers\", \"name\": \"baseline_val_binary_crossentropy\", \"type\": \"scatter\", \"x\": [0, 1, 2, 3, 4, 5, 6, 7, 8, 9, 10, 11, 12, 13, 14, 15, 16, 17, 18, 19], \"y\": [0.5274571776390076, 0.34029054641723633, 0.2958321273326874, 0.28805509209632874, 0.29504919052124023, 0.30600637197494507, 0.3150952160358429, 0.32860636711120605, 0.346622496843338, 0.3628533184528351, 0.382622629404068, 0.40348753333091736, 0.4206594228744507, 0.44957324862480164, 0.4684830904006958, 0.48777374625205994, 0.5086341500282288, 0.5304825901985168, 0.5524904131889343, 0.5704881548881531]}, {\"mode\": \"lines+markers\", \"name\": \"l2_dropout_binary_crossentropy\", \"type\": \"scatter\", \"x\": [0, 1, 2, 3, 4, 5, 6, 7, 8, 9, 10, 11, 12, 13, 14, 15, 16, 17, 18, 19], \"y\": [0.150083526968956, 0.15340250730514526, 0.152363121509552, 0.1477033793926239, 0.1488131582736969, 0.1483842432498932, 0.14623340964317322, 0.1428094208240509, 0.13988731801509857, 0.13689282536506653, 0.13899768888950348, 0.13607259094715118, 0.1333421915769577, 0.13198457658290863, 0.13024164736270905, 0.13049088418483734, 0.12896756827831268, 0.12714684009552002, 0.13290998339653015, 0.12995508313179016]}, {\"mode\": \"lines+markers\", \"name\": \"l2_dropout_val_binary_crossentropy\", \"type\": \"scatter\", \"x\": [0, 1, 2, 3, 4, 5, 6, 7, 8, 9, 10, 11, 12, 13, 14, 15, 16, 17, 18, 19], \"y\": [0.31476926803588867, 0.32022759318351746, 0.3217466473579407, 0.33472979068756104, 0.3288276195526123, 0.3222382664680481, 0.3264468312263489, 0.32622718811035156, 0.33051633834838867, 0.33322790265083313, 0.3236353099346161, 0.33091166615486145, 0.33392125368118286, 0.33753421902656555, 0.33637672662734985, 0.3368019163608551, 0.3342767655849457, 0.3356207013130188, 0.33455032110214233, 0.34192344546318054]}],\n",
              "                        {\"template\": {\"data\": {\"bar\": [{\"error_x\": {\"color\": \"#2a3f5f\"}, \"error_y\": {\"color\": \"#2a3f5f\"}, \"marker\": {\"line\": {\"color\": \"#E5ECF6\", \"width\": 0.5}}, \"type\": \"bar\"}], \"barpolar\": [{\"marker\": {\"line\": {\"color\": \"#E5ECF6\", \"width\": 0.5}}, \"type\": \"barpolar\"}], \"carpet\": [{\"aaxis\": {\"endlinecolor\": \"#2a3f5f\", \"gridcolor\": \"white\", \"linecolor\": \"white\", \"minorgridcolor\": \"white\", \"startlinecolor\": \"#2a3f5f\"}, \"baxis\": {\"endlinecolor\": \"#2a3f5f\", \"gridcolor\": \"white\", \"linecolor\": \"white\", \"minorgridcolor\": \"white\", \"startlinecolor\": \"#2a3f5f\"}, \"type\": \"carpet\"}], \"choropleth\": [{\"colorbar\": {\"outlinewidth\": 0, \"ticks\": \"\"}, \"type\": \"choropleth\"}], \"contour\": [{\"colorbar\": {\"outlinewidth\": 0, \"ticks\": \"\"}, \"colorscale\": [[0.0, \"#0d0887\"], [0.1111111111111111, \"#46039f\"], [0.2222222222222222, \"#7201a8\"], [0.3333333333333333, \"#9c179e\"], [0.4444444444444444, \"#bd3786\"], [0.5555555555555556, \"#d8576b\"], [0.6666666666666666, \"#ed7953\"], [0.7777777777777778, \"#fb9f3a\"], [0.8888888888888888, \"#fdca26\"], [1.0, \"#f0f921\"]], \"type\": \"contour\"}], \"contourcarpet\": [{\"colorbar\": {\"outlinewidth\": 0, \"ticks\": \"\"}, \"type\": \"contourcarpet\"}], \"heatmap\": [{\"colorbar\": {\"outlinewidth\": 0, \"ticks\": \"\"}, \"colorscale\": [[0.0, \"#0d0887\"], [0.1111111111111111, \"#46039f\"], [0.2222222222222222, \"#7201a8\"], [0.3333333333333333, \"#9c179e\"], [0.4444444444444444, \"#bd3786\"], [0.5555555555555556, \"#d8576b\"], [0.6666666666666666, \"#ed7953\"], [0.7777777777777778, \"#fb9f3a\"], [0.8888888888888888, \"#fdca26\"], [1.0, \"#f0f921\"]], \"type\": \"heatmap\"}], \"heatmapgl\": [{\"colorbar\": {\"outlinewidth\": 0, \"ticks\": \"\"}, \"colorscale\": [[0.0, \"#0d0887\"], [0.1111111111111111, \"#46039f\"], [0.2222222222222222, \"#7201a8\"], [0.3333333333333333, \"#9c179e\"], [0.4444444444444444, \"#bd3786\"], [0.5555555555555556, \"#d8576b\"], [0.6666666666666666, \"#ed7953\"], [0.7777777777777778, \"#fb9f3a\"], [0.8888888888888888, \"#fdca26\"], [1.0, \"#f0f921\"]], \"type\": \"heatmapgl\"}], \"histogram\": [{\"marker\": {\"colorbar\": {\"outlinewidth\": 0, \"ticks\": \"\"}}, \"type\": \"histogram\"}], \"histogram2d\": [{\"colorbar\": {\"outlinewidth\": 0, \"ticks\": \"\"}, \"colorscale\": [[0.0, \"#0d0887\"], [0.1111111111111111, \"#46039f\"], [0.2222222222222222, \"#7201a8\"], [0.3333333333333333, \"#9c179e\"], [0.4444444444444444, \"#bd3786\"], [0.5555555555555556, \"#d8576b\"], [0.6666666666666666, \"#ed7953\"], [0.7777777777777778, \"#fb9f3a\"], [0.8888888888888888, \"#fdca26\"], [1.0, \"#f0f921\"]], \"type\": \"histogram2d\"}], \"histogram2dcontour\": [{\"colorbar\": {\"outlinewidth\": 0, \"ticks\": \"\"}, \"colorscale\": [[0.0, \"#0d0887\"], [0.1111111111111111, \"#46039f\"], [0.2222222222222222, \"#7201a8\"], [0.3333333333333333, \"#9c179e\"], [0.4444444444444444, \"#bd3786\"], [0.5555555555555556, \"#d8576b\"], [0.6666666666666666, \"#ed7953\"], [0.7777777777777778, \"#fb9f3a\"], [0.8888888888888888, \"#fdca26\"], [1.0, \"#f0f921\"]], \"type\": \"histogram2dcontour\"}], \"mesh3d\": [{\"colorbar\": {\"outlinewidth\": 0, \"ticks\": \"\"}, \"type\": \"mesh3d\"}], \"parcoords\": [{\"line\": {\"colorbar\": {\"outlinewidth\": 0, \"ticks\": \"\"}}, \"type\": \"parcoords\"}], \"pie\": [{\"automargin\": true, \"type\": \"pie\"}], \"scatter\": [{\"marker\": {\"colorbar\": {\"outlinewidth\": 0, \"ticks\": \"\"}}, \"type\": \"scatter\"}], \"scatter3d\": [{\"line\": {\"colorbar\": {\"outlinewidth\": 0, \"ticks\": \"\"}}, \"marker\": {\"colorbar\": {\"outlinewidth\": 0, \"ticks\": \"\"}}, \"type\": \"scatter3d\"}], \"scattercarpet\": [{\"marker\": {\"colorbar\": {\"outlinewidth\": 0, \"ticks\": \"\"}}, \"type\": \"scattercarpet\"}], \"scattergeo\": [{\"marker\": {\"colorbar\": {\"outlinewidth\": 0, \"ticks\": \"\"}}, \"type\": \"scattergeo\"}], \"scattergl\": [{\"marker\": {\"colorbar\": {\"outlinewidth\": 0, \"ticks\": \"\"}}, \"type\": \"scattergl\"}], \"scattermapbox\": [{\"marker\": {\"colorbar\": {\"outlinewidth\": 0, \"ticks\": \"\"}}, \"type\": \"scattermapbox\"}], \"scatterpolar\": [{\"marker\": {\"colorbar\": {\"outlinewidth\": 0, \"ticks\": \"\"}}, \"type\": \"scatterpolar\"}], \"scatterpolargl\": [{\"marker\": {\"colorbar\": {\"outlinewidth\": 0, \"ticks\": \"\"}}, \"type\": \"scatterpolargl\"}], \"scatterternary\": [{\"marker\": {\"colorbar\": {\"outlinewidth\": 0, \"ticks\": \"\"}}, \"type\": \"scatterternary\"}], \"surface\": [{\"colorbar\": {\"outlinewidth\": 0, \"ticks\": \"\"}, \"colorscale\": [[0.0, \"#0d0887\"], [0.1111111111111111, \"#46039f\"], [0.2222222222222222, \"#7201a8\"], [0.3333333333333333, \"#9c179e\"], [0.4444444444444444, \"#bd3786\"], [0.5555555555555556, \"#d8576b\"], [0.6666666666666666, \"#ed7953\"], [0.7777777777777778, \"#fb9f3a\"], [0.8888888888888888, \"#fdca26\"], [1.0, \"#f0f921\"]], \"type\": \"surface\"}], \"table\": [{\"cells\": {\"fill\": {\"color\": \"#EBF0F8\"}, \"line\": {\"color\": \"white\"}}, \"header\": {\"fill\": {\"color\": \"#C8D4E3\"}, \"line\": {\"color\": \"white\"}}, \"type\": \"table\"}]}, \"layout\": {\"annotationdefaults\": {\"arrowcolor\": \"#2a3f5f\", \"arrowhead\": 0, \"arrowwidth\": 1}, \"coloraxis\": {\"colorbar\": {\"outlinewidth\": 0, \"ticks\": \"\"}}, \"colorscale\": {\"diverging\": [[0, \"#8e0152\"], [0.1, \"#c51b7d\"], [0.2, \"#de77ae\"], [0.3, \"#f1b6da\"], [0.4, \"#fde0ef\"], [0.5, \"#f7f7f7\"], [0.6, \"#e6f5d0\"], [0.7, \"#b8e186\"], [0.8, \"#7fbc41\"], [0.9, \"#4d9221\"], [1, \"#276419\"]], \"sequential\": [[0.0, \"#0d0887\"], [0.1111111111111111, \"#46039f\"], [0.2222222222222222, \"#7201a8\"], [0.3333333333333333, \"#9c179e\"], [0.4444444444444444, \"#bd3786\"], [0.5555555555555556, \"#d8576b\"], [0.6666666666666666, \"#ed7953\"], [0.7777777777777778, \"#fb9f3a\"], [0.8888888888888888, \"#fdca26\"], [1.0, \"#f0f921\"]], \"sequentialminus\": [[0.0, \"#0d0887\"], [0.1111111111111111, \"#46039f\"], [0.2222222222222222, \"#7201a8\"], [0.3333333333333333, \"#9c179e\"], [0.4444444444444444, \"#bd3786\"], [0.5555555555555556, \"#d8576b\"], [0.6666666666666666, \"#ed7953\"], [0.7777777777777778, \"#fb9f3a\"], [0.8888888888888888, \"#fdca26\"], [1.0, \"#f0f921\"]]}, \"colorway\": [\"#636efa\", \"#EF553B\", \"#00cc96\", \"#ab63fa\", \"#FFA15A\", \"#19d3f3\", \"#FF6692\", \"#B6E880\", \"#FF97FF\", \"#FECB52\"], \"font\": {\"color\": \"#2a3f5f\"}, \"geo\": {\"bgcolor\": \"white\", \"lakecolor\": \"white\", \"landcolor\": \"#E5ECF6\", \"showlakes\": true, \"showland\": true, \"subunitcolor\": \"white\"}, \"hoverlabel\": {\"align\": \"left\"}, \"hovermode\": \"closest\", \"mapbox\": {\"style\": \"light\"}, \"paper_bgcolor\": \"white\", \"plot_bgcolor\": \"#E5ECF6\", \"polar\": {\"angularaxis\": {\"gridcolor\": \"white\", \"linecolor\": \"white\", \"ticks\": \"\"}, \"bgcolor\": \"#E5ECF6\", \"radialaxis\": {\"gridcolor\": \"white\", \"linecolor\": \"white\", \"ticks\": \"\"}}, \"scene\": {\"xaxis\": {\"backgroundcolor\": \"#E5ECF6\", \"gridcolor\": \"white\", \"gridwidth\": 2, \"linecolor\": \"white\", \"showbackground\": true, \"ticks\": \"\", \"zerolinecolor\": \"white\"}, \"yaxis\": {\"backgroundcolor\": \"#E5ECF6\", \"gridcolor\": \"white\", \"gridwidth\": 2, \"linecolor\": \"white\", \"showbackground\": true, \"ticks\": \"\", \"zerolinecolor\": \"white\"}, \"zaxis\": {\"backgroundcolor\": \"#E5ECF6\", \"gridcolor\": \"white\", \"gridwidth\": 2, \"linecolor\": \"white\", \"showbackground\": true, \"ticks\": \"\", \"zerolinecolor\": \"white\"}}, \"shapedefaults\": {\"line\": {\"color\": \"#2a3f5f\"}}, \"ternary\": {\"aaxis\": {\"gridcolor\": \"white\", \"linecolor\": \"white\", \"ticks\": \"\"}, \"baxis\": {\"gridcolor\": \"white\", \"linecolor\": \"white\", \"ticks\": \"\"}, \"bgcolor\": \"#E5ECF6\", \"caxis\": {\"gridcolor\": \"white\", \"linecolor\": \"white\", \"ticks\": \"\"}}, \"title\": {\"x\": 0.05}, \"xaxis\": {\"automargin\": true, \"gridcolor\": \"white\", \"linecolor\": \"white\", \"ticks\": \"\", \"title\": {\"standoff\": 15}, \"zerolinecolor\": \"white\", \"zerolinewidth\": 2}, \"yaxis\": {\"automargin\": true, \"gridcolor\": \"white\", \"linecolor\": \"white\", \"ticks\": \"\", \"title\": {\"standoff\": 15}, \"zerolinecolor\": \"white\", \"zerolinewidth\": 2}}}, \"xaxis\": {\"title\": {\"text\": \"Epoki\"}}, \"yaxis\": {\"title\": {\"text\": \"binary_crossentropy\"}}},\n",
              "                        {\"responsive\": true}\n",
              "                    ).then(function(){\n",
              "                            \n",
              "var gd = document.getElementById('aa294b76-19e7-4dfa-8f08-52961c696acc');\n",
              "var x = new MutationObserver(function (mutations, observer) {{\n",
              "        var display = window.getComputedStyle(gd).display;\n",
              "        if (!display || display === 'none') {{\n",
              "            console.log([gd, 'removed!']);\n",
              "            Plotly.purge(gd);\n",
              "            observer.disconnect();\n",
              "        }}\n",
              "}});\n",
              "\n",
              "// Listen for the removal of the full notebook cells\n",
              "var notebookContainer = gd.closest('#notebook-container');\n",
              "if (notebookContainer) {{\n",
              "    x.observe(notebookContainer, {childList: true});\n",
              "}}\n",
              "\n",
              "// Listen for the clearing of the current output cell\n",
              "var outputEl = gd.closest('.output');\n",
              "if (outputEl) {{\n",
              "    x.observe(outputEl, {childList: true});\n",
              "}}\n",
              "\n",
              "                        })\n",
              "                };\n",
              "                \n",
              "            </script>\n",
              "        </div>\n",
              "</body>\n",
              "</html>"
            ]
          },
          "metadata": {}
        }
      ]
    },
    {
      "cell_type": "code",
      "metadata": {
        "id": "Axlv5IZ-nrPM"
      },
      "source": [
        ""
      ],
      "execution_count": null,
      "outputs": []
    }
  ]
}