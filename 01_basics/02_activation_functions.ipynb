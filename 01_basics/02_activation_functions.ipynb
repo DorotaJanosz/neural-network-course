{
  "nbformat": 4,
  "nbformat_minor": 0,
  "metadata": {
    "colab": {
      "name": "02_activation_functions.ipynb",
      "provenance": [],
      "authorship_tag": "ABX9TyNg5tEaXLBd1xW/95aKpE3s",
      "include_colab_link": true
    },
    "kernelspec": {
      "name": "python3",
      "display_name": "Python 3"
    }
  },
  "cells": [
    {
      "cell_type": "markdown",
      "metadata": {
        "id": "view-in-github",
        "colab_type": "text"
      },
      "source": [
        "<a href=\"https://colab.research.google.com/github/DorotaJanosz/neural-network-course/blob/master/01_basics/02_activation_functions.ipynb\" target=\"_parent\"><img src=\"https://colab.research.google.com/assets/colab-badge.svg\" alt=\"Open In Colab\"/></a>"
      ]
    },
    {
      "cell_type": "code",
      "metadata": {
        "id": "YXpcPhY-iI28"
      },
      "source": [
        "import numpy as np\n",
        "import pandas as pd\n",
        "import matplotlib.pyplot as plt\n",
        "import plotly.graph_objects as go\n",
        "import plotly.express as px\n",
        "import math\n",
        "\n",
        "np.set_printoptions(precision=6)"
      ],
      "execution_count": 1,
      "outputs": []
    },
    {
      "cell_type": "markdown",
      "metadata": {
        "id": "T0_LV8EVixoQ"
      },
      "source": [
        "###ReLU - Rectified linear unit"
      ]
    },
    {
      "cell_type": "code",
      "metadata": {
        "id": "3sRJO-82irWD"
      },
      "source": [
        "def max_relu(x):\n",
        "  return max(0.0, x)"
      ],
      "execution_count": 2,
      "outputs": []
    },
    {
      "cell_type": "code",
      "metadata": {
        "id": "DiQWkombjFQ0",
        "outputId": "abfd820c-075d-4824-a224-2273272d6dcb",
        "colab": {
          "base_uri": "https://localhost:8080/",
          "height": 108
        }
      },
      "source": [
        "for i in [-10, -5, 0, 5, 10]:\n",
        "  print(max_relu(i))"
      ],
      "execution_count": 3,
      "outputs": [
        {
          "output_type": "stream",
          "text": [
            "0.0\n",
            "0.0\n",
            "0.0\n",
            "5\n",
            "10\n"
          ],
          "name": "stdout"
        }
      ]
    },
    {
      "cell_type": "code",
      "metadata": {
        "id": "gCLOEbwfjLxW",
        "outputId": "299092f1-0a88-4e34-8dc0-e0f19dad0dc5",
        "colab": {
          "base_uri": "https://localhost:8080/",
          "height": 925
        }
      },
      "source": [
        "data = np.random.randn(50)\n",
        "data = sorted(data)\n",
        "data"
      ],
      "execution_count": 4,
      "outputs": [
        {
          "output_type": "execute_result",
          "data": {
            "text/plain": [
              "[-3.0443100704284785,\n",
              " -1.4946304361918545,\n",
              " -1.4453779225042611,\n",
              " -1.3574656726439114,\n",
              " -1.3051844948801983,\n",
              " -1.2614041088692294,\n",
              " -1.1099965893845378,\n",
              " -0.9383960468129348,\n",
              " -0.7411157626995859,\n",
              " -0.7218598520382761,\n",
              " -0.5073423225210305,\n",
              " -0.46581632493400077,\n",
              " -0.4345981380840842,\n",
              " -0.3306511646609314,\n",
              " -0.32489880506274893,\n",
              " -0.2631488612770985,\n",
              " -0.19122344997422672,\n",
              " -0.17307281088202303,\n",
              " -0.10923516785891307,\n",
              " -0.09134377236232105,\n",
              " -0.07476765815790638,\n",
              " -0.010043686728883998,\n",
              " 0.013270420611945714,\n",
              " 0.03853187241278112,\n",
              " 0.058702619081810584,\n",
              " 0.0956403996950784,\n",
              " 0.10877786772280128,\n",
              " 0.12322959655232921,\n",
              " 0.126182624640076,\n",
              " 0.16218136431490301,\n",
              " 0.3340370170751573,\n",
              " 0.3423215657079382,\n",
              " 0.38862295392232976,\n",
              " 0.40081272873297574,\n",
              " 0.7317900763183506,\n",
              " 0.7369163906445458,\n",
              " 0.7523701077722457,\n",
              " 0.772900505212867,\n",
              " 0.8983112781362929,\n",
              " 1.0852724848930402,\n",
              " 1.1495216362733884,\n",
              " 1.1840798016235885,\n",
              " 1.432549165260396,\n",
              " 1.48715253220558,\n",
              " 1.7351174347776412,\n",
              " 1.7511241833502815,\n",
              " 1.8161540794750022,\n",
              " 1.9106150457657614,\n",
              " 2.5453676578398996,\n",
              " 2.819962247386348]"
            ]
          },
          "metadata": {
            "tags": []
          },
          "execution_count": 4
        }
      ]
    },
    {
      "cell_type": "code",
      "metadata": {
        "id": "HdYFYw9mjjpD",
        "outputId": "08f4d085-e2f0-4038-b836-0da807a6bfcb",
        "colab": {
          "base_uri": "https://localhost:8080/",
          "height": 181
        }
      },
      "source": [
        "max_relu_data = np.array([max_relu(i) for i in data])\n",
        "max_relu_data"
      ],
      "execution_count": 6,
      "outputs": [
        {
          "output_type": "execute_result",
          "data": {
            "text/plain": [
              "array([0.      , 0.      , 0.      , 0.      , 0.      , 0.      ,\n",
              "       0.      , 0.      , 0.      , 0.      , 0.      , 0.      ,\n",
              "       0.      , 0.      , 0.      , 0.      , 0.      , 0.      ,\n",
              "       0.      , 0.      , 0.      , 0.      , 0.01327 , 0.038532,\n",
              "       0.058703, 0.09564 , 0.108778, 0.12323 , 0.126183, 0.162181,\n",
              "       0.334037, 0.342322, 0.388623, 0.400813, 0.73179 , 0.736916,\n",
              "       0.75237 , 0.772901, 0.898311, 1.085272, 1.149522, 1.18408 ,\n",
              "       1.432549, 1.487153, 1.735117, 1.751124, 1.816154, 1.910615,\n",
              "       2.545368, 2.819962])"
            ]
          },
          "metadata": {
            "tags": []
          },
          "execution_count": 6
        }
      ]
    },
    {
      "cell_type": "code",
      "metadata": {
        "id": "txDQlrhWjwm2",
        "outputId": "3678910a-2bbf-4e06-bce9-8e85b5ccd210",
        "colab": {
          "base_uri": "https://localhost:8080/",
          "height": 206
        }
      },
      "source": [
        "df = pd.DataFrame({'data': data, 'max_relu_data': max_relu_data})\n",
        "df.head()"
      ],
      "execution_count": 7,
      "outputs": [
        {
          "output_type": "execute_result",
          "data": {
            "text/html": [
              "<div>\n",
              "<style scoped>\n",
              "    .dataframe tbody tr th:only-of-type {\n",
              "        vertical-align: middle;\n",
              "    }\n",
              "\n",
              "    .dataframe tbody tr th {\n",
              "        vertical-align: top;\n",
              "    }\n",
              "\n",
              "    .dataframe thead th {\n",
              "        text-align: right;\n",
              "    }\n",
              "</style>\n",
              "<table border=\"1\" class=\"dataframe\">\n",
              "  <thead>\n",
              "    <tr style=\"text-align: right;\">\n",
              "      <th></th>\n",
              "      <th>data</th>\n",
              "      <th>max_relu_data</th>\n",
              "    </tr>\n",
              "  </thead>\n",
              "  <tbody>\n",
              "    <tr>\n",
              "      <th>0</th>\n",
              "      <td>-3.044310</td>\n",
              "      <td>0.0</td>\n",
              "    </tr>\n",
              "    <tr>\n",
              "      <th>1</th>\n",
              "      <td>-1.494630</td>\n",
              "      <td>0.0</td>\n",
              "    </tr>\n",
              "    <tr>\n",
              "      <th>2</th>\n",
              "      <td>-1.445378</td>\n",
              "      <td>0.0</td>\n",
              "    </tr>\n",
              "    <tr>\n",
              "      <th>3</th>\n",
              "      <td>-1.357466</td>\n",
              "      <td>0.0</td>\n",
              "    </tr>\n",
              "    <tr>\n",
              "      <th>4</th>\n",
              "      <td>-1.305184</td>\n",
              "      <td>0.0</td>\n",
              "    </tr>\n",
              "  </tbody>\n",
              "</table>\n",
              "</div>"
            ],
            "text/plain": [
              "       data  max_relu_data\n",
              "0 -3.044310            0.0\n",
              "1 -1.494630            0.0\n",
              "2 -1.445378            0.0\n",
              "3 -1.357466            0.0\n",
              "4 -1.305184            0.0"
            ]
          },
          "metadata": {
            "tags": []
          },
          "execution_count": 7
        }
      ]
    },
    {
      "cell_type": "code",
      "metadata": {
        "id": "DveHcJUDmTu6",
        "outputId": "8e31c5bd-6090-449e-93fa-b73482230f8c",
        "colab": {
          "base_uri": "https://localhost:8080/",
          "height": 417
        }
      },
      "source": [
        "px.line(df, x='data', y='max_relu_data', title='ReLU Function', width=700, height=400)"
      ],
      "execution_count": 9,
      "outputs": [
        {
          "output_type": "display_data",
          "data": {
            "text/html": [
              "<html>\n",
              "<head><meta charset=\"utf-8\" /></head>\n",
              "<body>\n",
              "    <div>\n",
              "            <script src=\"https://cdnjs.cloudflare.com/ajax/libs/mathjax/2.7.5/MathJax.js?config=TeX-AMS-MML_SVG\"></script><script type=\"text/javascript\">if (window.MathJax) {MathJax.Hub.Config({SVG: {font: \"STIX-Web\"}});}</script>\n",
              "                <script type=\"text/javascript\">window.PlotlyConfig = {MathJaxConfig: 'local'};</script>\n",
              "        <script src=\"https://cdn.plot.ly/plotly-latest.min.js\"></script>    \n",
              "            <div id=\"60b21dce-fcfa-42bd-8bd3-ca3359de5a7f\" class=\"plotly-graph-div\" style=\"height:400px; width:700px;\"></div>\n",
              "            <script type=\"text/javascript\">\n",
              "                \n",
              "                    window.PLOTLYENV=window.PLOTLYENV || {};\n",
              "                    \n",
              "                if (document.getElementById(\"60b21dce-fcfa-42bd-8bd3-ca3359de5a7f\")) {\n",
              "                    Plotly.newPlot(\n",
              "                        '60b21dce-fcfa-42bd-8bd3-ca3359de5a7f',\n",
              "                        [{\"hoverlabel\": {\"namelength\": 0}, \"hovertemplate\": \"data=%{x}<br>max_relu_data=%{y}\", \"legendgroup\": \"\", \"line\": {\"color\": \"#636efa\", \"dash\": \"solid\"}, \"mode\": \"lines\", \"name\": \"\", \"showlegend\": false, \"type\": \"scatter\", \"x\": [-3.0443100704284785, -1.4946304361918545, -1.4453779225042611, -1.3574656726439114, -1.3051844948801983, -1.2614041088692294, -1.1099965893845378, -0.9383960468129348, -0.7411157626995859, -0.7218598520382761, -0.5073423225210305, -0.46581632493400077, -0.4345981380840842, -0.3306511646609314, -0.32489880506274893, -0.2631488612770985, -0.19122344997422672, -0.17307281088202303, -0.10923516785891307, -0.09134377236232105, -0.07476765815790638, -0.010043686728883998, 0.013270420611945714, 0.03853187241278112, 0.058702619081810584, 0.0956403996950784, 0.10877786772280128, 0.12322959655232921, 0.126182624640076, 0.16218136431490301, 0.3340370170751573, 0.3423215657079382, 0.38862295392232976, 0.40081272873297574, 0.7317900763183506, 0.7369163906445458, 0.7523701077722457, 0.772900505212867, 0.8983112781362929, 1.0852724848930402, 1.1495216362733884, 1.1840798016235885, 1.432549165260396, 1.48715253220558, 1.7351174347776412, 1.7511241833502815, 1.8161540794750022, 1.9106150457657614, 2.5453676578398996, 2.819962247386348], \"xaxis\": \"x\", \"y\": [0.0, 0.0, 0.0, 0.0, 0.0, 0.0, 0.0, 0.0, 0.0, 0.0, 0.0, 0.0, 0.0, 0.0, 0.0, 0.0, 0.0, 0.0, 0.0, 0.0, 0.0, 0.0, 0.013270420611945714, 0.03853187241278112, 0.058702619081810584, 0.0956403996950784, 0.10877786772280128, 0.12322959655232921, 0.126182624640076, 0.16218136431490301, 0.3340370170751573, 0.3423215657079382, 0.38862295392232976, 0.40081272873297574, 0.7317900763183506, 0.7369163906445458, 0.7523701077722457, 0.772900505212867, 0.8983112781362929, 1.0852724848930402, 1.1495216362733884, 1.1840798016235885, 1.432549165260396, 1.48715253220558, 1.7351174347776412, 1.7511241833502815, 1.8161540794750022, 1.9106150457657614, 2.5453676578398996, 2.819962247386348], \"yaxis\": \"y\"}],\n",
              "                        {\"height\": 400, \"legend\": {\"tracegroupgap\": 0}, \"template\": {\"data\": {\"bar\": [{\"error_x\": {\"color\": \"#2a3f5f\"}, \"error_y\": {\"color\": \"#2a3f5f\"}, \"marker\": {\"line\": {\"color\": \"#E5ECF6\", \"width\": 0.5}}, \"type\": \"bar\"}], \"barpolar\": [{\"marker\": {\"line\": {\"color\": \"#E5ECF6\", \"width\": 0.5}}, \"type\": \"barpolar\"}], \"carpet\": [{\"aaxis\": {\"endlinecolor\": \"#2a3f5f\", \"gridcolor\": \"white\", \"linecolor\": \"white\", \"minorgridcolor\": \"white\", \"startlinecolor\": \"#2a3f5f\"}, \"baxis\": {\"endlinecolor\": \"#2a3f5f\", \"gridcolor\": \"white\", \"linecolor\": \"white\", \"minorgridcolor\": \"white\", \"startlinecolor\": \"#2a3f5f\"}, \"type\": \"carpet\"}], \"choropleth\": [{\"colorbar\": {\"outlinewidth\": 0, \"ticks\": \"\"}, \"type\": \"choropleth\"}], \"contour\": [{\"colorbar\": {\"outlinewidth\": 0, \"ticks\": \"\"}, \"colorscale\": [[0.0, \"#0d0887\"], [0.1111111111111111, \"#46039f\"], [0.2222222222222222, \"#7201a8\"], [0.3333333333333333, \"#9c179e\"], [0.4444444444444444, \"#bd3786\"], [0.5555555555555556, \"#d8576b\"], [0.6666666666666666, \"#ed7953\"], [0.7777777777777778, \"#fb9f3a\"], [0.8888888888888888, \"#fdca26\"], [1.0, \"#f0f921\"]], \"type\": \"contour\"}], \"contourcarpet\": [{\"colorbar\": {\"outlinewidth\": 0, \"ticks\": \"\"}, \"type\": \"contourcarpet\"}], \"heatmap\": [{\"colorbar\": {\"outlinewidth\": 0, \"ticks\": \"\"}, \"colorscale\": [[0.0, \"#0d0887\"], [0.1111111111111111, \"#46039f\"], [0.2222222222222222, \"#7201a8\"], [0.3333333333333333, \"#9c179e\"], [0.4444444444444444, \"#bd3786\"], [0.5555555555555556, \"#d8576b\"], [0.6666666666666666, \"#ed7953\"], [0.7777777777777778, \"#fb9f3a\"], [0.8888888888888888, \"#fdca26\"], [1.0, \"#f0f921\"]], \"type\": \"heatmap\"}], \"heatmapgl\": [{\"colorbar\": {\"outlinewidth\": 0, \"ticks\": \"\"}, \"colorscale\": [[0.0, \"#0d0887\"], [0.1111111111111111, \"#46039f\"], [0.2222222222222222, \"#7201a8\"], [0.3333333333333333, \"#9c179e\"], [0.4444444444444444, \"#bd3786\"], [0.5555555555555556, \"#d8576b\"], [0.6666666666666666, \"#ed7953\"], [0.7777777777777778, \"#fb9f3a\"], [0.8888888888888888, \"#fdca26\"], [1.0, \"#f0f921\"]], \"type\": \"heatmapgl\"}], \"histogram\": [{\"marker\": {\"colorbar\": {\"outlinewidth\": 0, \"ticks\": \"\"}}, \"type\": \"histogram\"}], \"histogram2d\": [{\"colorbar\": {\"outlinewidth\": 0, \"ticks\": \"\"}, \"colorscale\": [[0.0, \"#0d0887\"], [0.1111111111111111, \"#46039f\"], [0.2222222222222222, \"#7201a8\"], [0.3333333333333333, \"#9c179e\"], [0.4444444444444444, \"#bd3786\"], [0.5555555555555556, \"#d8576b\"], [0.6666666666666666, \"#ed7953\"], [0.7777777777777778, \"#fb9f3a\"], [0.8888888888888888, \"#fdca26\"], [1.0, \"#f0f921\"]], \"type\": \"histogram2d\"}], \"histogram2dcontour\": [{\"colorbar\": {\"outlinewidth\": 0, \"ticks\": \"\"}, \"colorscale\": [[0.0, \"#0d0887\"], [0.1111111111111111, \"#46039f\"], [0.2222222222222222, \"#7201a8\"], [0.3333333333333333, \"#9c179e\"], [0.4444444444444444, \"#bd3786\"], [0.5555555555555556, \"#d8576b\"], [0.6666666666666666, \"#ed7953\"], [0.7777777777777778, \"#fb9f3a\"], [0.8888888888888888, \"#fdca26\"], [1.0, \"#f0f921\"]], \"type\": \"histogram2dcontour\"}], \"mesh3d\": [{\"colorbar\": {\"outlinewidth\": 0, \"ticks\": \"\"}, \"type\": \"mesh3d\"}], \"parcoords\": [{\"line\": {\"colorbar\": {\"outlinewidth\": 0, \"ticks\": \"\"}}, \"type\": \"parcoords\"}], \"pie\": [{\"automargin\": true, \"type\": \"pie\"}], \"scatter\": [{\"marker\": {\"colorbar\": {\"outlinewidth\": 0, \"ticks\": \"\"}}, \"type\": \"scatter\"}], \"scatter3d\": [{\"line\": {\"colorbar\": {\"outlinewidth\": 0, \"ticks\": \"\"}}, \"marker\": {\"colorbar\": {\"outlinewidth\": 0, \"ticks\": \"\"}}, \"type\": \"scatter3d\"}], \"scattercarpet\": [{\"marker\": {\"colorbar\": {\"outlinewidth\": 0, \"ticks\": \"\"}}, \"type\": \"scattercarpet\"}], \"scattergeo\": [{\"marker\": {\"colorbar\": {\"outlinewidth\": 0, \"ticks\": \"\"}}, \"type\": \"scattergeo\"}], \"scattergl\": [{\"marker\": {\"colorbar\": {\"outlinewidth\": 0, \"ticks\": \"\"}}, \"type\": \"scattergl\"}], \"scattermapbox\": [{\"marker\": {\"colorbar\": {\"outlinewidth\": 0, \"ticks\": \"\"}}, \"type\": \"scattermapbox\"}], \"scatterpolar\": [{\"marker\": {\"colorbar\": {\"outlinewidth\": 0, \"ticks\": \"\"}}, \"type\": \"scatterpolar\"}], \"scatterpolargl\": [{\"marker\": {\"colorbar\": {\"outlinewidth\": 0, \"ticks\": \"\"}}, \"type\": \"scatterpolargl\"}], \"scatterternary\": [{\"marker\": {\"colorbar\": {\"outlinewidth\": 0, \"ticks\": \"\"}}, \"type\": \"scatterternary\"}], \"surface\": [{\"colorbar\": {\"outlinewidth\": 0, \"ticks\": \"\"}, \"colorscale\": [[0.0, \"#0d0887\"], [0.1111111111111111, \"#46039f\"], [0.2222222222222222, \"#7201a8\"], [0.3333333333333333, \"#9c179e\"], [0.4444444444444444, \"#bd3786\"], [0.5555555555555556, \"#d8576b\"], [0.6666666666666666, \"#ed7953\"], [0.7777777777777778, \"#fb9f3a\"], [0.8888888888888888, \"#fdca26\"], [1.0, \"#f0f921\"]], \"type\": \"surface\"}], \"table\": [{\"cells\": {\"fill\": {\"color\": \"#EBF0F8\"}, \"line\": {\"color\": \"white\"}}, \"header\": {\"fill\": {\"color\": \"#C8D4E3\"}, \"line\": {\"color\": \"white\"}}, \"type\": \"table\"}]}, \"layout\": {\"annotationdefaults\": {\"arrowcolor\": \"#2a3f5f\", \"arrowhead\": 0, \"arrowwidth\": 1}, \"coloraxis\": {\"colorbar\": {\"outlinewidth\": 0, \"ticks\": \"\"}}, \"colorscale\": {\"diverging\": [[0, \"#8e0152\"], [0.1, \"#c51b7d\"], [0.2, \"#de77ae\"], [0.3, \"#f1b6da\"], [0.4, \"#fde0ef\"], [0.5, \"#f7f7f7\"], [0.6, \"#e6f5d0\"], [0.7, \"#b8e186\"], [0.8, \"#7fbc41\"], [0.9, \"#4d9221\"], [1, \"#276419\"]], \"sequential\": [[0.0, \"#0d0887\"], [0.1111111111111111, \"#46039f\"], [0.2222222222222222, \"#7201a8\"], [0.3333333333333333, \"#9c179e\"], [0.4444444444444444, \"#bd3786\"], [0.5555555555555556, \"#d8576b\"], [0.6666666666666666, \"#ed7953\"], [0.7777777777777778, \"#fb9f3a\"], [0.8888888888888888, \"#fdca26\"], [1.0, \"#f0f921\"]], \"sequentialminus\": [[0.0, \"#0d0887\"], [0.1111111111111111, \"#46039f\"], [0.2222222222222222, \"#7201a8\"], [0.3333333333333333, \"#9c179e\"], [0.4444444444444444, \"#bd3786\"], [0.5555555555555556, \"#d8576b\"], [0.6666666666666666, \"#ed7953\"], [0.7777777777777778, \"#fb9f3a\"], [0.8888888888888888, \"#fdca26\"], [1.0, \"#f0f921\"]]}, \"colorway\": [\"#636efa\", \"#EF553B\", \"#00cc96\", \"#ab63fa\", \"#FFA15A\", \"#19d3f3\", \"#FF6692\", \"#B6E880\", \"#FF97FF\", \"#FECB52\"], \"font\": {\"color\": \"#2a3f5f\"}, \"geo\": {\"bgcolor\": \"white\", \"lakecolor\": \"white\", \"landcolor\": \"#E5ECF6\", \"showlakes\": true, \"showland\": true, \"subunitcolor\": \"white\"}, \"hoverlabel\": {\"align\": \"left\"}, \"hovermode\": \"closest\", \"mapbox\": {\"style\": \"light\"}, \"paper_bgcolor\": \"white\", \"plot_bgcolor\": \"#E5ECF6\", \"polar\": {\"angularaxis\": {\"gridcolor\": \"white\", \"linecolor\": \"white\", \"ticks\": \"\"}, \"bgcolor\": \"#E5ECF6\", \"radialaxis\": {\"gridcolor\": \"white\", \"linecolor\": \"white\", \"ticks\": \"\"}}, \"scene\": {\"xaxis\": {\"backgroundcolor\": \"#E5ECF6\", \"gridcolor\": \"white\", \"gridwidth\": 2, \"linecolor\": \"white\", \"showbackground\": true, \"ticks\": \"\", \"zerolinecolor\": \"white\"}, \"yaxis\": {\"backgroundcolor\": \"#E5ECF6\", \"gridcolor\": \"white\", \"gridwidth\": 2, \"linecolor\": \"white\", \"showbackground\": true, \"ticks\": \"\", \"zerolinecolor\": \"white\"}, \"zaxis\": {\"backgroundcolor\": \"#E5ECF6\", \"gridcolor\": \"white\", \"gridwidth\": 2, \"linecolor\": \"white\", \"showbackground\": true, \"ticks\": \"\", \"zerolinecolor\": \"white\"}}, \"shapedefaults\": {\"line\": {\"color\": \"#2a3f5f\"}}, \"ternary\": {\"aaxis\": {\"gridcolor\": \"white\", \"linecolor\": \"white\", \"ticks\": \"\"}, \"baxis\": {\"gridcolor\": \"white\", \"linecolor\": \"white\", \"ticks\": \"\"}, \"bgcolor\": \"#E5ECF6\", \"caxis\": {\"gridcolor\": \"white\", \"linecolor\": \"white\", \"ticks\": \"\"}}, \"title\": {\"x\": 0.05}, \"xaxis\": {\"automargin\": true, \"gridcolor\": \"white\", \"linecolor\": \"white\", \"ticks\": \"\", \"title\": {\"standoff\": 15}, \"zerolinecolor\": \"white\", \"zerolinewidth\": 2}, \"yaxis\": {\"automargin\": true, \"gridcolor\": \"white\", \"linecolor\": \"white\", \"ticks\": \"\", \"title\": {\"standoff\": 15}, \"zerolinecolor\": \"white\", \"zerolinewidth\": 2}}}, \"title\": {\"text\": \"ReLU Function\"}, \"width\": 700, \"xaxis\": {\"anchor\": \"y\", \"domain\": [0.0, 1.0], \"title\": {\"text\": \"data\"}}, \"yaxis\": {\"anchor\": \"x\", \"domain\": [0.0, 1.0], \"title\": {\"text\": \"max_relu_data\"}}},\n",
              "                        {\"responsive\": true}\n",
              "                    ).then(function(){\n",
              "                            \n",
              "var gd = document.getElementById('60b21dce-fcfa-42bd-8bd3-ca3359de5a7f');\n",
              "var x = new MutationObserver(function (mutations, observer) {{\n",
              "        var display = window.getComputedStyle(gd).display;\n",
              "        if (!display || display === 'none') {{\n",
              "            console.log([gd, 'removed!']);\n",
              "            Plotly.purge(gd);\n",
              "            observer.disconnect();\n",
              "        }}\n",
              "}});\n",
              "\n",
              "// Listen for the removal of the full notebook cells\n",
              "var notebookContainer = gd.closest('#notebook-container');\n",
              "if (notebookContainer) {{\n",
              "    x.observe(notebookContainer, {childList: true});\n",
              "}}\n",
              "\n",
              "// Listen for the clearing of the current output cell\n",
              "var outputEl = gd.closest('.output');\n",
              "if (outputEl) {{\n",
              "    x.observe(outputEl, {childList: true});\n",
              "}}\n",
              "\n",
              "                        })\n",
              "                };\n",
              "                \n",
              "            </script>\n",
              "        </div>\n",
              "</body>\n",
              "</html>"
            ]
          },
          "metadata": {
            "tags": []
          }
        }
      ]
    },
    {
      "cell_type": "markdown",
      "metadata": {
        "id": "cVqll2xSm7JN"
      },
      "source": [
        "###Funkcja sigmoid"
      ]
    },
    {
      "cell_type": "code",
      "metadata": {
        "id": "WlfOuj1omj1P"
      },
      "source": [
        "def sigmoid(x):\n",
        "  return 1/(1 + np.exp(-x))"
      ],
      "execution_count": 13,
      "outputs": []
    },
    {
      "cell_type": "code",
      "metadata": {
        "id": "Xf6p6bp3nUZt",
        "outputId": "c440d12d-f0b7-46e6-ca3c-fe450861f782",
        "colab": {
          "base_uri": "https://localhost:8080/",
          "height": 144
        }
      },
      "source": [
        "for i in [-5., -3., -1., 0., 1., 3., 5.]:\n",
        "  print(sigmoid(i))"
      ],
      "execution_count": 14,
      "outputs": [
        {
          "output_type": "stream",
          "text": [
            "0.0066928509242848554\n",
            "0.04742587317756678\n",
            "0.2689414213699951\n",
            "0.5\n",
            "0.7310585786300049\n",
            "0.9525741268224334\n",
            "0.9933071490757153\n"
          ],
          "name": "stdout"
        }
      ]
    },
    {
      "cell_type": "code",
      "metadata": {
        "id": "cEKBHneJncP-",
        "outputId": "39d2972e-b00d-473e-d966-4370840509f8",
        "colab": {
          "base_uri": "https://localhost:8080/",
          "height": 925
        }
      },
      "source": [
        "data = 3 * np.random.randn(50) \n",
        "data = sorted(data)\n",
        "data"
      ],
      "execution_count": 17,
      "outputs": [
        {
          "output_type": "execute_result",
          "data": {
            "text/plain": [
              "[-4.543376919772645,\n",
              " -4.200698515192526,\n",
              " -4.053795137432619,\n",
              " -3.867906035886533,\n",
              " -3.6523656410829908,\n",
              " -3.36264648662779,\n",
              " -2.7789349499976077,\n",
              " -2.1024359331072704,\n",
              " -2.0919478232921738,\n",
              " -1.9649357028842807,\n",
              " -1.891417578589738,\n",
              " -1.8869590953259712,\n",
              " -1.6270824874084637,\n",
              " -1.5348340245843093,\n",
              " -1.2913049251629327,\n",
              " -0.707836038453381,\n",
              " -0.46196602996905145,\n",
              " -0.1271456212810629,\n",
              " -0.04009309487946755,\n",
              " -0.0003869102763446303,\n",
              " 0.05305072821149734,\n",
              " 0.08025770124294768,\n",
              " 0.10783782789365218,\n",
              " 0.26535885260795167,\n",
              " 0.5122763443936349,\n",
              " 0.601908852302556,\n",
              " 0.776530084756155,\n",
              " 1.0952106874707894,\n",
              " 1.5814656893419192,\n",
              " 1.6434937672432417,\n",
              " 1.6479963076355904,\n",
              " 1.7315711403752232,\n",
              " 2.0683993820291926,\n",
              " 2.138080077402125,\n",
              " 2.2733009789610383,\n",
              " 2.2783062401636345,\n",
              " 2.285325576797491,\n",
              " 2.3565053962239224,\n",
              " 3.1199542057693037,\n",
              " 3.121356450627993,\n",
              " 3.3148207358317197,\n",
              " 3.320476071877204,\n",
              " 3.420418989245989,\n",
              " 3.434252455938199,\n",
              " 3.7178949537008634,\n",
              " 4.384960950792479,\n",
              " 4.976557406734296,\n",
              " 5.058932737964117,\n",
              " 6.08463036567135,\n",
              " 10.934994290969266]"
            ]
          },
          "metadata": {
            "tags": []
          },
          "execution_count": 17
        }
      ]
    },
    {
      "cell_type": "code",
      "metadata": {
        "id": "Mu3__rDQn-ft",
        "outputId": "55e450d4-a896-438c-8e5d-0f5de3b4b9c4",
        "colab": {
          "base_uri": "https://localhost:8080/",
          "height": 181
        }
      },
      "source": [
        "sigmoid_data = np.array([sigmoid(x) for x in data])\n",
        "sigmoid_data"
      ],
      "execution_count": 18,
      "outputs": [
        {
          "output_type": "execute_result",
          "data": {
            "text/plain": [
              "array([0.010525, 0.014764, 0.01706 , 0.020474, 0.025274, 0.033483,\n",
              "       0.058473, 0.10886 , 0.109882, 0.122934, 0.131083, 0.131592,\n",
              "       0.16423 , 0.177288, 0.215632, 0.330077, 0.38652 , 0.468256,\n",
              "       0.489978, 0.499903, 0.51326 , 0.520054, 0.526933, 0.565953,\n",
              "       0.62534 , 0.646093, 0.684932, 0.749362, 0.829412, 0.83801 ,\n",
              "       0.83862 , 0.849613, 0.887794, 0.89455 , 0.906642, 0.907064,\n",
              "       0.907654, 0.91345 , 0.957708, 0.957765, 0.964934, 0.965125,\n",
              "       0.968337, 0.968758, 0.976291, 0.98769 , 0.993149, 0.993688,\n",
              "       0.997728, 0.999982])"
            ]
          },
          "metadata": {
            "tags": []
          },
          "execution_count": 18
        }
      ]
    },
    {
      "cell_type": "code",
      "metadata": {
        "id": "41WPURW_oVl2",
        "outputId": "edc6a1f6-0b73-4072-8c6d-dd8f33fbfa9e",
        "colab": {
          "base_uri": "https://localhost:8080/",
          "height": 206
        }
      },
      "source": [
        "df = pd.DataFrame({'data': data, 'sigmoid_data': sigmoid_data})\n",
        "df.head()"
      ],
      "execution_count": 19,
      "outputs": [
        {
          "output_type": "execute_result",
          "data": {
            "text/html": [
              "<div>\n",
              "<style scoped>\n",
              "    .dataframe tbody tr th:only-of-type {\n",
              "        vertical-align: middle;\n",
              "    }\n",
              "\n",
              "    .dataframe tbody tr th {\n",
              "        vertical-align: top;\n",
              "    }\n",
              "\n",
              "    .dataframe thead th {\n",
              "        text-align: right;\n",
              "    }\n",
              "</style>\n",
              "<table border=\"1\" class=\"dataframe\">\n",
              "  <thead>\n",
              "    <tr style=\"text-align: right;\">\n",
              "      <th></th>\n",
              "      <th>data</th>\n",
              "      <th>sigmoid_data</th>\n",
              "    </tr>\n",
              "  </thead>\n",
              "  <tbody>\n",
              "    <tr>\n",
              "      <th>0</th>\n",
              "      <td>-4.543377</td>\n",
              "      <td>0.010525</td>\n",
              "    </tr>\n",
              "    <tr>\n",
              "      <th>1</th>\n",
              "      <td>-4.200699</td>\n",
              "      <td>0.014764</td>\n",
              "    </tr>\n",
              "    <tr>\n",
              "      <th>2</th>\n",
              "      <td>-4.053795</td>\n",
              "      <td>0.017060</td>\n",
              "    </tr>\n",
              "    <tr>\n",
              "      <th>3</th>\n",
              "      <td>-3.867906</td>\n",
              "      <td>0.020474</td>\n",
              "    </tr>\n",
              "    <tr>\n",
              "      <th>4</th>\n",
              "      <td>-3.652366</td>\n",
              "      <td>0.025274</td>\n",
              "    </tr>\n",
              "  </tbody>\n",
              "</table>\n",
              "</div>"
            ],
            "text/plain": [
              "       data  sigmoid_data\n",
              "0 -4.543377      0.010525\n",
              "1 -4.200699      0.014764\n",
              "2 -4.053795      0.017060\n",
              "3 -3.867906      0.020474\n",
              "4 -3.652366      0.025274"
            ]
          },
          "metadata": {
            "tags": []
          },
          "execution_count": 19
        }
      ]
    },
    {
      "cell_type": "code",
      "metadata": {
        "id": "UpknJI1qokVl",
        "outputId": "ae34d7f9-08e6-48cb-987e-43f60ce996ce",
        "colab": {
          "base_uri": "https://localhost:8080/",
          "height": 417
        }
      },
      "source": [
        "px.line(df, x='data', y='sigmoid_data', title='Sigmoid Function', width=700, height=400)"
      ],
      "execution_count": 21,
      "outputs": [
        {
          "output_type": "display_data",
          "data": {
            "text/html": [
              "<html>\n",
              "<head><meta charset=\"utf-8\" /></head>\n",
              "<body>\n",
              "    <div>\n",
              "            <script src=\"https://cdnjs.cloudflare.com/ajax/libs/mathjax/2.7.5/MathJax.js?config=TeX-AMS-MML_SVG\"></script><script type=\"text/javascript\">if (window.MathJax) {MathJax.Hub.Config({SVG: {font: \"STIX-Web\"}});}</script>\n",
              "                <script type=\"text/javascript\">window.PlotlyConfig = {MathJaxConfig: 'local'};</script>\n",
              "        <script src=\"https://cdn.plot.ly/plotly-latest.min.js\"></script>    \n",
              "            <div id=\"21bc6cf2-4e85-4291-a7d7-00ca2f24398c\" class=\"plotly-graph-div\" style=\"height:400px; width:700px;\"></div>\n",
              "            <script type=\"text/javascript\">\n",
              "                \n",
              "                    window.PLOTLYENV=window.PLOTLYENV || {};\n",
              "                    \n",
              "                if (document.getElementById(\"21bc6cf2-4e85-4291-a7d7-00ca2f24398c\")) {\n",
              "                    Plotly.newPlot(\n",
              "                        '21bc6cf2-4e85-4291-a7d7-00ca2f24398c',\n",
              "                        [{\"hoverlabel\": {\"namelength\": 0}, \"hovertemplate\": \"data=%{x}<br>sigmoid_data=%{y}\", \"legendgroup\": \"\", \"line\": {\"color\": \"#636efa\", \"dash\": \"solid\"}, \"mode\": \"lines\", \"name\": \"\", \"showlegend\": false, \"type\": \"scatter\", \"x\": [-4.543376919772645, -4.200698515192526, -4.053795137432619, -3.867906035886533, -3.6523656410829908, -3.36264648662779, -2.7789349499976077, -2.1024359331072704, -2.0919478232921738, -1.9649357028842807, -1.891417578589738, -1.8869590953259712, -1.6270824874084637, -1.5348340245843093, -1.2913049251629327, -0.707836038453381, -0.46196602996905145, -0.1271456212810629, -0.04009309487946755, -0.0003869102763446303, 0.05305072821149734, 0.08025770124294768, 0.10783782789365218, 0.26535885260795167, 0.5122763443936349, 0.601908852302556, 0.776530084756155, 1.0952106874707894, 1.5814656893419192, 1.6434937672432417, 1.6479963076355904, 1.7315711403752232, 2.0683993820291926, 2.138080077402125, 2.2733009789610383, 2.2783062401636345, 2.285325576797491, 2.3565053962239224, 3.1199542057693037, 3.121356450627993, 3.3148207358317197, 3.320476071877204, 3.420418989245989, 3.434252455938199, 3.7178949537008634, 4.384960950792479, 4.976557406734296, 5.058932737964117, 6.08463036567135, 10.934994290969266], \"xaxis\": \"x\", \"y\": [0.010525460319684965, 0.014763867719364578, 0.01706027503231861, 0.02047413951787235, 0.025274358825426745, 0.03348347099048041, 0.058473163295382755, 0.1088602867447139, 0.10988191707641423, 0.1229338832533308, 0.13108292251092726, 0.1315915804048099, 0.1642304232860735, 0.17728751089961245, 0.21563202059856115, 0.33007717278319454, 0.386519530659789, 0.4682563471769081, 0.4899780687288455, 0.4999032724321205, 0.5132595724093779, 0.520053662163978, 0.5269333613655987, 0.56595315718904, 0.6253399509407523, 0.6460929000284525, 0.6849317863661805, 0.7493616575444029, 0.8294119951824876, 0.8380097744647531, 0.8386200617582398, 0.8496132760224386, 0.887793613044342, 0.8945496402039961, 0.9066415666212645, 0.9070643637032387, 0.9076543956473341, 0.9134499239501431, 0.9577083733910597, 0.9577651321394154, 0.9649337641820978, 0.9651246191625349, 0.9683366206916488, 0.9687580290749307, 0.9762907448940961, 0.9876900487268669, 0.9931494853209754, 0.9936877619509529, 0.997727569651048, 0.9999821768451953], \"yaxis\": \"y\"}],\n",
              "                        {\"height\": 400, \"legend\": {\"tracegroupgap\": 0}, \"template\": {\"data\": {\"bar\": [{\"error_x\": {\"color\": \"#2a3f5f\"}, \"error_y\": {\"color\": \"#2a3f5f\"}, \"marker\": {\"line\": {\"color\": \"#E5ECF6\", \"width\": 0.5}}, \"type\": \"bar\"}], \"barpolar\": [{\"marker\": {\"line\": {\"color\": \"#E5ECF6\", \"width\": 0.5}}, \"type\": \"barpolar\"}], \"carpet\": [{\"aaxis\": {\"endlinecolor\": \"#2a3f5f\", \"gridcolor\": \"white\", \"linecolor\": \"white\", \"minorgridcolor\": \"white\", \"startlinecolor\": \"#2a3f5f\"}, \"baxis\": {\"endlinecolor\": \"#2a3f5f\", \"gridcolor\": \"white\", \"linecolor\": \"white\", \"minorgridcolor\": \"white\", \"startlinecolor\": \"#2a3f5f\"}, \"type\": \"carpet\"}], \"choropleth\": [{\"colorbar\": {\"outlinewidth\": 0, \"ticks\": \"\"}, \"type\": \"choropleth\"}], \"contour\": [{\"colorbar\": {\"outlinewidth\": 0, \"ticks\": \"\"}, \"colorscale\": [[0.0, \"#0d0887\"], [0.1111111111111111, \"#46039f\"], [0.2222222222222222, \"#7201a8\"], [0.3333333333333333, \"#9c179e\"], [0.4444444444444444, \"#bd3786\"], [0.5555555555555556, \"#d8576b\"], [0.6666666666666666, \"#ed7953\"], [0.7777777777777778, \"#fb9f3a\"], [0.8888888888888888, \"#fdca26\"], [1.0, \"#f0f921\"]], \"type\": \"contour\"}], \"contourcarpet\": [{\"colorbar\": {\"outlinewidth\": 0, \"ticks\": \"\"}, \"type\": \"contourcarpet\"}], \"heatmap\": [{\"colorbar\": {\"outlinewidth\": 0, \"ticks\": \"\"}, \"colorscale\": [[0.0, \"#0d0887\"], [0.1111111111111111, \"#46039f\"], [0.2222222222222222, \"#7201a8\"], [0.3333333333333333, \"#9c179e\"], [0.4444444444444444, \"#bd3786\"], [0.5555555555555556, \"#d8576b\"], [0.6666666666666666, \"#ed7953\"], [0.7777777777777778, \"#fb9f3a\"], [0.8888888888888888, \"#fdca26\"], [1.0, \"#f0f921\"]], \"type\": \"heatmap\"}], \"heatmapgl\": [{\"colorbar\": {\"outlinewidth\": 0, \"ticks\": \"\"}, \"colorscale\": [[0.0, \"#0d0887\"], [0.1111111111111111, \"#46039f\"], [0.2222222222222222, \"#7201a8\"], [0.3333333333333333, \"#9c179e\"], [0.4444444444444444, \"#bd3786\"], [0.5555555555555556, \"#d8576b\"], [0.6666666666666666, \"#ed7953\"], [0.7777777777777778, \"#fb9f3a\"], [0.8888888888888888, \"#fdca26\"], [1.0, \"#f0f921\"]], \"type\": \"heatmapgl\"}], \"histogram\": [{\"marker\": {\"colorbar\": {\"outlinewidth\": 0, \"ticks\": \"\"}}, \"type\": \"histogram\"}], \"histogram2d\": [{\"colorbar\": {\"outlinewidth\": 0, \"ticks\": \"\"}, \"colorscale\": [[0.0, \"#0d0887\"], [0.1111111111111111, \"#46039f\"], [0.2222222222222222, \"#7201a8\"], [0.3333333333333333, \"#9c179e\"], [0.4444444444444444, \"#bd3786\"], [0.5555555555555556, \"#d8576b\"], [0.6666666666666666, \"#ed7953\"], [0.7777777777777778, \"#fb9f3a\"], [0.8888888888888888, \"#fdca26\"], [1.0, \"#f0f921\"]], \"type\": \"histogram2d\"}], \"histogram2dcontour\": [{\"colorbar\": {\"outlinewidth\": 0, \"ticks\": \"\"}, \"colorscale\": [[0.0, \"#0d0887\"], [0.1111111111111111, \"#46039f\"], [0.2222222222222222, \"#7201a8\"], [0.3333333333333333, \"#9c179e\"], [0.4444444444444444, \"#bd3786\"], [0.5555555555555556, \"#d8576b\"], [0.6666666666666666, \"#ed7953\"], [0.7777777777777778, \"#fb9f3a\"], [0.8888888888888888, \"#fdca26\"], [1.0, \"#f0f921\"]], \"type\": \"histogram2dcontour\"}], \"mesh3d\": [{\"colorbar\": {\"outlinewidth\": 0, \"ticks\": \"\"}, \"type\": \"mesh3d\"}], \"parcoords\": [{\"line\": {\"colorbar\": {\"outlinewidth\": 0, \"ticks\": \"\"}}, \"type\": \"parcoords\"}], \"pie\": [{\"automargin\": true, \"type\": \"pie\"}], \"scatter\": [{\"marker\": {\"colorbar\": {\"outlinewidth\": 0, \"ticks\": \"\"}}, \"type\": \"scatter\"}], \"scatter3d\": [{\"line\": {\"colorbar\": {\"outlinewidth\": 0, \"ticks\": \"\"}}, \"marker\": {\"colorbar\": {\"outlinewidth\": 0, \"ticks\": \"\"}}, \"type\": \"scatter3d\"}], \"scattercarpet\": [{\"marker\": {\"colorbar\": {\"outlinewidth\": 0, \"ticks\": \"\"}}, \"type\": \"scattercarpet\"}], \"scattergeo\": [{\"marker\": {\"colorbar\": {\"outlinewidth\": 0, \"ticks\": \"\"}}, \"type\": \"scattergeo\"}], \"scattergl\": [{\"marker\": {\"colorbar\": {\"outlinewidth\": 0, \"ticks\": \"\"}}, \"type\": \"scattergl\"}], \"scattermapbox\": [{\"marker\": {\"colorbar\": {\"outlinewidth\": 0, \"ticks\": \"\"}}, \"type\": \"scattermapbox\"}], \"scatterpolar\": [{\"marker\": {\"colorbar\": {\"outlinewidth\": 0, \"ticks\": \"\"}}, \"type\": \"scatterpolar\"}], \"scatterpolargl\": [{\"marker\": {\"colorbar\": {\"outlinewidth\": 0, \"ticks\": \"\"}}, \"type\": \"scatterpolargl\"}], \"scatterternary\": [{\"marker\": {\"colorbar\": {\"outlinewidth\": 0, \"ticks\": \"\"}}, \"type\": \"scatterternary\"}], \"surface\": [{\"colorbar\": {\"outlinewidth\": 0, \"ticks\": \"\"}, \"colorscale\": [[0.0, \"#0d0887\"], [0.1111111111111111, \"#46039f\"], [0.2222222222222222, \"#7201a8\"], [0.3333333333333333, \"#9c179e\"], [0.4444444444444444, \"#bd3786\"], [0.5555555555555556, \"#d8576b\"], [0.6666666666666666, \"#ed7953\"], [0.7777777777777778, \"#fb9f3a\"], [0.8888888888888888, \"#fdca26\"], [1.0, \"#f0f921\"]], \"type\": \"surface\"}], \"table\": [{\"cells\": {\"fill\": {\"color\": \"#EBF0F8\"}, \"line\": {\"color\": \"white\"}}, \"header\": {\"fill\": {\"color\": \"#C8D4E3\"}, \"line\": {\"color\": \"white\"}}, \"type\": \"table\"}]}, \"layout\": {\"annotationdefaults\": {\"arrowcolor\": \"#2a3f5f\", \"arrowhead\": 0, \"arrowwidth\": 1}, \"coloraxis\": {\"colorbar\": {\"outlinewidth\": 0, \"ticks\": \"\"}}, \"colorscale\": {\"diverging\": [[0, \"#8e0152\"], [0.1, \"#c51b7d\"], [0.2, \"#de77ae\"], [0.3, \"#f1b6da\"], [0.4, \"#fde0ef\"], [0.5, \"#f7f7f7\"], [0.6, \"#e6f5d0\"], [0.7, \"#b8e186\"], [0.8, \"#7fbc41\"], [0.9, \"#4d9221\"], [1, \"#276419\"]], \"sequential\": [[0.0, \"#0d0887\"], [0.1111111111111111, \"#46039f\"], [0.2222222222222222, \"#7201a8\"], [0.3333333333333333, \"#9c179e\"], [0.4444444444444444, \"#bd3786\"], [0.5555555555555556, \"#d8576b\"], [0.6666666666666666, \"#ed7953\"], [0.7777777777777778, \"#fb9f3a\"], [0.8888888888888888, \"#fdca26\"], [1.0, \"#f0f921\"]], \"sequentialminus\": [[0.0, \"#0d0887\"], [0.1111111111111111, \"#46039f\"], [0.2222222222222222, \"#7201a8\"], [0.3333333333333333, \"#9c179e\"], [0.4444444444444444, \"#bd3786\"], [0.5555555555555556, \"#d8576b\"], [0.6666666666666666, \"#ed7953\"], [0.7777777777777778, \"#fb9f3a\"], [0.8888888888888888, \"#fdca26\"], [1.0, \"#f0f921\"]]}, \"colorway\": [\"#636efa\", \"#EF553B\", \"#00cc96\", \"#ab63fa\", \"#FFA15A\", \"#19d3f3\", \"#FF6692\", \"#B6E880\", \"#FF97FF\", \"#FECB52\"], \"font\": {\"color\": \"#2a3f5f\"}, \"geo\": {\"bgcolor\": \"white\", \"lakecolor\": \"white\", \"landcolor\": \"#E5ECF6\", \"showlakes\": true, \"showland\": true, \"subunitcolor\": \"white\"}, \"hoverlabel\": {\"align\": \"left\"}, \"hovermode\": \"closest\", \"mapbox\": {\"style\": \"light\"}, \"paper_bgcolor\": \"white\", \"plot_bgcolor\": \"#E5ECF6\", \"polar\": {\"angularaxis\": {\"gridcolor\": \"white\", \"linecolor\": \"white\", \"ticks\": \"\"}, \"bgcolor\": \"#E5ECF6\", \"radialaxis\": {\"gridcolor\": \"white\", \"linecolor\": \"white\", \"ticks\": \"\"}}, \"scene\": {\"xaxis\": {\"backgroundcolor\": \"#E5ECF6\", \"gridcolor\": \"white\", \"gridwidth\": 2, \"linecolor\": \"white\", \"showbackground\": true, \"ticks\": \"\", \"zerolinecolor\": \"white\"}, \"yaxis\": {\"backgroundcolor\": \"#E5ECF6\", \"gridcolor\": \"white\", \"gridwidth\": 2, \"linecolor\": \"white\", \"showbackground\": true, \"ticks\": \"\", \"zerolinecolor\": \"white\"}, \"zaxis\": {\"backgroundcolor\": \"#E5ECF6\", \"gridcolor\": \"white\", \"gridwidth\": 2, \"linecolor\": \"white\", \"showbackground\": true, \"ticks\": \"\", \"zerolinecolor\": \"white\"}}, \"shapedefaults\": {\"line\": {\"color\": \"#2a3f5f\"}}, \"ternary\": {\"aaxis\": {\"gridcolor\": \"white\", \"linecolor\": \"white\", \"ticks\": \"\"}, \"baxis\": {\"gridcolor\": \"white\", \"linecolor\": \"white\", \"ticks\": \"\"}, \"bgcolor\": \"#E5ECF6\", \"caxis\": {\"gridcolor\": \"white\", \"linecolor\": \"white\", \"ticks\": \"\"}}, \"title\": {\"x\": 0.05}, \"xaxis\": {\"automargin\": true, \"gridcolor\": \"white\", \"linecolor\": \"white\", \"ticks\": \"\", \"title\": {\"standoff\": 15}, \"zerolinecolor\": \"white\", \"zerolinewidth\": 2}, \"yaxis\": {\"automargin\": true, \"gridcolor\": \"white\", \"linecolor\": \"white\", \"ticks\": \"\", \"title\": {\"standoff\": 15}, \"zerolinecolor\": \"white\", \"zerolinewidth\": 2}}}, \"title\": {\"text\": \"Sigmoid Function\"}, \"width\": 700, \"xaxis\": {\"anchor\": \"y\", \"domain\": [0.0, 1.0], \"title\": {\"text\": \"data\"}}, \"yaxis\": {\"anchor\": \"x\", \"domain\": [0.0, 1.0], \"title\": {\"text\": \"sigmoid_data\"}}},\n",
              "                        {\"responsive\": true}\n",
              "                    ).then(function(){\n",
              "                            \n",
              "var gd = document.getElementById('21bc6cf2-4e85-4291-a7d7-00ca2f24398c');\n",
              "var x = new MutationObserver(function (mutations, observer) {{\n",
              "        var display = window.getComputedStyle(gd).display;\n",
              "        if (!display || display === 'none') {{\n",
              "            console.log([gd, 'removed!']);\n",
              "            Plotly.purge(gd);\n",
              "            observer.disconnect();\n",
              "        }}\n",
              "}});\n",
              "\n",
              "// Listen for the removal of the full notebook cells\n",
              "var notebookContainer = gd.closest('#notebook-container');\n",
              "if (notebookContainer) {{\n",
              "    x.observe(notebookContainer, {childList: true});\n",
              "}}\n",
              "\n",
              "// Listen for the clearing of the current output cell\n",
              "var outputEl = gd.closest('.output');\n",
              "if (outputEl) {{\n",
              "    x.observe(outputEl, {childList: true});\n",
              "}}\n",
              "\n",
              "                        })\n",
              "                };\n",
              "                \n",
              "            </script>\n",
              "        </div>\n",
              "</body>\n",
              "</html>"
            ]
          },
          "metadata": {
            "tags": []
          }
        }
      ]
    },
    {
      "cell_type": "markdown",
      "metadata": {
        "id": "mnhkd3xLoynh"
      },
      "source": [
        "###Tanh Function"
      ]
    },
    {
      "cell_type": "code",
      "metadata": {
        "id": "Roa9Sakuos18"
      },
      "source": [
        "def tanh(x):\n",
        "  return np.tanh(x)"
      ],
      "execution_count": 26,
      "outputs": []
    },
    {
      "cell_type": "code",
      "metadata": {
        "id": "_jLZhmhjpYJc",
        "outputId": "1033f45d-3a92-406a-e608-98d5d92156f6",
        "colab": {
          "base_uri": "https://localhost:8080/",
          "height": 1000
        }
      },
      "source": [
        "data = 2 * np.random.randn(100)\n",
        "data = sorted(data)\n",
        "data"
      ],
      "execution_count": 27,
      "outputs": [
        {
          "output_type": "execute_result",
          "data": {
            "text/plain": [
              "[-3.7262727350873943,\n",
              " -3.5434646095479128,\n",
              " -3.125455620337041,\n",
              " -3.0520727067800966,\n",
              " -3.0420623185809528,\n",
              " -2.9956370345098255,\n",
              " -2.882994902495473,\n",
              " -2.7936663100643746,\n",
              " -2.5879197151113686,\n",
              " -2.566018002537123,\n",
              " -2.4386472841496,\n",
              " -2.2976096359654776,\n",
              " -2.2414600681922168,\n",
              " -2.080521116475951,\n",
              " -2.0438013108243633,\n",
              " -2.0030012400716877,\n",
              " -1.9133359463345019,\n",
              " -1.8861539074360925,\n",
              " -1.754784802151825,\n",
              " -1.7296113690696973,\n",
              " -1.7106155562604382,\n",
              " -1.7066475914917023,\n",
              " -1.4449272994203974,\n",
              " -1.436779718014898,\n",
              " -1.4276203095476345,\n",
              " -1.349023536625041,\n",
              " -1.2944510368883617,\n",
              " -1.2755592076655728,\n",
              " -1.2527092709018577,\n",
              " -1.169857841789448,\n",
              " -1.0785510843227375,\n",
              " -1.0024884135496936,\n",
              " -0.9880916885649216,\n",
              " -0.9714980681018114,\n",
              " -0.9313326500356508,\n",
              " -0.8774517169077592,\n",
              " -0.827016339768952,\n",
              " -0.8058966266655077,\n",
              " -0.7020173190903755,\n",
              " -0.6609544226141902,\n",
              " -0.6255017745007985,\n",
              " -0.5764420462189059,\n",
              " -0.5656387222158445,\n",
              " -0.5303691772224521,\n",
              " -0.5297851210132769,\n",
              " -0.49671110158869364,\n",
              " -0.4701685786753232,\n",
              " -0.3981025813356057,\n",
              " -0.3291897943960648,\n",
              " -0.3195414949624525,\n",
              " -0.26695559265331814,\n",
              " -0.05343383793856204,\n",
              " 0.028230632436431893,\n",
              " 0.07503588654147007,\n",
              " 0.1638676637223896,\n",
              " 0.1832694932669283,\n",
              " 0.21673456077343062,\n",
              " 0.2221762301311605,\n",
              " 0.3286137615777104,\n",
              " 0.49673561103737135,\n",
              " 0.5384683360918415,\n",
              " 0.5779284780676673,\n",
              " 0.6982674278800062,\n",
              " 1.0165754945539578,\n",
              " 1.0888594364663695,\n",
              " 1.0994864177496584,\n",
              " 1.111094126075424,\n",
              " 1.1288307213665918,\n",
              " 1.196010504203686,\n",
              " 1.2610325432456775,\n",
              " 1.3316533986923105,\n",
              " 1.3384194434894363,\n",
              " 1.3531423066948196,\n",
              " 1.3647876216890622,\n",
              " 1.3695779932010783,\n",
              " 1.372931820437177,\n",
              " 1.4261608207225345,\n",
              " 1.5043841243450482,\n",
              " 1.6091811778095273,\n",
              " 1.658723671434119,\n",
              " 1.6810914476884005,\n",
              " 1.9364721319482767,\n",
              " 2.041729794887357,\n",
              " 2.0608941930462623,\n",
              " 2.183385562594694,\n",
              " 2.2315886139307533,\n",
              " 2.260653619807001,\n",
              " 2.454164437130433,\n",
              " 2.5030221803179775,\n",
              " 2.8652139697230976,\n",
              " 2.977759563269706,\n",
              " 3.1105850855387107,\n",
              " 3.2048661956810123,\n",
              " 3.254462906247827,\n",
              " 3.728984447439007,\n",
              " 3.755067027145003,\n",
              " 4.2904154111174595,\n",
              " 5.19877601823654,\n",
              " 5.222115437185294,\n",
              " 5.279691599146295]"
            ]
          },
          "metadata": {
            "tags": []
          },
          "execution_count": 27
        }
      ]
    },
    {
      "cell_type": "code",
      "metadata": {
        "id": "1g00nueqpdzP",
        "outputId": "db3c801c-2c00-47c8-c9c1-f2c08ebe77f5",
        "colab": {
          "base_uri": "https://localhost:8080/",
          "height": 326
        }
      },
      "source": [
        "tanh_data = np.array([tanh(x) for x in data])\n",
        "tanh_data"
      ],
      "execution_count": 28,
      "outputs": [
        {
          "output_type": "execute_result",
          "data": {
            "text/plain": [
              "array([-0.998841, -0.998329, -0.99615 , -0.995543, -0.995453, -0.995012,\n",
              "       -0.993755, -0.992538, -0.988761, -0.98826 , -0.98488 , -0.980002,\n",
              "       -0.977652, -0.969296, -0.966995, -0.964239, -0.957365, -0.955036,\n",
              "       -0.941918, -0.93901 , -0.936723, -0.936235, -0.894685, -0.893048,\n",
              "       -0.891178, -0.873823, -0.860288, -0.855297, -0.849042, -0.824227,\n",
              "       -0.792661, -0.762637, -0.756547, -0.749362, -0.731215, -0.70514 ,\n",
              "       -0.678871, -0.66732 , -0.605647, -0.578998, -0.554947, -0.520075,\n",
              "       -0.512149, -0.485663, -0.485217, -0.459527, -0.438336, -0.378324,\n",
              "       -0.317793, -0.309092, -0.26079 , -0.053383,  0.028223,  0.074895,\n",
              "        0.162416,  0.181245,  0.213404,  0.218591,  0.317275,  0.459546,\n",
              "        0.491828,  0.521158,  0.603267,  0.768468,  0.796461,  0.800314,\n",
              "        0.804449,  0.810619,  0.832434,  0.851349,  0.869653,  0.871292,\n",
              "        0.874793,  0.877499,  0.878596,  0.879359,  0.890877,  0.905937,\n",
              "        0.923039,  0.930045,  0.933003,  0.959253,  0.96686 ,  0.968087,\n",
              "        0.974934,  0.977211,  0.978484,  0.985339,  0.986694,  0.99353 ,\n",
              "        0.99483 ,  0.996034,  0.996714,  0.997024,  0.998847,  0.998906,\n",
              "        0.999625,  0.999939,  0.999942,  0.999948])"
            ]
          },
          "metadata": {
            "tags": []
          },
          "execution_count": 28
        }
      ]
    },
    {
      "cell_type": "code",
      "metadata": {
        "id": "AgyLeaeopuL9",
        "outputId": "4466372a-a2aa-4575-b4c0-04d7abf2c819",
        "colab": {
          "base_uri": "https://localhost:8080/",
          "height": 206
        }
      },
      "source": [
        "df = pd.DataFrame({'data': data, 'tanh_data': tanh_data})\n",
        "df.head()"
      ],
      "execution_count": 29,
      "outputs": [
        {
          "output_type": "execute_result",
          "data": {
            "text/html": [
              "<div>\n",
              "<style scoped>\n",
              "    .dataframe tbody tr th:only-of-type {\n",
              "        vertical-align: middle;\n",
              "    }\n",
              "\n",
              "    .dataframe tbody tr th {\n",
              "        vertical-align: top;\n",
              "    }\n",
              "\n",
              "    .dataframe thead th {\n",
              "        text-align: right;\n",
              "    }\n",
              "</style>\n",
              "<table border=\"1\" class=\"dataframe\">\n",
              "  <thead>\n",
              "    <tr style=\"text-align: right;\">\n",
              "      <th></th>\n",
              "      <th>data</th>\n",
              "      <th>tanh_data</th>\n",
              "    </tr>\n",
              "  </thead>\n",
              "  <tbody>\n",
              "    <tr>\n",
              "      <th>0</th>\n",
              "      <td>-3.726273</td>\n",
              "      <td>-0.998841</td>\n",
              "    </tr>\n",
              "    <tr>\n",
              "      <th>1</th>\n",
              "      <td>-3.543465</td>\n",
              "      <td>-0.998329</td>\n",
              "    </tr>\n",
              "    <tr>\n",
              "      <th>2</th>\n",
              "      <td>-3.125456</td>\n",
              "      <td>-0.996150</td>\n",
              "    </tr>\n",
              "    <tr>\n",
              "      <th>3</th>\n",
              "      <td>-3.052073</td>\n",
              "      <td>-0.995543</td>\n",
              "    </tr>\n",
              "    <tr>\n",
              "      <th>4</th>\n",
              "      <td>-3.042062</td>\n",
              "      <td>-0.995453</td>\n",
              "    </tr>\n",
              "  </tbody>\n",
              "</table>\n",
              "</div>"
            ],
            "text/plain": [
              "       data  tanh_data\n",
              "0 -3.726273  -0.998841\n",
              "1 -3.543465  -0.998329\n",
              "2 -3.125456  -0.996150\n",
              "3 -3.052073  -0.995543\n",
              "4 -3.042062  -0.995453"
            ]
          },
          "metadata": {
            "tags": []
          },
          "execution_count": 29
        }
      ]
    },
    {
      "cell_type": "code",
      "metadata": {
        "id": "TxtW4bVVqMlU",
        "outputId": "dcb7984a-a4e3-42a8-fe0e-67896c6bac70",
        "colab": {
          "base_uri": "https://localhost:8080/",
          "height": 417
        }
      },
      "source": [
        "px.line(df, x='data', y='tanh_data', title='Tanh Function', width=700, height=400)"
      ],
      "execution_count": 30,
      "outputs": [
        {
          "output_type": "display_data",
          "data": {
            "text/html": [
              "<html>\n",
              "<head><meta charset=\"utf-8\" /></head>\n",
              "<body>\n",
              "    <div>\n",
              "            <script src=\"https://cdnjs.cloudflare.com/ajax/libs/mathjax/2.7.5/MathJax.js?config=TeX-AMS-MML_SVG\"></script><script type=\"text/javascript\">if (window.MathJax) {MathJax.Hub.Config({SVG: {font: \"STIX-Web\"}});}</script>\n",
              "                <script type=\"text/javascript\">window.PlotlyConfig = {MathJaxConfig: 'local'};</script>\n",
              "        <script src=\"https://cdn.plot.ly/plotly-latest.min.js\"></script>    \n",
              "            <div id=\"25a222fb-18d6-4dc8-a191-3821ff0a5b85\" class=\"plotly-graph-div\" style=\"height:400px; width:700px;\"></div>\n",
              "            <script type=\"text/javascript\">\n",
              "                \n",
              "                    window.PLOTLYENV=window.PLOTLYENV || {};\n",
              "                    \n",
              "                if (document.getElementById(\"25a222fb-18d6-4dc8-a191-3821ff0a5b85\")) {\n",
              "                    Plotly.newPlot(\n",
              "                        '25a222fb-18d6-4dc8-a191-3821ff0a5b85',\n",
              "                        [{\"hoverlabel\": {\"namelength\": 0}, \"hovertemplate\": \"data=%{x}<br>tanh_data=%{y}\", \"legendgroup\": \"\", \"line\": {\"color\": \"#636efa\", \"dash\": \"solid\"}, \"mode\": \"lines\", \"name\": \"\", \"showlegend\": false, \"type\": \"scatter\", \"x\": [-3.7262727350873943, -3.5434646095479128, -3.125455620337041, -3.0520727067800966, -3.0420623185809528, -2.9956370345098255, -2.882994902495473, -2.7936663100643746, -2.5879197151113686, -2.566018002537123, -2.4386472841496, -2.2976096359654776, -2.2414600681922168, -2.080521116475951, -2.0438013108243633, -2.0030012400716877, -1.9133359463345019, -1.8861539074360925, -1.754784802151825, -1.7296113690696973, -1.7106155562604382, -1.7066475914917023, -1.4449272994203974, -1.436779718014898, -1.4276203095476345, -1.349023536625041, -1.2944510368883617, -1.2755592076655728, -1.2527092709018577, -1.169857841789448, -1.0785510843227375, -1.0024884135496936, -0.9880916885649216, -0.9714980681018114, -0.9313326500356508, -0.8774517169077592, -0.827016339768952, -0.8058966266655077, -0.7020173190903755, -0.6609544226141902, -0.6255017745007985, -0.5764420462189059, -0.5656387222158445, -0.5303691772224521, -0.5297851210132769, -0.49671110158869364, -0.4701685786753232, -0.3981025813356057, -0.3291897943960648, -0.3195414949624525, -0.26695559265331814, -0.05343383793856204, 0.028230632436431893, 0.07503588654147007, 0.1638676637223896, 0.1832694932669283, 0.21673456077343062, 0.2221762301311605, 0.3286137615777104, 0.49673561103737135, 0.5384683360918415, 0.5779284780676673, 0.6982674278800062, 1.0165754945539578, 1.0888594364663695, 1.0994864177496584, 1.111094126075424, 1.1288307213665918, 1.196010504203686, 1.2610325432456775, 1.3316533986923105, 1.3384194434894363, 1.3531423066948196, 1.3647876216890622, 1.3695779932010783, 1.372931820437177, 1.4261608207225345, 1.5043841243450482, 1.6091811778095273, 1.658723671434119, 1.6810914476884005, 1.9364721319482767, 2.041729794887357, 2.0608941930462623, 2.183385562594694, 2.2315886139307533, 2.260653619807001, 2.454164437130433, 2.5030221803179775, 2.8652139697230976, 2.977759563269706, 3.1105850855387107, 3.2048661956810123, 3.254462906247827, 3.728984447439007, 3.755067027145003, 4.2904154111174595, 5.19877601823654, 5.222115437185294, 5.279691599146295], \"xaxis\": \"x\", \"y\": [-0.9988407454212552, -0.998329475533056, -0.9961500337555551, -0.9955427769063233, -0.9954528454822325, -0.9950115210918343, -0.9937549743147888, -0.992537937648904, -0.988760577455959, -0.9882602644183476, -0.9848799880128053, -0.9800019684556698, -0.977651810099046, -0.9692961141207144, -0.9669949808596177, -0.9642390078084063, -0.9573647056167275, -0.9550362680209268, -0.9419176608403204, -0.9390099906527606, -0.936723023160608, -0.9362349375700593, -0.8946852575235906, -0.8930476015725426, -0.8911778914024915, -0.8738226156045834, -0.8602878234302992, -0.8552972297084764, -0.8490416159370789, -0.8242265925773605, -0.7926611703082707, -0.762637246819601, -0.7565474390620471, -0.7493618628127661, -0.7312146162156069, -0.7051404030900288, -0.6788706680065552, -0.6673204144583882, -0.6056466884225188, -0.5789982266379973, -0.5549470639329425, -0.5200746277259735, -0.5121491397712311, -0.48566324102096986, -0.48521681886050105, -0.4595266827515161, -0.4383355131977955, -0.37832428793838246, -0.31779258333796706, -0.3090922796386976, -0.2607897418769171, -0.053383041630645195, 0.028223135183843114, 0.07489537602586692, 0.16241649062495758, 0.1812448231759812, 0.2134035152923959, 0.21859128963745422, 0.317274630539987, 0.4595460164502936, 0.49182767875899036, 0.5211581745884857, 0.6032668933544155, 0.7684680343885716, 0.7964614768445479, 0.8003144664818251, 0.8044488070046435, 0.8106186994366462, 0.8324336768522856, 0.8513485213618782, 0.8696528527306441, 0.8712920938520278, 0.8747929352977072, 0.8774988373447681, 0.8785959823361571, 0.8793586365533566, 0.8908771347632751, 0.9059373575769004, 0.9230389355805009, 0.9300450623345808, 0.9330030457443386, 0.9592533163042967, 0.9668602268412851, 0.9680865148841848, 0.9749338319919059, 0.9772112849136586, 0.9784843812061571, 0.9853386335641283, 0.9866944254937687, 0.9935296248618875, 0.994830400667468, 0.9960340423929106, 0.9967144766454841, 0.9970242750897549, 0.9988470119183844, 0.9989055838251896, 0.9996247324399942, 0.9999389877175561, 0.9999417701710233, 0.999948103643172], \"yaxis\": \"y\"}],\n",
              "                        {\"height\": 400, \"legend\": {\"tracegroupgap\": 0}, \"template\": {\"data\": {\"bar\": [{\"error_x\": {\"color\": \"#2a3f5f\"}, \"error_y\": {\"color\": \"#2a3f5f\"}, \"marker\": {\"line\": {\"color\": \"#E5ECF6\", \"width\": 0.5}}, \"type\": \"bar\"}], \"barpolar\": [{\"marker\": {\"line\": {\"color\": \"#E5ECF6\", \"width\": 0.5}}, \"type\": \"barpolar\"}], \"carpet\": [{\"aaxis\": {\"endlinecolor\": \"#2a3f5f\", \"gridcolor\": \"white\", \"linecolor\": \"white\", \"minorgridcolor\": \"white\", \"startlinecolor\": \"#2a3f5f\"}, \"baxis\": {\"endlinecolor\": \"#2a3f5f\", \"gridcolor\": \"white\", \"linecolor\": \"white\", \"minorgridcolor\": \"white\", \"startlinecolor\": \"#2a3f5f\"}, \"type\": \"carpet\"}], \"choropleth\": [{\"colorbar\": {\"outlinewidth\": 0, \"ticks\": \"\"}, \"type\": \"choropleth\"}], \"contour\": [{\"colorbar\": {\"outlinewidth\": 0, \"ticks\": \"\"}, \"colorscale\": [[0.0, \"#0d0887\"], [0.1111111111111111, \"#46039f\"], [0.2222222222222222, \"#7201a8\"], [0.3333333333333333, \"#9c179e\"], [0.4444444444444444, \"#bd3786\"], [0.5555555555555556, \"#d8576b\"], [0.6666666666666666, \"#ed7953\"], [0.7777777777777778, \"#fb9f3a\"], [0.8888888888888888, \"#fdca26\"], [1.0, \"#f0f921\"]], \"type\": \"contour\"}], \"contourcarpet\": [{\"colorbar\": {\"outlinewidth\": 0, \"ticks\": \"\"}, \"type\": \"contourcarpet\"}], \"heatmap\": [{\"colorbar\": {\"outlinewidth\": 0, \"ticks\": \"\"}, \"colorscale\": [[0.0, \"#0d0887\"], [0.1111111111111111, \"#46039f\"], [0.2222222222222222, \"#7201a8\"], [0.3333333333333333, \"#9c179e\"], [0.4444444444444444, \"#bd3786\"], [0.5555555555555556, \"#d8576b\"], [0.6666666666666666, \"#ed7953\"], [0.7777777777777778, \"#fb9f3a\"], [0.8888888888888888, \"#fdca26\"], [1.0, \"#f0f921\"]], \"type\": \"heatmap\"}], \"heatmapgl\": [{\"colorbar\": {\"outlinewidth\": 0, \"ticks\": \"\"}, \"colorscale\": [[0.0, \"#0d0887\"], [0.1111111111111111, \"#46039f\"], [0.2222222222222222, \"#7201a8\"], [0.3333333333333333, \"#9c179e\"], [0.4444444444444444, \"#bd3786\"], [0.5555555555555556, \"#d8576b\"], [0.6666666666666666, \"#ed7953\"], [0.7777777777777778, \"#fb9f3a\"], [0.8888888888888888, \"#fdca26\"], [1.0, \"#f0f921\"]], \"type\": \"heatmapgl\"}], \"histogram\": [{\"marker\": {\"colorbar\": {\"outlinewidth\": 0, \"ticks\": \"\"}}, \"type\": \"histogram\"}], \"histogram2d\": [{\"colorbar\": {\"outlinewidth\": 0, \"ticks\": \"\"}, \"colorscale\": [[0.0, \"#0d0887\"], [0.1111111111111111, \"#46039f\"], [0.2222222222222222, \"#7201a8\"], [0.3333333333333333, \"#9c179e\"], [0.4444444444444444, \"#bd3786\"], [0.5555555555555556, \"#d8576b\"], [0.6666666666666666, \"#ed7953\"], [0.7777777777777778, \"#fb9f3a\"], [0.8888888888888888, \"#fdca26\"], [1.0, \"#f0f921\"]], \"type\": \"histogram2d\"}], \"histogram2dcontour\": [{\"colorbar\": {\"outlinewidth\": 0, \"ticks\": \"\"}, \"colorscale\": [[0.0, \"#0d0887\"], [0.1111111111111111, \"#46039f\"], [0.2222222222222222, \"#7201a8\"], [0.3333333333333333, \"#9c179e\"], [0.4444444444444444, \"#bd3786\"], [0.5555555555555556, \"#d8576b\"], [0.6666666666666666, \"#ed7953\"], [0.7777777777777778, \"#fb9f3a\"], [0.8888888888888888, \"#fdca26\"], [1.0, \"#f0f921\"]], \"type\": \"histogram2dcontour\"}], \"mesh3d\": [{\"colorbar\": {\"outlinewidth\": 0, \"ticks\": \"\"}, \"type\": \"mesh3d\"}], \"parcoords\": [{\"line\": {\"colorbar\": {\"outlinewidth\": 0, \"ticks\": \"\"}}, \"type\": \"parcoords\"}], \"pie\": [{\"automargin\": true, \"type\": \"pie\"}], \"scatter\": [{\"marker\": {\"colorbar\": {\"outlinewidth\": 0, \"ticks\": \"\"}}, \"type\": \"scatter\"}], \"scatter3d\": [{\"line\": {\"colorbar\": {\"outlinewidth\": 0, \"ticks\": \"\"}}, \"marker\": {\"colorbar\": {\"outlinewidth\": 0, \"ticks\": \"\"}}, \"type\": \"scatter3d\"}], \"scattercarpet\": [{\"marker\": {\"colorbar\": {\"outlinewidth\": 0, \"ticks\": \"\"}}, \"type\": \"scattercarpet\"}], \"scattergeo\": [{\"marker\": {\"colorbar\": {\"outlinewidth\": 0, \"ticks\": \"\"}}, \"type\": \"scattergeo\"}], \"scattergl\": [{\"marker\": {\"colorbar\": {\"outlinewidth\": 0, \"ticks\": \"\"}}, \"type\": \"scattergl\"}], \"scattermapbox\": [{\"marker\": {\"colorbar\": {\"outlinewidth\": 0, \"ticks\": \"\"}}, \"type\": \"scattermapbox\"}], \"scatterpolar\": [{\"marker\": {\"colorbar\": {\"outlinewidth\": 0, \"ticks\": \"\"}}, \"type\": \"scatterpolar\"}], \"scatterpolargl\": [{\"marker\": {\"colorbar\": {\"outlinewidth\": 0, \"ticks\": \"\"}}, \"type\": \"scatterpolargl\"}], \"scatterternary\": [{\"marker\": {\"colorbar\": {\"outlinewidth\": 0, \"ticks\": \"\"}}, \"type\": \"scatterternary\"}], \"surface\": [{\"colorbar\": {\"outlinewidth\": 0, \"ticks\": \"\"}, \"colorscale\": [[0.0, \"#0d0887\"], [0.1111111111111111, \"#46039f\"], [0.2222222222222222, \"#7201a8\"], [0.3333333333333333, \"#9c179e\"], [0.4444444444444444, \"#bd3786\"], [0.5555555555555556, \"#d8576b\"], [0.6666666666666666, \"#ed7953\"], [0.7777777777777778, \"#fb9f3a\"], [0.8888888888888888, \"#fdca26\"], [1.0, \"#f0f921\"]], \"type\": \"surface\"}], \"table\": [{\"cells\": {\"fill\": {\"color\": \"#EBF0F8\"}, \"line\": {\"color\": \"white\"}}, \"header\": {\"fill\": {\"color\": \"#C8D4E3\"}, \"line\": {\"color\": \"white\"}}, \"type\": \"table\"}]}, \"layout\": {\"annotationdefaults\": {\"arrowcolor\": \"#2a3f5f\", \"arrowhead\": 0, \"arrowwidth\": 1}, \"coloraxis\": {\"colorbar\": {\"outlinewidth\": 0, \"ticks\": \"\"}}, \"colorscale\": {\"diverging\": [[0, \"#8e0152\"], [0.1, \"#c51b7d\"], [0.2, \"#de77ae\"], [0.3, \"#f1b6da\"], [0.4, \"#fde0ef\"], [0.5, \"#f7f7f7\"], [0.6, \"#e6f5d0\"], [0.7, \"#b8e186\"], [0.8, \"#7fbc41\"], [0.9, \"#4d9221\"], [1, \"#276419\"]], \"sequential\": [[0.0, \"#0d0887\"], [0.1111111111111111, \"#46039f\"], [0.2222222222222222, \"#7201a8\"], [0.3333333333333333, \"#9c179e\"], [0.4444444444444444, \"#bd3786\"], [0.5555555555555556, \"#d8576b\"], [0.6666666666666666, \"#ed7953\"], [0.7777777777777778, \"#fb9f3a\"], [0.8888888888888888, \"#fdca26\"], [1.0, \"#f0f921\"]], \"sequentialminus\": [[0.0, \"#0d0887\"], [0.1111111111111111, \"#46039f\"], [0.2222222222222222, \"#7201a8\"], [0.3333333333333333, \"#9c179e\"], [0.4444444444444444, \"#bd3786\"], [0.5555555555555556, \"#d8576b\"], [0.6666666666666666, \"#ed7953\"], [0.7777777777777778, \"#fb9f3a\"], [0.8888888888888888, \"#fdca26\"], [1.0, \"#f0f921\"]]}, \"colorway\": [\"#636efa\", \"#EF553B\", \"#00cc96\", \"#ab63fa\", \"#FFA15A\", \"#19d3f3\", \"#FF6692\", \"#B6E880\", \"#FF97FF\", \"#FECB52\"], \"font\": {\"color\": \"#2a3f5f\"}, \"geo\": {\"bgcolor\": \"white\", \"lakecolor\": \"white\", \"landcolor\": \"#E5ECF6\", \"showlakes\": true, \"showland\": true, \"subunitcolor\": \"white\"}, \"hoverlabel\": {\"align\": \"left\"}, \"hovermode\": \"closest\", \"mapbox\": {\"style\": \"light\"}, \"paper_bgcolor\": \"white\", \"plot_bgcolor\": \"#E5ECF6\", \"polar\": {\"angularaxis\": {\"gridcolor\": \"white\", \"linecolor\": \"white\", \"ticks\": \"\"}, \"bgcolor\": \"#E5ECF6\", \"radialaxis\": {\"gridcolor\": \"white\", \"linecolor\": \"white\", \"ticks\": \"\"}}, \"scene\": {\"xaxis\": {\"backgroundcolor\": \"#E5ECF6\", \"gridcolor\": \"white\", \"gridwidth\": 2, \"linecolor\": \"white\", \"showbackground\": true, \"ticks\": \"\", \"zerolinecolor\": \"white\"}, \"yaxis\": {\"backgroundcolor\": \"#E5ECF6\", \"gridcolor\": \"white\", \"gridwidth\": 2, \"linecolor\": \"white\", \"showbackground\": true, \"ticks\": \"\", \"zerolinecolor\": \"white\"}, \"zaxis\": {\"backgroundcolor\": \"#E5ECF6\", \"gridcolor\": \"white\", \"gridwidth\": 2, \"linecolor\": \"white\", \"showbackground\": true, \"ticks\": \"\", \"zerolinecolor\": \"white\"}}, \"shapedefaults\": {\"line\": {\"color\": \"#2a3f5f\"}}, \"ternary\": {\"aaxis\": {\"gridcolor\": \"white\", \"linecolor\": \"white\", \"ticks\": \"\"}, \"baxis\": {\"gridcolor\": \"white\", \"linecolor\": \"white\", \"ticks\": \"\"}, \"bgcolor\": \"#E5ECF6\", \"caxis\": {\"gridcolor\": \"white\", \"linecolor\": \"white\", \"ticks\": \"\"}}, \"title\": {\"x\": 0.05}, \"xaxis\": {\"automargin\": true, \"gridcolor\": \"white\", \"linecolor\": \"white\", \"ticks\": \"\", \"title\": {\"standoff\": 15}, \"zerolinecolor\": \"white\", \"zerolinewidth\": 2}, \"yaxis\": {\"automargin\": true, \"gridcolor\": \"white\", \"linecolor\": \"white\", \"ticks\": \"\", \"title\": {\"standoff\": 15}, \"zerolinecolor\": \"white\", \"zerolinewidth\": 2}}}, \"title\": {\"text\": \"Tanh Function\"}, \"width\": 700, \"xaxis\": {\"anchor\": \"y\", \"domain\": [0.0, 1.0], \"title\": {\"text\": \"data\"}}, \"yaxis\": {\"anchor\": \"x\", \"domain\": [0.0, 1.0], \"title\": {\"text\": \"tanh_data\"}}},\n",
              "                        {\"responsive\": true}\n",
              "                    ).then(function(){\n",
              "                            \n",
              "var gd = document.getElementById('25a222fb-18d6-4dc8-a191-3821ff0a5b85');\n",
              "var x = new MutationObserver(function (mutations, observer) {{\n",
              "        var display = window.getComputedStyle(gd).display;\n",
              "        if (!display || display === 'none') {{\n",
              "            console.log([gd, 'removed!']);\n",
              "            Plotly.purge(gd);\n",
              "            observer.disconnect();\n",
              "        }}\n",
              "}});\n",
              "\n",
              "// Listen for the removal of the full notebook cells\n",
              "var notebookContainer = gd.closest('#notebook-container');\n",
              "if (notebookContainer) {{\n",
              "    x.observe(notebookContainer, {childList: true});\n",
              "}}\n",
              "\n",
              "// Listen for the clearing of the current output cell\n",
              "var outputEl = gd.closest('.output');\n",
              "if (outputEl) {{\n",
              "    x.observe(outputEl, {childList: true});\n",
              "}}\n",
              "\n",
              "                        })\n",
              "                };\n",
              "                \n",
              "            </script>\n",
              "        </div>\n",
              "</body>\n",
              "</html>"
            ]
          },
          "metadata": {
            "tags": []
          }
        }
      ]
    },
    {
      "cell_type": "markdown",
      "metadata": {
        "id": "ipLfEBpqqawt"
      },
      "source": [
        "Sofmax Function"
      ]
    },
    {
      "cell_type": "code",
      "metadata": {
        "id": "yr97iTkqqWRn"
      },
      "source": [
        "def softmax(x):\n",
        "  e_x = np.exp(x)\n",
        "  denominator = np.sum(e_x, axis=1)\n",
        "  denominator = denominator[:, np.newaxis]\n",
        "  return e_x / denominator"
      ],
      "execution_count": 35,
      "outputs": []
    },
    {
      "cell_type": "code",
      "metadata": {
        "id": "z-1j-Gt1swDl",
        "outputId": "bc7bea4d-cffb-4b31-a7d6-e10b4f3a5fbc",
        "colab": {
          "base_uri": "https://localhost:8080/",
          "height": 90
        }
      },
      "source": [
        "data = np.random.randn(4, 5)\n",
        "data"
      ],
      "execution_count": 38,
      "outputs": [
        {
          "output_type": "execute_result",
          "data": {
            "text/plain": [
              "array([[ 0.767785, -1.107206, -0.258829,  0.533724, -0.137074],\n",
              "       [ 0.414178,  1.00261 , -0.276099, -0.278463, -0.273668],\n",
              "       [ 1.563987,  0.552245,  0.17517 ,  1.826049,  0.412907],\n",
              "       [-1.05253 ,  1.417442, -0.920041,  2.249364, -0.722149]])"
            ]
          },
          "metadata": {
            "tags": []
          },
          "execution_count": 38
        }
      ]
    },
    {
      "cell_type": "code",
      "metadata": {
        "id": "w3gVJpOFs5iS",
        "outputId": "5892133c-384d-4880-f171-ca6fefba855a",
        "colab": {
          "base_uri": "https://localhost:8080/",
          "height": 90
        }
      },
      "source": [
        "result = softmax(data)\n",
        "result"
      ],
      "execution_count": 39,
      "outputs": [
        {
          "output_type": "execute_result",
          "data": {
            "text/plain": [
              "array([[0.369346, 0.056642, 0.132306, 0.292269, 0.149437],\n",
              "       [0.23226 , 0.418339, 0.116464, 0.116189, 0.116747],\n",
              "       [0.309707, 0.112605, 0.077232, 0.402497, 0.097959],\n",
              "       [0.023519, 0.278041, 0.026851, 0.638863, 0.032726]])"
            ]
          },
          "metadata": {
            "tags": []
          },
          "execution_count": 39
        }
      ]
    },
    {
      "cell_type": "code",
      "metadata": {
        "id": "Le3BPi3dtszN"
      },
      "source": [
        ""
      ],
      "execution_count": null,
      "outputs": []
    }
  ]
}