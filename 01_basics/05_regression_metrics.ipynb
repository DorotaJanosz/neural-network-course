{
  "nbformat": 4,
  "nbformat_minor": 0,
  "metadata": {
    "colab": {
      "name": "05_regression_metrics.ipynb",
      "provenance": [],
      "authorship_tag": "ABX9TyNFduEWm9alr4fM5ZM3mJkZ",
      "include_colab_link": true
    },
    "kernelspec": {
      "name": "python3",
      "display_name": "Python 3"
    }
  },
  "cells": [
    {
      "cell_type": "markdown",
      "metadata": {
        "id": "view-in-github",
        "colab_type": "text"
      },
      "source": [
        "<a href=\"https://colab.research.google.com/github/DorotaJanosz/neural-network-course/blob/master/01_basics/05_regression_metrics.ipynb\" target=\"_parent\"><img src=\"https://colab.research.google.com/assets/colab-badge.svg\" alt=\"Open In Colab\"/></a>"
      ]
    },
    {
      "cell_type": "code",
      "metadata": {
        "id": "7SGIPE_rdkWH"
      },
      "source": [
        "import numpy as np\n",
        "import pandas as pd"
      ],
      "execution_count": 1,
      "outputs": []
    },
    {
      "cell_type": "code",
      "metadata": {
        "id": "toMS7pERdsF3",
        "outputId": "5c0ac03e-2524-4bcb-d4f4-116f0df22079",
        "colab": {
          "base_uri": "https://localhost:8080/",
          "height": 253
        }
      },
      "source": [
        "y_true = 100 + 20 * np.random.randn(50)\n",
        "y_true"
      ],
      "execution_count": 2,
      "outputs": [
        {
          "output_type": "execute_result",
          "data": {
            "text/plain": [
              "array([146.32954088,  90.69119301,  83.33459532,  82.30092328,\n",
              "        88.27607498,  64.14386022,  84.26070391,  99.46947198,\n",
              "        83.4889716 , 115.33794706,  92.97959127,  66.60901878,\n",
              "        66.36006617, 116.28662046,  75.82989575,  76.69761614,\n",
              "       121.98574341,  76.80428959, 118.82844562, 119.81058327,\n",
              "        70.11684671, 100.58729888,  80.81731877,  95.44156134,\n",
              "       147.74960444,  95.13648245, 119.67216454, 102.0148655 ,\n",
              "       126.67162452, 114.00697324,  65.92334218, 119.01168309,\n",
              "        70.93954405,  88.94576396, 109.38058775,  81.41064008,\n",
              "       106.705619  ,  97.16369784,  97.29648077, 122.07533963,\n",
              "       105.7232487 , 157.12777041,  98.48377197,  98.13265803,\n",
              "       113.34470101, 110.97372681, 115.17919245,  97.11893436,\n",
              "        93.11098432,  64.59946533])"
            ]
          },
          "metadata": {
            "tags": []
          },
          "execution_count": 2
        }
      ]
    },
    {
      "cell_type": "code",
      "metadata": {
        "id": "xoouB-CTdvAP",
        "outputId": "6301eee1-62b5-4a56-d368-634de8c72d13",
        "colab": {
          "base_uri": "https://localhost:8080/",
          "height": 253
        }
      },
      "source": [
        "y_pred = y_true + 10 * np.random.randn(50)\n",
        "y_pred"
      ],
      "execution_count": 3,
      "outputs": [
        {
          "output_type": "execute_result",
          "data": {
            "text/plain": [
              "array([148.83158173, 101.44027014, 102.35068166,  72.15443975,\n",
              "        93.30064295,  69.86319453,  79.26748278,  99.00239432,\n",
              "        84.40656103, 122.20595464,  76.18000996,  64.64429783,\n",
              "        53.29061352,  96.63351385,  77.50035193,  83.47021267,\n",
              "       122.97634883,  60.71544892, 129.79630474, 120.80883277,\n",
              "        90.18617667, 102.17877629,  81.68221026,  93.37905699,\n",
              "       143.81404061,  90.970965  , 104.89921618,  96.86510669,\n",
              "       133.69620979, 103.45403763,  57.83921093, 116.30827756,\n",
              "        62.02818881,  73.29357524, 109.2131304 ,  63.79966727,\n",
              "       115.98543304,  95.51148707,  99.24302452, 123.19119286,\n",
              "        91.43362901, 166.61653039,  86.79809313,  93.53394487,\n",
              "       111.24852504, 111.82797608, 119.63539097,  94.18365987,\n",
              "        97.23724832,  71.48184072])"
            ]
          },
          "metadata": {
            "tags": []
          },
          "execution_count": 3
        }
      ]
    },
    {
      "cell_type": "code",
      "metadata": {
        "id": "fRy9YXEtd1_Y",
        "outputId": "6e6ffd16-0a59-41dd-d990-c7f77d312f5c",
        "colab": {
          "base_uri": "https://localhost:8080/",
          "height": 206
        }
      },
      "source": [
        "results = pd.DataFrame({'y_true': y_true, 'y_pred': y_pred})\n",
        "results.head()"
      ],
      "execution_count": 4,
      "outputs": [
        {
          "output_type": "execute_result",
          "data": {
            "text/html": [
              "<div>\n",
              "<style scoped>\n",
              "    .dataframe tbody tr th:only-of-type {\n",
              "        vertical-align: middle;\n",
              "    }\n",
              "\n",
              "    .dataframe tbody tr th {\n",
              "        vertical-align: top;\n",
              "    }\n",
              "\n",
              "    .dataframe thead th {\n",
              "        text-align: right;\n",
              "    }\n",
              "</style>\n",
              "<table border=\"1\" class=\"dataframe\">\n",
              "  <thead>\n",
              "    <tr style=\"text-align: right;\">\n",
              "      <th></th>\n",
              "      <th>y_true</th>\n",
              "      <th>y_pred</th>\n",
              "    </tr>\n",
              "  </thead>\n",
              "  <tbody>\n",
              "    <tr>\n",
              "      <th>0</th>\n",
              "      <td>146.329541</td>\n",
              "      <td>148.831582</td>\n",
              "    </tr>\n",
              "    <tr>\n",
              "      <th>1</th>\n",
              "      <td>90.691193</td>\n",
              "      <td>101.440270</td>\n",
              "    </tr>\n",
              "    <tr>\n",
              "      <th>2</th>\n",
              "      <td>83.334595</td>\n",
              "      <td>102.350682</td>\n",
              "    </tr>\n",
              "    <tr>\n",
              "      <th>3</th>\n",
              "      <td>82.300923</td>\n",
              "      <td>72.154440</td>\n",
              "    </tr>\n",
              "    <tr>\n",
              "      <th>4</th>\n",
              "      <td>88.276075</td>\n",
              "      <td>93.300643</td>\n",
              "    </tr>\n",
              "  </tbody>\n",
              "</table>\n",
              "</div>"
            ],
            "text/plain": [
              "       y_true      y_pred\n",
              "0  146.329541  148.831582\n",
              "1   90.691193  101.440270\n",
              "2   83.334595  102.350682\n",
              "3   82.300923   72.154440\n",
              "4   88.276075   93.300643"
            ]
          },
          "metadata": {
            "tags": []
          },
          "execution_count": 4
        }
      ]
    },
    {
      "cell_type": "code",
      "metadata": {
        "id": "L-HcnpdSd415",
        "outputId": "94adea67-6925-4753-cbd3-1bfd47f9f8cb",
        "colab": {
          "base_uri": "https://localhost:8080/",
          "height": 206
        }
      },
      "source": [
        "results['error'] = results['y_true'] - results['y_pred']\n",
        "results.head()"
      ],
      "execution_count": 5,
      "outputs": [
        {
          "output_type": "execute_result",
          "data": {
            "text/html": [
              "<div>\n",
              "<style scoped>\n",
              "    .dataframe tbody tr th:only-of-type {\n",
              "        vertical-align: middle;\n",
              "    }\n",
              "\n",
              "    .dataframe tbody tr th {\n",
              "        vertical-align: top;\n",
              "    }\n",
              "\n",
              "    .dataframe thead th {\n",
              "        text-align: right;\n",
              "    }\n",
              "</style>\n",
              "<table border=\"1\" class=\"dataframe\">\n",
              "  <thead>\n",
              "    <tr style=\"text-align: right;\">\n",
              "      <th></th>\n",
              "      <th>y_true</th>\n",
              "      <th>y_pred</th>\n",
              "      <th>error</th>\n",
              "    </tr>\n",
              "  </thead>\n",
              "  <tbody>\n",
              "    <tr>\n",
              "      <th>0</th>\n",
              "      <td>146.329541</td>\n",
              "      <td>148.831582</td>\n",
              "      <td>-2.502041</td>\n",
              "    </tr>\n",
              "    <tr>\n",
              "      <th>1</th>\n",
              "      <td>90.691193</td>\n",
              "      <td>101.440270</td>\n",
              "      <td>-10.749077</td>\n",
              "    </tr>\n",
              "    <tr>\n",
              "      <th>2</th>\n",
              "      <td>83.334595</td>\n",
              "      <td>102.350682</td>\n",
              "      <td>-19.016086</td>\n",
              "    </tr>\n",
              "    <tr>\n",
              "      <th>3</th>\n",
              "      <td>82.300923</td>\n",
              "      <td>72.154440</td>\n",
              "      <td>10.146484</td>\n",
              "    </tr>\n",
              "    <tr>\n",
              "      <th>4</th>\n",
              "      <td>88.276075</td>\n",
              "      <td>93.300643</td>\n",
              "      <td>-5.024568</td>\n",
              "    </tr>\n",
              "  </tbody>\n",
              "</table>\n",
              "</div>"
            ],
            "text/plain": [
              "       y_true      y_pred      error\n",
              "0  146.329541  148.831582  -2.502041\n",
              "1   90.691193  101.440270 -10.749077\n",
              "2   83.334595  102.350682 -19.016086\n",
              "3   82.300923   72.154440  10.146484\n",
              "4   88.276075   93.300643  -5.024568"
            ]
          },
          "metadata": {
            "tags": []
          },
          "execution_count": 5
        }
      ]
    },
    {
      "cell_type": "markdown",
      "metadata": {
        "id": "PjBOqsk4d98e"
      },
      "source": [
        "###MAE"
      ]
    },
    {
      "cell_type": "code",
      "metadata": {
        "id": "xwdxL_lhd7kl",
        "outputId": "79e66996-a5fe-473b-d9fb-2cac70f97386",
        "colab": {
          "base_uri": "https://localhost:8080/",
          "height": 35
        }
      },
      "source": [
        "from tensorflow.keras.losses import mean_absolute_error\n",
        "mean_absolute_error(y_true, y_pred)"
      ],
      "execution_count": 6,
      "outputs": [
        {
          "output_type": "execute_result",
          "data": {
            "text/plain": [
              "<tf.Tensor: shape=(), dtype=float64, numpy=7.082114186990315>"
            ]
          },
          "metadata": {
            "tags": []
          },
          "execution_count": 6
        }
      ]
    },
    {
      "cell_type": "markdown",
      "metadata": {
        "id": "qFBinlOMeINn"
      },
      "source": [
        "###MSE"
      ]
    },
    {
      "cell_type": "code",
      "metadata": {
        "id": "Xnm-RWEVeBxb",
        "outputId": "95b762e8-a4d7-44b6-a6ed-b003bc07b183",
        "colab": {
          "base_uri": "https://localhost:8080/",
          "height": 35
        }
      },
      "source": [
        "from tensorflow.keras.losses import mean_squared_error\n",
        "mse = mean_squared_error(y_true, y_pred)\n",
        "mse"
      ],
      "execution_count": 7,
      "outputs": [
        {
          "output_type": "execute_result",
          "data": {
            "text/plain": [
              "<tf.Tensor: shape=(), dtype=float64, numpy=83.80141225759127>"
            ]
          },
          "metadata": {
            "tags": []
          },
          "execution_count": 7
        }
      ]
    },
    {
      "cell_type": "markdown",
      "metadata": {
        "id": "QL80ui1meTQE"
      },
      "source": [
        "###RMSE"
      ]
    },
    {
      "cell_type": "code",
      "metadata": {
        "id": "Gl_wkANQeS0C",
        "outputId": "d8fd692f-ec20-464b-d768-f9040890b985",
        "colab": {
          "base_uri": "https://localhost:8080/",
          "height": 35
        }
      },
      "source": [
        "np.sqrt(mse)"
      ],
      "execution_count": 8,
      "outputs": [
        {
          "output_type": "execute_result",
          "data": {
            "text/plain": [
              "9.154311129603979"
            ]
          },
          "metadata": {
            "tags": []
          },
          "execution_count": 8
        }
      ]
    },
    {
      "cell_type": "markdown",
      "metadata": {
        "id": "EuMzsISReaAC"
      },
      "source": [
        "###Max Error"
      ]
    },
    {
      "cell_type": "code",
      "metadata": {
        "id": "k_N2cm2WeZol",
        "outputId": "34643857-4daf-4b94-bbbd-7050f4b2857e",
        "colab": {
          "base_uri": "https://localhost:8080/",
          "height": 35
        }
      },
      "source": [
        "from sklearn.metrics import max_error\n",
        "\n",
        "max_error(y_true, y_pred)"
      ],
      "execution_count": 9,
      "outputs": [
        {
          "output_type": "execute_result",
          "data": {
            "text/plain": [
              "20.06932995767238"
            ]
          },
          "metadata": {
            "tags": []
          },
          "execution_count": 9
        }
      ]
    },
    {
      "cell_type": "markdown",
      "metadata": {
        "id": "4OK1mDX5eg-6"
      },
      "source": [
        "###R2 Score"
      ]
    },
    {
      "cell_type": "code",
      "metadata": {
        "id": "Cp39D3WWeOd-",
        "outputId": "55cc786d-5728-410d-a5ac-7990a997020d",
        "colab": {
          "base_uri": "https://localhost:8080/",
          "height": 35
        }
      },
      "source": [
        "from sklearn.metrics import r2_score\n",
        "\n",
        "r2_score(y_true, y_pred)"
      ],
      "execution_count": 10,
      "outputs": [
        {
          "output_type": "execute_result",
          "data": {
            "text/plain": [
              "0.8244587195227727"
            ]
          },
          "metadata": {
            "tags": []
          },
          "execution_count": 10
        }
      ]
    },
    {
      "cell_type": "code",
      "metadata": {
        "id": "VoDHdY9Met0Q"
      },
      "source": [
        ""
      ],
      "execution_count": null,
      "outputs": []
    }
  ]
}