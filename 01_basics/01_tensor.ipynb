{
  "nbformat": 4,
  "nbformat_minor": 0,
  "metadata": {
    "colab": {
      "name": "01_tensor.ipynb",
      "provenance": [],
      "authorship_tag": "ABX9TyO8fFKxFelBj1x9IZA4ajRu",
      "include_colab_link": true
    },
    "kernelspec": {
      "name": "python3",
      "display_name": "Python 3"
    }
  },
  "cells": [
    {
      "cell_type": "markdown",
      "metadata": {
        "id": "view-in-github",
        "colab_type": "text"
      },
      "source": [
        "<a href=\"https://colab.research.google.com/github/DorotaJanosz/neural-network-course/blob/master/01_basics/01_tensor.ipynb\" target=\"_parent\"><img src=\"https://colab.research.google.com/assets/colab-badge.svg\" alt=\"Open In Colab\"/></a>"
      ]
    },
    {
      "cell_type": "code",
      "metadata": {
        "id": "kBCgwt9xYXzq"
      },
      "source": [
        "import numpy as np"
      ],
      "execution_count": 1,
      "outputs": []
    },
    {
      "cell_type": "markdown",
      "metadata": {
        "id": "zfsNK5HYZI8m"
      },
      "source": [
        "###Skalar"
      ]
    },
    {
      "cell_type": "code",
      "metadata": {
        "id": "5P52vJifZH2f",
        "outputId": "76069eb2-b9ad-447c-e03c-60cfa94fe2e6",
        "colab": {
          "base_uri": "https://localhost:8080/",
          "height": 53
        }
      },
      "source": [
        "scalar = 3\n",
        "print(scalar)\n",
        "print(type(scalar))"
      ],
      "execution_count": 3,
      "outputs": [
        {
          "output_type": "stream",
          "text": [
            "3\n",
            "<class 'int'>\n"
          ],
          "name": "stdout"
        }
      ]
    },
    {
      "cell_type": "code",
      "metadata": {
        "id": "bCoP3__MZRAe",
        "outputId": "96cef17f-a6ab-474b-89cb-5ac6fdd8ed57",
        "colab": {
          "base_uri": "https://localhost:8080/",
          "height": 53
        }
      },
      "source": [
        "scalar = 3.0\n",
        "print(scalar)\n",
        "print(type(scalar))"
      ],
      "execution_count": 4,
      "outputs": [
        {
          "output_type": "stream",
          "text": [
            "3.0\n",
            "<class 'float'>\n"
          ],
          "name": "stdout"
        }
      ]
    },
    {
      "cell_type": "markdown",
      "metadata": {
        "id": "CGMtuY-PZdEd"
      },
      "source": [
        "###Wektor"
      ]
    },
    {
      "cell_type": "code",
      "metadata": {
        "id": "Z6N5tnOUZazR",
        "outputId": "78feebf3-765b-4972-f5f4-d8dbcebf564b",
        "colab": {
          "base_uri": "https://localhost:8080/",
          "height": 126
        }
      },
      "source": [
        "vector = np.array([2, 4, -6, 5])\n",
        "print(vector)\n",
        "print(type(vector))\n",
        "print(f'Rozmiar wektora {vector.shape}')\n",
        "print(f'Typ danych wektora {vector.dtype}')\n",
        "print(f'Rząd wektora {vector.ndim}')\n",
        "print(f'Długość wektora {len(vector)}')"
      ],
      "execution_count": 7,
      "outputs": [
        {
          "output_type": "stream",
          "text": [
            "[ 2  4 -6  5]\n",
            "<class 'numpy.ndarray'>\n",
            "Rozmiar wektora (4,)\n",
            "Typ danych wektora int64\n",
            "Rząd wektora 1\n",
            "Długość wektora 4\n"
          ],
          "name": "stdout"
        }
      ]
    },
    {
      "cell_type": "code",
      "metadata": {
        "id": "4de4M8_sZ3tW",
        "outputId": "a2778968-ec84-43bf-9bcb-dfade05240d6",
        "colab": {
          "base_uri": "https://localhost:8080/",
          "height": 53
        }
      },
      "source": [
        "vector = np.array([2, 4, -6, 5], dtype='float')\n",
        "print(vector)\n",
        "print(f'Typ danych wektora {vector.dtype}')"
      ],
      "execution_count": 9,
      "outputs": [
        {
          "output_type": "stream",
          "text": [
            "[ 2.  4. -6.  5.]\n",
            "Typ danych wektora float64\n"
          ],
          "name": "stdout"
        }
      ]
    },
    {
      "cell_type": "markdown",
      "metadata": {
        "id": "NPJIIeQbapRl"
      },
      "source": [
        "###Macierz"
      ]
    },
    {
      "cell_type": "code",
      "metadata": {
        "id": "tomHq0rhagDj",
        "outputId": "02cea36f-dde7-4efe-b346-4fcfa45ee17b",
        "colab": {
          "base_uri": "https://localhost:8080/",
          "height": 144
        }
      },
      "source": [
        "array = np.array([[2, 6, 3],\n",
        "                  [5, -3, 4]])\n",
        "print(array)\n",
        "print(type(array))\n",
        "print(f'Rozmiar wektora {array.shape}')\n",
        "print(f'Typ danych wektora {array.dtype}')\n",
        "print(f'Rząd wektora {array.ndim}')\n",
        "print(f'Długość wektora {len(array)}')"
      ],
      "execution_count": 13,
      "outputs": [
        {
          "output_type": "stream",
          "text": [
            "[[ 2  6  3]\n",
            " [ 5 -3  4]]\n",
            "<class 'numpy.ndarray'>\n",
            "Rozmiar wektora (2, 3)\n",
            "Typ danych wektora int64\n",
            "Rząd wektora 2\n",
            "Długość wektora 2\n"
          ],
          "name": "stdout"
        }
      ]
    },
    {
      "cell_type": "markdown",
      "metadata": {
        "id": "cojYrBptbjNt"
      },
      "source": [
        "###Tensor"
      ]
    },
    {
      "cell_type": "code",
      "metadata": {
        "id": "jq9ZXjHea2GG",
        "outputId": "f8a47161-9870-4776-b446-45ddbecfb9ed",
        "colab": {
          "base_uri": "https://localhost:8080/",
          "height": 199
        }
      },
      "source": [
        "tensor = np.array([\n",
        "                   [[1, 2, 3],\n",
        "                    [4, 5, 6]],\n",
        "                   [[7, 8, 9],\n",
        "                    [3, 7, 3]]\n",
        "])\n",
        "print(tensor)\n",
        "print(type(tensor))\n",
        "print(f'Rozmiar wektora {tensor.shape}')\n",
        "print(f'Typ danych wektora {tensor.dtype}')\n",
        "print(f'Rząd wektora {tensor.ndim}')\n",
        "print(f'Długość wektora {len(tensor)}')"
      ],
      "execution_count": 16,
      "outputs": [
        {
          "output_type": "stream",
          "text": [
            "[[[1 2 3]\n",
            "  [4 5 6]]\n",
            "\n",
            " [[7 8 9]\n",
            "  [3 7 3]]]\n",
            "<class 'numpy.ndarray'>\n",
            "Rozmiar wektora (2, 2, 3)\n",
            "Typ danych wektora int64\n",
            "Rząd wektora 3\n",
            "Długość wektora 2\n"
          ],
          "name": "stdout"
        }
      ]
    },
    {
      "cell_type": "code",
      "metadata": {
        "id": "e79BGDlgcHLM",
        "outputId": "15e27f10-74bd-44d0-87ef-29507fbc4e18",
        "colab": {
          "base_uri": "https://localhost:8080/",
          "height": 253
        }
      },
      "source": [
        "tensor = np.array([\n",
        "                   [[1, 2, 3],\n",
        "                    [4, 5, 6]],\n",
        "                   [[7, 8, 9],\n",
        "                    [3, 7, 3]],\n",
        "                   [[1, 5, 8],\n",
        "                    [6, 3, 5]]\n",
        "])\n",
        "print(tensor)\n",
        "print(type(tensor))\n",
        "print(f'Rozmiar wektora {tensor.shape}')\n",
        "print(f'Typ danych wektora {tensor.dtype}')\n",
        "print(f'Rząd wektora {tensor.ndim}')\n",
        "print(f'Długość wektora {len(tensor)}')"
      ],
      "execution_count": 17,
      "outputs": [
        {
          "output_type": "stream",
          "text": [
            "[[[1 2 3]\n",
            "  [4 5 6]]\n",
            "\n",
            " [[7 8 9]\n",
            "  [3 7 3]]\n",
            "\n",
            " [[1 5 8]\n",
            "  [6 3 5]]]\n",
            "<class 'numpy.ndarray'>\n",
            "Rozmiar wektora (3, 2, 3)\n",
            "Typ danych wektora int64\n",
            "Rząd wektora 3\n",
            "Długość wektora 3\n"
          ],
          "name": "stdout"
        }
      ]
    },
    {
      "cell_type": "code",
      "metadata": {
        "id": "pX5aoB9HctQ5",
        "outputId": "bf449dd4-6a0c-4dd9-ca68-16f496507ae8",
        "colab": {
          "base_uri": "https://localhost:8080/",
          "height": 53
        }
      },
      "source": [
        "tensor[0]"
      ],
      "execution_count": 18,
      "outputs": [
        {
          "output_type": "execute_result",
          "data": {
            "text/plain": [
              "array([[1, 2, 3],\n",
              "       [4, 5, 6]])"
            ]
          },
          "metadata": {
            "tags": []
          },
          "execution_count": 18
        }
      ]
    },
    {
      "cell_type": "code",
      "metadata": {
        "id": "eAvWEtl7dDFb",
        "outputId": "9b1be9eb-2970-4f33-ccfe-7932d567d318",
        "colab": {
          "base_uri": "https://localhost:8080/",
          "height": 108
        }
      },
      "source": [
        "tensor[1:]"
      ],
      "execution_count": 19,
      "outputs": [
        {
          "output_type": "execute_result",
          "data": {
            "text/plain": [
              "array([[[7, 8, 9],\n",
              "        [3, 7, 3]],\n",
              "\n",
              "       [[1, 5, 8],\n",
              "        [6, 3, 5]]])"
            ]
          },
          "metadata": {
            "tags": []
          },
          "execution_count": 19
        }
      ]
    },
    {
      "cell_type": "code",
      "metadata": {
        "id": "h2hZbH0WdFAl"
      },
      "source": [
        ""
      ],
      "execution_count": null,
      "outputs": []
    }
  ]
}